{
  "nbformat": 4,
  "nbformat_minor": 0,
  "metadata": {
    "colab": {
      "provenance": [],
      "authorship_tag": "ABX9TyMK2dh9DMNS09EIoFqfz/E0",
      "include_colab_link": true
    },
    "kernelspec": {
      "name": "python3",
      "display_name": "Python 3"
    },
    "language_info": {
      "name": "python"
    }
  },
  "cells": [
    {
      "cell_type": "markdown",
      "metadata": {
        "id": "view-in-github",
        "colab_type": "text"
      },
      "source": [
        "<a href=\"https://colab.research.google.com/github/PadidalaHimabindu/AIML_BATCH-3/blob/main/AIML_Project.ipynb\" target=\"_parent\"><img src=\"https://colab.research.google.com/assets/colab-badge.svg\" alt=\"Open In Colab\"/></a>"
      ]
    },
    {
      "cell_type": "code",
      "execution_count": 1,
      "metadata": {
        "colab": {
          "base_uri": "https://localhost:8080/"
        },
        "id": "uLB5L2PZ-e7x",
        "outputId": "51d6134d-3b9f-481f-c8e6-6dee1a48b366"
      },
      "outputs": [
        {
          "output_type": "stream",
          "name": "stdout",
          "text": [
            "                   STATE_UT_NAME        DISTRICT    JAN   FEB    MAR    APR  \\\n",
            "0    ANDAMAN And NICOBAR ISLANDS         NICOBAR  107.3  57.9   65.2  117.0   \n",
            "1    ANDAMAN And NICOBAR ISLANDS   SOUTH ANDAMAN   43.7  26.0   18.6   90.5   \n",
            "2    ANDAMAN And NICOBAR ISLANDS   N & M ANDAMAN   32.7  15.9    8.6   53.4   \n",
            "3              ARUNACHAL PRADESH           LOHIT   42.2  80.8  176.4  358.5   \n",
            "4              ARUNACHAL PRADESH      EAST SIANG   33.3  79.5  105.9  216.5   \n",
            "..                           ...             ...    ...   ...    ...    ...   \n",
            "636                       KERALA          IDUKKI   13.4  22.1   43.6  150.4   \n",
            "637                       KERALA        KASARGOD    2.3   1.0    8.4   46.9   \n",
            "638                       KERALA  PATHANAMTHITTA   19.8  45.2   73.9  184.9   \n",
            "639                       KERALA         WAYANAD    4.8   8.3   17.5   83.3   \n",
            "640                  LAKSHADWEEP     LAKSHADWEEP   20.8  14.7   11.8   48.9   \n",
            "\n",
            "       MAY    JUN     JUL    AUG    SEP    OCT    NOV    DEC  ANNUAL  Jan-Feb  \\\n",
            "0    358.5  295.5   285.0  271.9  354.8  326.0  315.2  250.9  2805.2    165.2   \n",
            "1    374.4  457.2   421.3  423.1  455.6  301.2  275.8  128.3  3015.7     69.7   \n",
            "2    343.6  503.3   465.4  460.9  454.8  276.1  198.6  100.0  2913.3     48.6   \n",
            "3    306.4  447.0   660.1  427.8  313.6  167.1   34.1   29.8  3043.8    123.0   \n",
            "4    323.0  738.3   990.9  711.2  568.0  206.9   29.5   31.7  4034.7    112.8   \n",
            "..     ...    ...     ...    ...    ...    ...    ...    ...     ...      ...   \n",
            "636  232.6  651.6   788.9  527.3  308.4  343.2  172.9   48.1  3302.5     35.5   \n",
            "637  217.6  999.6  1108.5  636.3  263.1  234.9   84.6   18.4  3621.6      3.3   \n",
            "638  294.7  556.9   539.9  352.7  266.2  359.4  213.5   51.3  2958.4     65.0   \n",
            "639  174.6  698.1  1110.4  592.9  230.7  213.1   93.6   25.8  3253.1     13.1   \n",
            "640  171.7  330.2   287.7  217.5  163.1  157.1  117.7   58.8  1600.0     35.5   \n",
            "\n",
            "     Mar-May  Jun-Sep  Oct-Dec  \n",
            "0      540.7   1207.2    892.1  \n",
            "1      483.5   1757.2    705.3  \n",
            "2      405.6   1884.4    574.7  \n",
            "3      841.3   1848.5    231.0  \n",
            "4      645.4   3008.4    268.1  \n",
            "..       ...      ...      ...  \n",
            "636    426.6   2276.2    564.2  \n",
            "637    272.9   3007.5    337.9  \n",
            "638    553.5   1715.7    624.2  \n",
            "639    275.4   2632.1    332.5  \n",
            "640    232.4    998.5    333.6  \n",
            "\n",
            "[641 rows x 19 columns]\n"
          ]
        }
      ],
      "source": [
        "import pandas as pd\n",
        "d=pd.read_csv('/content/district.csv')\n",
        "print(d)"
      ]
    },
    {
      "cell_type": "code",
      "source": [
        "y=d['ANNUAL']\n",
        "print(y)"
      ],
      "metadata": {
        "colab": {
          "base_uri": "https://localhost:8080/"
        },
        "id": "5SnmxxcToSQc",
        "outputId": "a4726df8-ab2a-4a4a-f46d-7e96e8508481"
      },
      "execution_count": 2,
      "outputs": [
        {
          "output_type": "stream",
          "name": "stdout",
          "text": [
            "0      2805.2\n",
            "1      3015.7\n",
            "2      2913.3\n",
            "3      3043.8\n",
            "4      4034.7\n",
            "        ...  \n",
            "636    3302.5\n",
            "637    3621.6\n",
            "638    2958.4\n",
            "639    3253.1\n",
            "640    1600.0\n",
            "Name: ANNUAL, Length: 641, dtype: float64\n"
          ]
        }
      ]
    },
    {
      "cell_type": "code",
      "source": [
        "x=d.drop(columns=['ANNUAL'])\n",
        "print(x)\n",
        "x=x.drop(columns=['STATE_UT_NAME'])"
      ],
      "metadata": {
        "colab": {
          "base_uri": "https://localhost:8080/"
        },
        "id": "q_YKTBi_oVYh",
        "outputId": "ffcab907-ec31-4fc4-f098-2ecab4c0c803"
      },
      "execution_count": 3,
      "outputs": [
        {
          "output_type": "stream",
          "name": "stdout",
          "text": [
            "                   STATE_UT_NAME        DISTRICT    JAN   FEB    MAR    APR  \\\n",
            "0    ANDAMAN And NICOBAR ISLANDS         NICOBAR  107.3  57.9   65.2  117.0   \n",
            "1    ANDAMAN And NICOBAR ISLANDS   SOUTH ANDAMAN   43.7  26.0   18.6   90.5   \n",
            "2    ANDAMAN And NICOBAR ISLANDS   N & M ANDAMAN   32.7  15.9    8.6   53.4   \n",
            "3              ARUNACHAL PRADESH           LOHIT   42.2  80.8  176.4  358.5   \n",
            "4              ARUNACHAL PRADESH      EAST SIANG   33.3  79.5  105.9  216.5   \n",
            "..                           ...             ...    ...   ...    ...    ...   \n",
            "636                       KERALA          IDUKKI   13.4  22.1   43.6  150.4   \n",
            "637                       KERALA        KASARGOD    2.3   1.0    8.4   46.9   \n",
            "638                       KERALA  PATHANAMTHITTA   19.8  45.2   73.9  184.9   \n",
            "639                       KERALA         WAYANAD    4.8   8.3   17.5   83.3   \n",
            "640                  LAKSHADWEEP     LAKSHADWEEP   20.8  14.7   11.8   48.9   \n",
            "\n",
            "       MAY    JUN     JUL    AUG    SEP    OCT    NOV    DEC  Jan-Feb  \\\n",
            "0    358.5  295.5   285.0  271.9  354.8  326.0  315.2  250.9    165.2   \n",
            "1    374.4  457.2   421.3  423.1  455.6  301.2  275.8  128.3     69.7   \n",
            "2    343.6  503.3   465.4  460.9  454.8  276.1  198.6  100.0     48.6   \n",
            "3    306.4  447.0   660.1  427.8  313.6  167.1   34.1   29.8    123.0   \n",
            "4    323.0  738.3   990.9  711.2  568.0  206.9   29.5   31.7    112.8   \n",
            "..     ...    ...     ...    ...    ...    ...    ...    ...      ...   \n",
            "636  232.6  651.6   788.9  527.3  308.4  343.2  172.9   48.1     35.5   \n",
            "637  217.6  999.6  1108.5  636.3  263.1  234.9   84.6   18.4      3.3   \n",
            "638  294.7  556.9   539.9  352.7  266.2  359.4  213.5   51.3     65.0   \n",
            "639  174.6  698.1  1110.4  592.9  230.7  213.1   93.6   25.8     13.1   \n",
            "640  171.7  330.2   287.7  217.5  163.1  157.1  117.7   58.8     35.5   \n",
            "\n",
            "     Mar-May  Jun-Sep  Oct-Dec  \n",
            "0      540.7   1207.2    892.1  \n",
            "1      483.5   1757.2    705.3  \n",
            "2      405.6   1884.4    574.7  \n",
            "3      841.3   1848.5    231.0  \n",
            "4      645.4   3008.4    268.1  \n",
            "..       ...      ...      ...  \n",
            "636    426.6   2276.2    564.2  \n",
            "637    272.9   3007.5    337.9  \n",
            "638    553.5   1715.7    624.2  \n",
            "639    275.4   2632.1    332.5  \n",
            "640    232.4    998.5    333.6  \n",
            "\n",
            "[641 rows x 18 columns]\n"
          ]
        }
      ]
    },
    {
      "cell_type": "code",
      "source": [
        "x=x.drop(columns=['DISTRICT'])\n",
        "print(x)"
      ],
      "metadata": {
        "colab": {
          "base_uri": "https://localhost:8080/"
        },
        "id": "Xeg--kZPoZOW",
        "outputId": "ba845a26-7155-41dd-b57f-4f5b60388ea8"
      },
      "execution_count": 4,
      "outputs": [
        {
          "output_type": "stream",
          "name": "stdout",
          "text": [
            "       JAN   FEB    MAR    APR    MAY    JUN     JUL    AUG    SEP    OCT  \\\n",
            "0    107.3  57.9   65.2  117.0  358.5  295.5   285.0  271.9  354.8  326.0   \n",
            "1     43.7  26.0   18.6   90.5  374.4  457.2   421.3  423.1  455.6  301.2   \n",
            "2     32.7  15.9    8.6   53.4  343.6  503.3   465.4  460.9  454.8  276.1   \n",
            "3     42.2  80.8  176.4  358.5  306.4  447.0   660.1  427.8  313.6  167.1   \n",
            "4     33.3  79.5  105.9  216.5  323.0  738.3   990.9  711.2  568.0  206.9   \n",
            "..     ...   ...    ...    ...    ...    ...     ...    ...    ...    ...   \n",
            "636   13.4  22.1   43.6  150.4  232.6  651.6   788.9  527.3  308.4  343.2   \n",
            "637    2.3   1.0    8.4   46.9  217.6  999.6  1108.5  636.3  263.1  234.9   \n",
            "638   19.8  45.2   73.9  184.9  294.7  556.9   539.9  352.7  266.2  359.4   \n",
            "639    4.8   8.3   17.5   83.3  174.6  698.1  1110.4  592.9  230.7  213.1   \n",
            "640   20.8  14.7   11.8   48.9  171.7  330.2   287.7  217.5  163.1  157.1   \n",
            "\n",
            "       NOV    DEC  Jan-Feb  Mar-May  Jun-Sep  Oct-Dec  \n",
            "0    315.2  250.9    165.2    540.7   1207.2    892.1  \n",
            "1    275.8  128.3     69.7    483.5   1757.2    705.3  \n",
            "2    198.6  100.0     48.6    405.6   1884.4    574.7  \n",
            "3     34.1   29.8    123.0    841.3   1848.5    231.0  \n",
            "4     29.5   31.7    112.8    645.4   3008.4    268.1  \n",
            "..     ...    ...      ...      ...      ...      ...  \n",
            "636  172.9   48.1     35.5    426.6   2276.2    564.2  \n",
            "637   84.6   18.4      3.3    272.9   3007.5    337.9  \n",
            "638  213.5   51.3     65.0    553.5   1715.7    624.2  \n",
            "639   93.6   25.8     13.1    275.4   2632.1    332.5  \n",
            "640  117.7   58.8     35.5    232.4    998.5    333.6  \n",
            "\n",
            "[641 rows x 16 columns]\n"
          ]
        }
      ]
    },
    {
      "cell_type": "code",
      "source": [
        "print(x)\n",
        "print(y)"
      ],
      "metadata": {
        "colab": {
          "base_uri": "https://localhost:8080/"
        },
        "id": "vLN3jUA6ocv5",
        "outputId": "c380905c-a770-41f6-cf36-fa81e41d6363"
      },
      "execution_count": 5,
      "outputs": [
        {
          "output_type": "stream",
          "name": "stdout",
          "text": [
            "       JAN   FEB    MAR    APR    MAY    JUN     JUL    AUG    SEP    OCT  \\\n",
            "0    107.3  57.9   65.2  117.0  358.5  295.5   285.0  271.9  354.8  326.0   \n",
            "1     43.7  26.0   18.6   90.5  374.4  457.2   421.3  423.1  455.6  301.2   \n",
            "2     32.7  15.9    8.6   53.4  343.6  503.3   465.4  460.9  454.8  276.1   \n",
            "3     42.2  80.8  176.4  358.5  306.4  447.0   660.1  427.8  313.6  167.1   \n",
            "4     33.3  79.5  105.9  216.5  323.0  738.3   990.9  711.2  568.0  206.9   \n",
            "..     ...   ...    ...    ...    ...    ...     ...    ...    ...    ...   \n",
            "636   13.4  22.1   43.6  150.4  232.6  651.6   788.9  527.3  308.4  343.2   \n",
            "637    2.3   1.0    8.4   46.9  217.6  999.6  1108.5  636.3  263.1  234.9   \n",
            "638   19.8  45.2   73.9  184.9  294.7  556.9   539.9  352.7  266.2  359.4   \n",
            "639    4.8   8.3   17.5   83.3  174.6  698.1  1110.4  592.9  230.7  213.1   \n",
            "640   20.8  14.7   11.8   48.9  171.7  330.2   287.7  217.5  163.1  157.1   \n",
            "\n",
            "       NOV    DEC  Jan-Feb  Mar-May  Jun-Sep  Oct-Dec  \n",
            "0    315.2  250.9    165.2    540.7   1207.2    892.1  \n",
            "1    275.8  128.3     69.7    483.5   1757.2    705.3  \n",
            "2    198.6  100.0     48.6    405.6   1884.4    574.7  \n",
            "3     34.1   29.8    123.0    841.3   1848.5    231.0  \n",
            "4     29.5   31.7    112.8    645.4   3008.4    268.1  \n",
            "..     ...    ...      ...      ...      ...      ...  \n",
            "636  172.9   48.1     35.5    426.6   2276.2    564.2  \n",
            "637   84.6   18.4      3.3    272.9   3007.5    337.9  \n",
            "638  213.5   51.3     65.0    553.5   1715.7    624.2  \n",
            "639   93.6   25.8     13.1    275.4   2632.1    332.5  \n",
            "640  117.7   58.8     35.5    232.4    998.5    333.6  \n",
            "\n",
            "[641 rows x 16 columns]\n",
            "0      2805.2\n",
            "1      3015.7\n",
            "2      2913.3\n",
            "3      3043.8\n",
            "4      4034.7\n",
            "        ...  \n",
            "636    3302.5\n",
            "637    3621.6\n",
            "638    2958.4\n",
            "639    3253.1\n",
            "640    1600.0\n",
            "Name: ANNUAL, Length: 641, dtype: float64\n"
          ]
        }
      ]
    },
    {
      "cell_type": "code",
      "source": [
        "from sklearn.model_selection import train_test_split"
      ],
      "metadata": {
        "id": "ICG7fxX2ogAk"
      },
      "execution_count": 6,
      "outputs": []
    },
    {
      "cell_type": "code",
      "source": [
        "print(x.shape)\n",
        "x_train,x_test,y_train,y_test=train_test_split(x,y,random_state=True,test_size=0.20)"
      ],
      "metadata": {
        "colab": {
          "base_uri": "https://localhost:8080/"
        },
        "id": "ls10MmASojo2",
        "outputId": "b95f6300-fb0f-4a92-a7e4-bbd14e36ef99"
      },
      "execution_count": 7,
      "outputs": [
        {
          "output_type": "stream",
          "name": "stdout",
          "text": [
            "(641, 16)\n"
          ]
        }
      ]
    },
    {
      "cell_type": "code",
      "source": [
        "from sklearn.linear_model import LinearRegression"
      ],
      "metadata": {
        "id": "CSB104mOonFM"
      },
      "execution_count": 8,
      "outputs": []
    },
    {
      "cell_type": "code",
      "source": [
        "lr=LinearRegression()"
      ],
      "metadata": {
        "id": "xx-8SUpwoqL2"
      },
      "execution_count": 9,
      "outputs": []
    },
    {
      "cell_type": "code",
      "source": [
        "mm=lr.fit(x_train,y_train)"
      ],
      "metadata": {
        "id": "jXno2NSkos2s"
      },
      "execution_count": 10,
      "outputs": []
    },
    {
      "cell_type": "code",
      "source": [
        "yp=mm.predict(x_test)"
      ],
      "metadata": {
        "id": "EuAPMPmfovmw"
      },
      "execution_count": 11,
      "outputs": []
    },
    {
      "cell_type": "code",
      "source": [
        "print(yp)"
      ],
      "metadata": {
        "colab": {
          "base_uri": "https://localhost:8080/"
        },
        "id": "t6xhKBdCoyip",
        "outputId": "e0e539eb-9179-4f74-eb78-8b10fdd1c716"
      },
      "execution_count": 12,
      "outputs": [
        {
          "output_type": "stream",
          "name": "stdout",
          "text": [
            "[1233.9 1223.4 1327.9 1057.6 2641.8  646.5  961.1 1070.6  485.7 1122.9\n",
            " 1029.6 3470.6 1209.3  308.1 2958.4  498.  2814.4 1796.5 1068.5  646.1\n",
            " 2440.7 1973.9 1081.4 2859.3 1293.1 3468.3  898.2  992.9 1235.7 1535.5\n",
            " 3094.5  966.7  793.4  449.2  747.1  544.  1803.2  818.   508.1 3218.7\n",
            "  746.9 2480.6  839.2 1336.5  460.6 1533.5 6379.9 1003.3  837.  1087.7\n",
            " 2127.5  622.8 1123.6  685.6 1366.2 1680.7 1481.6  788.4  777.  2512.6\n",
            "  992.2  747.1 1336.5  388.8  863.6 2805.2 1416.2  708.4 1293.3  902.6\n",
            "  974.9  747.1 1474.3  613.9  449.4  700.4 2731.1 1921.1  807.8 2123.9\n",
            " 1528.2  655.  1091.6 1618.3 3302.5  572.  1146.8 1385.5 1148.6 1109.9\n",
            " 2374.1  886.1 2116.9  818.7  897.4 2098.  1005.6  419.5  714.4 1363.3\n",
            " 1448.3  936.2 1155.4 1062.7  871.5  720.  1008.4  455.6 1192.2 1191.5\n",
            " 2814.4  986.3  963.9  252.9  850.1 1229.  1104.7  301.6 1474.1 3399.4\n",
            " 1010.8 1504.4 1530.9 1392.7 1584.9 1462.1  692.7 2556.6 1206.7]\n"
          ]
        }
      ]
    },
    {
      "cell_type": "code",
      "source": [
        "from sklearn.metrics import mean_squared_error\n",
        "print(mean_squared_error(yp,y_test))"
      ],
      "metadata": {
        "colab": {
          "base_uri": "https://localhost:8080/"
        },
        "id": "Hjj-AODMo1wY",
        "outputId": "6af5e72e-be54-4faa-8961-6f05055fc576"
      },
      "execution_count": 13,
      "outputs": [
        {
          "output_type": "stream",
          "name": "stdout",
          "text": [
            "2.862281872213113e-25\n"
          ]
        }
      ]
    },
    {
      "cell_type": "code",
      "source": [
        "from sklearn.metrics import mean_absolute_error\n",
        "print(mean_absolute_error(yp,y_test))"
      ],
      "metadata": {
        "colab": {
          "base_uri": "https://localhost:8080/"
        },
        "id": "vMvhja1ao4zr",
        "outputId": "c53729fc-c8fc-4f90-e3eb-c31169d5cb48"
      },
      "execution_count": 14,
      "outputs": [
        {
          "output_type": "stream",
          "name": "stdout",
          "text": [
            "3.615505827542091e-13\n"
          ]
        }
      ]
    },
    {
      "cell_type": "code",
      "source": [
        "mse = mean_squared_error(y_test, yp)\n",
        "print(\"Mean Squared Error:\", mse)"
      ],
      "metadata": {
        "colab": {
          "base_uri": "https://localhost:8080/"
        },
        "id": "oG6VGJHKo7VP",
        "outputId": "e7760720-d247-4757-9246-d2e3b0e0a4ad"
      },
      "execution_count": 15,
      "outputs": [
        {
          "output_type": "stream",
          "name": "stdout",
          "text": [
            "Mean Squared Error: 2.862281872213113e-25\n"
          ]
        }
      ]
    },
    {
      "cell_type": "code",
      "source": [
        "mae = mean_absolute_error(y_test, yp)\n",
        "print(\"Mean Absolute Error:\", mae)"
      ],
      "metadata": {
        "colab": {
          "base_uri": "https://localhost:8080/"
        },
        "id": "89xunHH9o-tA",
        "outputId": "a0e23069-873f-4625-a618-6712026ce790"
      },
      "execution_count": 16,
      "outputs": [
        {
          "output_type": "stream",
          "name": "stdout",
          "text": [
            "Mean Absolute Error: 3.615505827542091e-13\n"
          ]
        }
      ]
    },
    {
      "cell_type": "code",
      "source": [
        "from sklearn.tree import DecisionTreeRegressor"
      ],
      "metadata": {
        "id": "uVO0WiinpA9w"
      },
      "execution_count": 17,
      "outputs": []
    },
    {
      "cell_type": "code",
      "source": [
        "dt = DecisionTreeRegressor()"
      ],
      "metadata": {
        "id": "jkHzsRRopDqZ"
      },
      "execution_count": 18,
      "outputs": []
    },
    {
      "cell_type": "code",
      "source": [
        "dt.fit(x_train,y_train)"
      ],
      "metadata": {
        "colab": {
          "base_uri": "https://localhost:8080/",
          "height": 74
        },
        "id": "0E_toFaWpGtc",
        "outputId": "3019976a-aff4-45a2-8e1d-0d206f0a6b3d"
      },
      "execution_count": 19,
      "outputs": [
        {
          "output_type": "execute_result",
          "data": {
            "text/plain": [
              "DecisionTreeRegressor()"
            ],
            "text/html": [
              "<style>#sk-container-id-1 {color: black;background-color: white;}#sk-container-id-1 pre{padding: 0;}#sk-container-id-1 div.sk-toggleable {background-color: white;}#sk-container-id-1 label.sk-toggleable__label {cursor: pointer;display: block;width: 100%;margin-bottom: 0;padding: 0.3em;box-sizing: border-box;text-align: center;}#sk-container-id-1 label.sk-toggleable__label-arrow:before {content: \"▸\";float: left;margin-right: 0.25em;color: #696969;}#sk-container-id-1 label.sk-toggleable__label-arrow:hover:before {color: black;}#sk-container-id-1 div.sk-estimator:hover label.sk-toggleable__label-arrow:before {color: black;}#sk-container-id-1 div.sk-toggleable__content {max-height: 0;max-width: 0;overflow: hidden;text-align: left;background-color: #f0f8ff;}#sk-container-id-1 div.sk-toggleable__content pre {margin: 0.2em;color: black;border-radius: 0.25em;background-color: #f0f8ff;}#sk-container-id-1 input.sk-toggleable__control:checked~div.sk-toggleable__content {max-height: 200px;max-width: 100%;overflow: auto;}#sk-container-id-1 input.sk-toggleable__control:checked~label.sk-toggleable__label-arrow:before {content: \"▾\";}#sk-container-id-1 div.sk-estimator input.sk-toggleable__control:checked~label.sk-toggleable__label {background-color: #d4ebff;}#sk-container-id-1 div.sk-label input.sk-toggleable__control:checked~label.sk-toggleable__label {background-color: #d4ebff;}#sk-container-id-1 input.sk-hidden--visually {border: 0;clip: rect(1px 1px 1px 1px);clip: rect(1px, 1px, 1px, 1px);height: 1px;margin: -1px;overflow: hidden;padding: 0;position: absolute;width: 1px;}#sk-container-id-1 div.sk-estimator {font-family: monospace;background-color: #f0f8ff;border: 1px dotted black;border-radius: 0.25em;box-sizing: border-box;margin-bottom: 0.5em;}#sk-container-id-1 div.sk-estimator:hover {background-color: #d4ebff;}#sk-container-id-1 div.sk-parallel-item::after {content: \"\";width: 100%;border-bottom: 1px solid gray;flex-grow: 1;}#sk-container-id-1 div.sk-label:hover label.sk-toggleable__label {background-color: #d4ebff;}#sk-container-id-1 div.sk-serial::before {content: \"\";position: absolute;border-left: 1px solid gray;box-sizing: border-box;top: 0;bottom: 0;left: 50%;z-index: 0;}#sk-container-id-1 div.sk-serial {display: flex;flex-direction: column;align-items: center;background-color: white;padding-right: 0.2em;padding-left: 0.2em;position: relative;}#sk-container-id-1 div.sk-item {position: relative;z-index: 1;}#sk-container-id-1 div.sk-parallel {display: flex;align-items: stretch;justify-content: center;background-color: white;position: relative;}#sk-container-id-1 div.sk-item::before, #sk-container-id-1 div.sk-parallel-item::before {content: \"\";position: absolute;border-left: 1px solid gray;box-sizing: border-box;top: 0;bottom: 0;left: 50%;z-index: -1;}#sk-container-id-1 div.sk-parallel-item {display: flex;flex-direction: column;z-index: 1;position: relative;background-color: white;}#sk-container-id-1 div.sk-parallel-item:first-child::after {align-self: flex-end;width: 50%;}#sk-container-id-1 div.sk-parallel-item:last-child::after {align-self: flex-start;width: 50%;}#sk-container-id-1 div.sk-parallel-item:only-child::after {width: 0;}#sk-container-id-1 div.sk-dashed-wrapped {border: 1px dashed gray;margin: 0 0.4em 0.5em 0.4em;box-sizing: border-box;padding-bottom: 0.4em;background-color: white;}#sk-container-id-1 div.sk-label label {font-family: monospace;font-weight: bold;display: inline-block;line-height: 1.2em;}#sk-container-id-1 div.sk-label-container {text-align: center;}#sk-container-id-1 div.sk-container {/* jupyter's `normalize.less` sets `[hidden] { display: none; }` but bootstrap.min.css set `[hidden] { display: none !important; }` so we also need the `!important` here to be able to override the default hidden behavior on the sphinx rendered scikit-learn.org. See: https://github.com/scikit-learn/scikit-learn/issues/21755 */display: inline-block !important;position: relative;}#sk-container-id-1 div.sk-text-repr-fallback {display: none;}</style><div id=\"sk-container-id-1\" class=\"sk-top-container\"><div class=\"sk-text-repr-fallback\"><pre>DecisionTreeRegressor()</pre><b>In a Jupyter environment, please rerun this cell to show the HTML representation or trust the notebook. <br />On GitHub, the HTML representation is unable to render, please try loading this page with nbviewer.org.</b></div><div class=\"sk-container\" hidden><div class=\"sk-item\"><div class=\"sk-estimator sk-toggleable\"><input class=\"sk-toggleable__control sk-hidden--visually\" id=\"sk-estimator-id-1\" type=\"checkbox\" checked><label for=\"sk-estimator-id-1\" class=\"sk-toggleable__label sk-toggleable__label-arrow\">DecisionTreeRegressor</label><div class=\"sk-toggleable__content\"><pre>DecisionTreeRegressor()</pre></div></div></div></div></div>"
            ]
          },
          "metadata": {},
          "execution_count": 19
        }
      ]
    },
    {
      "cell_type": "code",
      "source": [
        "yp = dt.predict(x_test)"
      ],
      "metadata": {
        "id": "mSU6bTdzpJpM"
      },
      "execution_count": 20,
      "outputs": []
    },
    {
      "cell_type": "code",
      "source": [
        "mae = mean_absolute_error(y_test, yp)\n",
        "print(\"Mean Absolute Error:\", mae)"
      ],
      "metadata": {
        "colab": {
          "base_uri": "https://localhost:8080/"
        },
        "id": "3JodpWgppM6c",
        "outputId": "10fe3d59-3b5c-44a1-8c4a-69c30d77a8e6"
      },
      "execution_count": 21,
      "outputs": [
        {
          "output_type": "stream",
          "name": "stdout",
          "text": [
            "Mean Absolute Error: 79.41627906976744\n"
          ]
        }
      ]
    },
    {
      "cell_type": "code",
      "source": [
        "mse = mean_squared_error(y_test, yp)\n",
        "print(\"Mean Squared Error:\", mse)"
      ],
      "metadata": {
        "colab": {
          "base_uri": "https://localhost:8080/"
        },
        "id": "3x8cNKgopPqc",
        "outputId": "3d2b7bc2-c426-49d6-c1a6-2531a233395d"
      },
      "execution_count": 22,
      "outputs": [
        {
          "output_type": "stream",
          "name": "stdout",
          "text": [
            "Mean Squared Error: 21313.94736434108\n"
          ]
        }
      ]
    },
    {
      "cell_type": "code",
      "source": [
        "from sklearn.metrics import mean_absolute_error\n",
        "print(mean_absolute_error(yp,y_test))"
      ],
      "metadata": {
        "colab": {
          "base_uri": "https://localhost:8080/"
        },
        "id": "09_DaySIpSj3",
        "outputId": "9f73ceda-dd1c-4dd9-90e9-122891b63249"
      },
      "execution_count": 23,
      "outputs": [
        {
          "output_type": "stream",
          "name": "stdout",
          "text": [
            "79.41627906976744\n"
          ]
        }
      ]
    },
    {
      "cell_type": "code",
      "source": [
        "from sklearn.metrics import mean_squared_error\n",
        "print(mean_squared_error(yp,y_test))"
      ],
      "metadata": {
        "colab": {
          "base_uri": "https://localhost:8080/"
        },
        "id": "M0Op5ApGpU9p",
        "outputId": "0e98da07-056d-4e7a-c0fd-62d369efa1a3"
      },
      "execution_count": 24,
      "outputs": [
        {
          "output_type": "stream",
          "name": "stdout",
          "text": [
            "21313.94736434108\n"
          ]
        }
      ]
    },
    {
      "cell_type": "code",
      "source": [
        "from sklearn.tree import DecisionTreeRegressor\n",
        "model=DecisionTreeRegressor()\n",
        "model.fit(x_train,y_train)\n",
        "yp=model.predict(x_test)\n",
        "print(yp)\n",
        "from sklearn.metrics import mean_squared_error\n",
        "print(mean_squared_error(y_test,yp))\n",
        "from sklearn import tree\n",
        "tree.plot_tree(model,filled=True)"
      ],
      "metadata": {
        "colab": {
          "base_uri": "https://localhost:8080/",
          "height": 1000
        },
        "id": "Zik9-Pf2pXia",
        "outputId": "431fd2a1-0671-4082-8d59-1b2ce85f8fa7"
      },
      "execution_count": 25,
      "outputs": [
        {
          "output_type": "stream",
          "name": "stdout",
          "text": [
            "[1146.8 1143.7 1304.7 1083.1 2575.3  716.2  979.4  986.9  554.5 1121.3\n",
            "  959.3 3915.8 1160.1  274.  2647.5  394.1 2814.4 1997.1 1095.9  624.1\n",
            " 2409.8 2150.9 1120.  2859.3 1293.1 3443.7  887.4  949.6 1292.7 1600.\n",
            " 3094.5 1013.3  902.1  419.8  747.1  557.4 1341.   820.1  554.5 3218.7\n",
            "  829.6 2660.   760.5 1336.5  489.  1533.5 6166.1  968.1  870.  1120.\n",
            " 2582.2  641.2 1054.5  721.7 1385.  2030.9 1544.4  731.1  791.9 2814.4\n",
            "  959.3  747.1 1336.5  394.1  890.7 2221.5 1197.1  716.2 1293.1  921.2\n",
            "  968.1  747.1 1472.   644.2  419.8  673.6 2660.  2030.9  820.1 1743.7\n",
            " 1533.5  820.1 1324.2 1572.7 3029.9  554.5 1146.8 1397.  1148.6 1143.9\n",
            " 2374.1  883.  1743.5 1132.   885.9 2168.6  957.2  401.4  722.1 1421.3\n",
            " 1448.3  890.7 1196.  1051.5  851.3  820.1  968.1  415.6 1152.6 1191.8\n",
            " 2814.4 1013.3  949.1  274.   816.3 1292.7 1116.2  274.  1088.1 3399.4\n",
            "  968.1 1336.5 2030.9 1273.8 1632.2 1120.7  752.7 3118.5 1227.7]\n",
            "23785.42620155039\n"
          ]
        },
        {
          "output_type": "execute_result",
          "data": {
            "text/plain": [
              "[Text(0.719226876662047, 0.9772727272727273, 'x[5] <= 372.45\\nsquared_error = 686458.553\\nsamples = 512\\nvalue = 1344.987'),\n",
              " Text(0.48615186228402185, 0.9318181818181818, 'x[14] <= 954.1\\nsquared_error = 154738.636\\nsamples = 441\\nvalue = 1073.055'),\n",
              " Text(0.1892105233073503, 0.8863636363636364, 'x[9] <= 24.0\\nsquared_error = 55951.954\\nsamples = 283\\nvalue = 851.129'),\n",
              " Text(0.0565060783430887, 0.8409090909090909, 'x[14] <= 507.0\\nsquared_error = 36249.362\\nsamples = 66\\nvalue = 588.702'),\n",
              " Text(0.016771724448446646, 0.7954545454545454, 'x[5] <= 21.2\\nsquared_error = 12837.215\\nsamples = 27\\nvalue = 405.404'),\n",
              " Text(0.0036019810895992796, 0.75, 'x[7] <= 19.05\\nsquared_error = 2870.629\\nsamples = 3\\nvalue = 166.367'),\n",
              " Text(0.0018009905447996398, 0.7045454545454546, 'squared_error = 0.0\\nsamples = 1\\nvalue = 94.6'),\n",
              " Text(0.005402971634398919, 0.7045454545454546, 'x[1] <= 14.25\\nsquared_error = 443.102\\nsamples = 2\\nvalue = 202.25'),\n",
              " Text(0.0036019810895992796, 0.6590909090909091, 'squared_error = 0.0\\nsamples = 1\\nvalue = 181.2'),\n",
              " Text(0.007203962179198559, 0.6590909090909091, 'squared_error = 0.0\\nsamples = 1\\nvalue = 223.3'),\n",
              " Text(0.029941467807294012, 0.75, 'x[7] <= 133.1\\nsquared_error = 6047.908\\nsamples = 24\\nvalue = 435.283'),\n",
              " Text(0.014407924358397118, 0.7045454545454546, 'x[15] <= 11.3\\nsquared_error = 3907.095\\nsamples = 13\\nvalue = 381.562'),\n",
              " Text(0.010805943268797838, 0.6590909090909091, 'x[0] <= 2.65\\nsquared_error = 7.29\\nsamples = 2\\nvalue = 271.3'),\n",
              " Text(0.009004952723998198, 0.6136363636363636, 'squared_error = 0.0\\nsamples = 1\\nvalue = 268.6'),\n",
              " Text(0.012606933813597478, 0.6136363636363636, 'squared_error = 0.0\\nsamples = 1\\nvalue = 274.0'),\n",
              " Text(0.018009905447996397, 0.6590909090909091, 'x[14] <= 196.75\\nsquared_error = 2003.772\\nsamples = 11\\nvalue = 401.609'),\n",
              " Text(0.01620891490319676, 0.6136363636363636, 'squared_error = 0.0\\nsamples = 1\\nvalue = 504.6'),\n",
              " Text(0.01981089599279604, 0.6136363636363636, 'x[7] <= 102.75\\nsquared_error = 1037.365\\nsamples = 10\\nvalue = 391.31'),\n",
              " Text(0.01530841963079694, 0.5681818181818182, 'x[1] <= 11.3\\nsquared_error = 642.602\\nsamples = 3\\nvalue = 349.233'),\n",
              " Text(0.0135074290859973, 0.5227272727272727, 'x[0] <= 11.45\\nsquared_error = 6.25\\nsamples = 2\\nvalue = 367.1'),\n",
              " Text(0.01170643854119766, 0.4772727272727273, 'squared_error = 0.0\\nsamples = 1\\nvalue = 369.6'),\n",
              " Text(0.01530841963079694, 0.4772727272727273, 'squared_error = 0.0\\nsamples = 1\\nvalue = 364.6'),\n",
              " Text(0.017109410175596577, 0.5227272727272727, 'squared_error = 0.0\\nsamples = 1\\nvalue = 313.5'),\n",
              " Text(0.024313372354795137, 0.5681818181818182, 'x[8] <= 63.9\\nsquared_error = 122.602\\nsamples = 7\\nvalue = 409.343'),\n",
              " Text(0.020711391265195857, 0.5227272727272727, 'x[8] <= 61.3\\nsquared_error = 24.332\\nsamples = 4\\nvalue = 400.725'),\n",
              " Text(0.01891040072039622, 0.4772727272727273, 'x[6] <= 130.7\\nsquared_error = 9.562\\nsamples = 3\\nvalue = 398.333'),\n",
              " Text(0.017109410175596577, 0.4318181818181818, 'x[13] <= 33.85\\nsquared_error = 0.902\\nsamples = 2\\nvalue = 400.45'),\n",
              " Text(0.01530841963079694, 0.38636363636363635, 'squared_error = 0.0\\nsamples = 1\\nvalue = 401.4'),\n",
              " Text(0.01891040072039622, 0.38636363636363635, 'squared_error = -0.0\\nsamples = 1\\nvalue = 399.5'),\n",
              " Text(0.020711391265195857, 0.4318181818181818, 'squared_error = 0.0\\nsamples = 1\\nvalue = 394.1'),\n",
              " Text(0.0225123818099955, 0.4772727272727273, 'squared_error = -0.0\\nsamples = 1\\nvalue = 407.9'),\n",
              " Text(0.027915353444394417, 0.5227272727272727, 'x[3] <= 4.3\\nsquared_error = 22.576\\nsamples = 3\\nvalue = 420.833'),\n",
              " Text(0.026114362899594776, 0.4772727272727273, 'squared_error = 0.0\\nsamples = 1\\nvalue = 427.1'),\n",
              " Text(0.029716343989194056, 0.4772727272727273, 'x[12] <= 30.55\\nsquared_error = 4.41\\nsamples = 2\\nvalue = 417.7'),\n",
              " Text(0.027915353444394417, 0.4318181818181818, 'squared_error = 0.0\\nsamples = 1\\nvalue = 415.6'),\n",
              " Text(0.0315173345339937, 0.4318181818181818, 'squared_error = -0.0\\nsamples = 1\\nvalue = 419.8'),\n",
              " Text(0.045475011256190905, 0.7045454545454546, 'x[14] <= 436.3\\nsquared_error = 1136.293\\nsamples = 11\\nvalue = 498.773'),\n",
              " Text(0.03962179198559208, 0.6590909090909091, 'x[5] <= 41.45\\nsquared_error = 231.702\\nsamples = 8\\nvalue = 480.0'),\n",
              " Text(0.035119315623592974, 0.6136363636363636, 'x[5] <= 37.55\\nsquared_error = 77.762\\nsamples = 3\\nvalue = 496.767'),\n",
              " Text(0.033318325078793336, 0.5681818181818182, 'x[0] <= 10.75\\nsquared_error = 2.56\\nsamples = 2\\nvalue = 490.6'),\n",
              " Text(0.0315173345339937, 0.5227272727272727, 'squared_error = 0.0\\nsamples = 1\\nvalue = 492.2'),\n",
              " Text(0.035119315623592974, 0.5227272727272727, 'squared_error = -0.0\\nsamples = 1\\nvalue = 489.0'),\n",
              " Text(0.03692030616839262, 0.5681818181818182, 'squared_error = 0.0\\nsamples = 1\\nvalue = 509.1'),\n",
              " Text(0.04412426834759117, 0.6136363636363636, 'x[13] <= 30.0\\nsquared_error = 54.19\\nsamples = 5\\nvalue = 469.94'),\n",
              " Text(0.040522287257991896, 0.5681818181818182, 'x[8] <= 66.7\\nsquared_error = 3.149\\nsamples = 3\\nvalue = 464.167'),\n",
              " Text(0.03872129671319226, 0.5227272727272727, 'x[3] <= 3.45\\nsquared_error = 0.64\\nsamples = 2\\nvalue = 463.0'),\n",
              " Text(0.03692030616839262, 0.4772727272727273, 'squared_error = 0.0\\nsamples = 1\\nvalue = 462.2'),\n",
              " Text(0.040522287257991896, 0.4772727272727273, 'squared_error = 0.0\\nsamples = 1\\nvalue = 463.8'),\n",
              " Text(0.042323277802791534, 0.5227272727272727, 'squared_error = 0.0\\nsamples = 1\\nvalue = 466.5'),\n",
              " Text(0.047726249437190456, 0.5681818181818182, 'x[2] <= 7.85\\nsquared_error = 5.76\\nsamples = 2\\nvalue = 478.6'),\n",
              " Text(0.04592525889239082, 0.5227272727272727, 'squared_error = 0.0\\nsamples = 1\\nvalue = 481.0'),\n",
              " Text(0.049527239981990094, 0.5227272727272727, 'squared_error = -0.0\\nsamples = 1\\nvalue = 476.2'),\n",
              " Text(0.05132823052678973, 0.6590909090909091, 'x[1] <= 1.1\\nsquared_error = 102.696\\nsamples = 3\\nvalue = 548.833'),\n",
              " Text(0.049527239981990094, 0.6136363636363636, 'squared_error = 0.0\\nsamples = 1\\nvalue = 534.6'),\n",
              " Text(0.05312922107158938, 0.6136363636363636, 'x[12] <= 21.9\\nsquared_error = 2.102\\nsamples = 2\\nvalue = 555.95'),\n",
              " Text(0.05132823052678973, 0.5681818181818182, 'squared_error = 0.0\\nsamples = 1\\nvalue = 554.5'),\n",
              " Text(0.054930211616389016, 0.5681818181818182, 'squared_error = -0.0\\nsamples = 1\\nvalue = 557.4'),\n",
              " Text(0.09624043223773075, 0.7954545454545454, 'x[14] <= 722.05\\nsquared_error = 13094.331\\nsamples = 39\\nvalue = 715.6'),\n",
              " Text(0.0835209365150833, 0.75, 'x[14] <= 613.65\\nsquared_error = 4438.555\\nsamples = 33\\nvalue = 679.227'),\n",
              " Text(0.07429085997298514, 0.7045454545454546, 'x[3] <= 9.7\\nsquared_error = 2072.287\\nsamples = 19\\nvalue = 633.821'),\n",
              " Text(0.06663665015758667, 0.6590909090909091, 'x[13] <= 7.05\\nsquared_error = 1194.884\\nsamples = 15\\nvalue = 616.76'),\n",
              " Text(0.06033318325078793, 0.6136363636363636, 'x[15] <= 21.65\\nsquared_error = 455.783\\nsamples = 4\\nvalue = 573.85'),\n",
              " Text(0.05853219270598829, 0.5681818181818182, 'squared_error = 0.0\\nsamples = 1\\nvalue = 539.6'),\n",
              " Text(0.062134173795587576, 0.5681818181818182, 'x[15] <= 29.85\\nsquared_error = 86.349\\nsamples = 3\\nvalue = 585.267'),\n",
              " Text(0.06033318325078793, 0.5227272727272727, 'squared_error = 0.0\\nsamples = 1\\nvalue = 598.4'),\n",
              " Text(0.06393516434038721, 0.5227272727272727, 'x[14] <= 538.9\\nsquared_error = 0.16\\nsamples = 2\\nvalue = 578.7'),\n",
              " Text(0.062134173795587576, 0.4772727272727273, 'squared_error = 0.0\\nsamples = 1\\nvalue = 578.3'),\n",
              " Text(0.06573615488518686, 0.4772727272727273, 'squared_error = -0.0\\nsamples = 1\\nvalue = 579.1'),\n",
              " Text(0.07294011706438541, 0.6136363636363636, 'x[10] <= 3.05\\nsquared_error = 550.622\\nsamples = 11\\nvalue = 632.364'),\n",
              " Text(0.07113912651958577, 0.5681818181818182, 'squared_error = 0.0\\nsamples = 1\\nvalue = 577.2'),\n",
              " Text(0.07474110760918505, 0.5681818181818182, 'x[6] <= 226.2\\nsquared_error = 270.952\\nsamples = 10\\nvalue = 637.88'),\n",
              " Text(0.07294011706438541, 0.5227272727272727, 'x[6] <= 194.25\\nsquared_error = 132.775\\nsamples = 9\\nvalue = 633.778'),\n",
              " Text(0.06933813597478614, 0.4772727272727273, 'x[13] <= 39.4\\nsquared_error = 6.202\\nsamples = 3\\nvalue = 621.067'),\n",
              " Text(0.0675371454299865, 0.4318181818181818, 'x[11] <= 5.7\\nsquared_error = 2.25\\nsamples = 2\\nvalue = 622.6'),\n",
              " Text(0.06573615488518686, 0.38636363636363635, 'squared_error = 0.0\\nsamples = 1\\nvalue = 621.1'),\n",
              " Text(0.06933813597478614, 0.38636363636363635, 'squared_error = -0.0\\nsamples = 1\\nvalue = 624.1'),\n",
              " Text(0.07113912651958577, 0.4318181818181818, 'squared_error = 0.0\\nsamples = 1\\nvalue = 618.0'),\n",
              " Text(0.07654209815398469, 0.4772727272727273, 'x[10] <= 3.95\\nsquared_error = 74.882\\nsamples = 6\\nvalue = 640.133'),\n",
              " Text(0.07474110760918505, 0.4318181818181818, 'squared_error = 0.0\\nsamples = 1\\nvalue = 655.9'),\n",
              " Text(0.07834308869878433, 0.4318181818181818, 'x[7] <= 210.9\\nsquared_error = 30.198\\nsamples = 5\\nvalue = 636.98'),\n",
              " Text(0.07474110760918505, 0.38636363636363635, 'x[8] <= 95.3\\nsquared_error = 4.309\\nsamples = 3\\nvalue = 641.267'),\n",
              " Text(0.07294011706438541, 0.3409090909090909, 'squared_error = 0.0\\nsamples = 1\\nvalue = 644.2'),\n",
              " Text(0.07654209815398469, 0.3409090909090909, 'x[1] <= 1.15\\nsquared_error = 0.01\\nsamples = 2\\nvalue = 639.8'),\n",
              " Text(0.07474110760918505, 0.29545454545454547, 'squared_error = 0.0\\nsamples = 1\\nvalue = 639.9'),\n",
              " Text(0.07834308869878433, 0.29545454545454547, 'squared_error = 0.0\\nsamples = 1\\nvalue = 639.7'),\n",
              " Text(0.08194506978838362, 0.38636363636363635, 'x[1] <= 7.0\\nsquared_error = 0.122\\nsamples = 2\\nvalue = 630.55'),\n",
              " Text(0.08014407924358397, 0.3409090909090909, 'squared_error = 0.0\\nsamples = 1\\nvalue = 630.2'),\n",
              " Text(0.08374606033318326, 0.3409090909090909, 'squared_error = 0.0\\nsamples = 1\\nvalue = 630.9'),\n",
              " Text(0.07654209815398469, 0.5227272727272727, 'squared_error = -0.0\\nsamples = 1\\nvalue = 674.8'),\n",
              " Text(0.08194506978838362, 0.6590909090909091, 'x[10] <= 7.2\\nsquared_error = 177.695\\nsamples = 4\\nvalue = 697.8'),\n",
              " Text(0.08014407924358397, 0.6136363636363636, 'x[14] <= 555.05\\nsquared_error = 35.287\\nsamples = 3\\nvalue = 690.7'),\n",
              " Text(0.07834308869878433, 0.5681818181818182, 'squared_error = 0.0\\nsamples = 1\\nvalue = 683.1'),\n",
              " Text(0.08194506978838362, 0.5681818181818182, 'x[0] <= 22.6\\nsquared_error = 9.61\\nsamples = 2\\nvalue = 694.5'),\n",
              " Text(0.08014407924358397, 0.5227272727272727, 'squared_error = 0.0\\nsamples = 1\\nvalue = 697.6'),\n",
              " Text(0.08374606033318326, 0.5227272727272727, 'squared_error = 0.0\\nsamples = 1\\nvalue = 691.4'),\n",
              " Text(0.08374606033318326, 0.6136363636363636, 'squared_error = 0.0\\nsamples = 1\\nvalue = 719.1'),\n",
              " Text(0.09275101305718145, 0.7045454545454546, 'x[9] <= 17.55\\nsquared_error = 1054.504\\nsamples = 14\\nvalue = 740.85'),\n",
              " Text(0.08914903196758217, 0.6590909090909091, 'x[15] <= 29.35\\nsquared_error = 133.307\\nsamples = 3\\nvalue = 693.2'),\n",
              " Text(0.08734804142278253, 0.6136363636363636, 'x[2] <= 3.4\\nsquared_error = 22.09\\nsamples = 2\\nvalue = 700.9'),\n",
              " Text(0.0855470508779829, 0.5681818181818182, 'squared_error = 0.0\\nsamples = 1\\nvalue = 705.6'),\n",
              " Text(0.08914903196758217, 0.5681818181818182, 'squared_error = -0.0\\nsamples = 1\\nvalue = 696.2'),\n",
              " Text(0.09095002251238181, 0.6136363636363636, 'squared_error = 0.0\\nsamples = 1\\nvalue = 677.8'),\n",
              " Text(0.09635299414678072, 0.6590909090909091, 'x[4] <= 21.95\\nsquared_error = 517.624\\nsamples = 11\\nvalue = 753.845'),\n",
              " Text(0.09455200360198109, 0.6136363636363636, 'x[8] <= 101.2\\nsquared_error = 106.714\\nsamples = 10\\nvalue = 747.36'),\n",
              " Text(0.09275101305718145, 0.5681818181818182, 'squared_error = 0.0\\nsamples = 1\\nvalue = 721.0'),\n",
              " Text(0.09635299414678072, 0.5681818181818182, 'x[10] <= 9.9\\nsquared_error = 32.788\\nsamples = 9\\nvalue = 750.289'),\n",
              " Text(0.09455200360198109, 0.5227272727272727, 'x[7] <= 234.4\\nsquared_error = 5.199\\nsamples = 8\\nvalue = 748.412'),\n",
              " Text(0.09275101305718145, 0.4772727272727273, 'x[9] <= 19.8\\nsquared_error = 0.122\\nsamples = 2\\nvalue = 752.35'),\n",
              " Text(0.09095002251238181, 0.4318181818181818, 'squared_error = 0.0\\nsamples = 1\\nvalue = 752.7'),\n",
              " Text(0.09455200360198109, 0.4318181818181818, 'squared_error = 0.0\\nsamples = 1\\nvalue = 752.0'),\n",
              " Text(0.09635299414678072, 0.4772727272727273, 'squared_error = 0.0\\nsamples = 6\\nvalue = 747.1'),\n",
              " Text(0.09815398469158038, 0.5227272727272727, 'squared_error = -0.0\\nsamples = 1\\nvalue = 765.3'),\n",
              " Text(0.09815398469158038, 0.6136363636363636, 'squared_error = -0.0\\nsamples = 1\\nvalue = 818.7'),\n",
              " Text(0.1089599279603782, 0.75, 'x[7] <= 329.8\\nsquared_error = 13404.729\\nsamples = 6\\nvalue = 915.65'),\n",
              " Text(0.10715893741557857, 0.7045454545454546, 'x[1] <= 1.05\\nsquared_error = 3106.594\\nsamples = 5\\nvalue = 869.14'),\n",
              " Text(0.10355695632597929, 0.6590909090909091, 'x[11] <= 2.15\\nsquared_error = 55.882\\nsamples = 3\\nvalue = 825.267'),\n",
              " Text(0.10175596578117965, 0.6136363636363636, 'x[0] <= 0.7\\nsquared_error = 18.49\\nsamples = 2\\nvalue = 820.6'),\n",
              " Text(0.09995497523638001, 0.5681818181818182, 'squared_error = 0.0\\nsamples = 1\\nvalue = 824.9'),\n",
              " Text(0.10355695632597929, 0.5681818181818182, 'squared_error = 0.0\\nsamples = 1\\nvalue = 816.3'),\n",
              " Text(0.10535794687077893, 0.6136363636363636, 'squared_error = 0.0\\nsamples = 1\\nvalue = 834.6'),\n",
              " Text(0.11076091850517784, 0.6590909090909091, 'x[13] <= 53.75\\nsquared_error = 464.402\\nsamples = 2\\nvalue = 934.95'),\n",
              " Text(0.1089599279603782, 0.6136363636363636, 'squared_error = 0.0\\nsamples = 1\\nvalue = 913.4'),\n",
              " Text(0.11256190904997748, 0.6136363636363636, 'squared_error = -0.0\\nsamples = 1\\nvalue = 956.5'),\n",
              " Text(0.11076091850517784, 0.7045454545454546, 'squared_error = 0.0\\nsamples = 1\\nvalue = 1148.2'),\n",
              " Text(0.32191496827161187, 0.8409090909090909, 'x[0] <= 4.35\\nsquared_error = 34627.745\\nsamples = 217\\nvalue = 930.945'),\n",
              " Text(0.18178748311571363, 0.7954545454545454, 'x[14] <= 698.25\\nsquared_error = 13922.669\\nsamples = 45\\nvalue = 754.473'),\n",
              " Text(0.15420981539846915, 0.75, 'x[2] <= 6.15\\nsquared_error = 9123.949\\nsamples = 35\\nvalue = 712.54'),\n",
              " Text(0.135074290859973, 0.7045454545454546, 'x[7] <= 99.5\\nsquared_error = 4996.987\\nsamples = 23\\nvalue = 669.743'),\n",
              " Text(0.12066636650157586, 0.6590909090909091, 'x[5] <= 63.7\\nsquared_error = 2153.84\\nsamples = 8\\nvalue = 605.4'),\n",
              " Text(0.11616389013957677, 0.6136363636363636, 'x[10] <= 34.55\\nsquared_error = 506.25\\nsamples = 2\\nvalue = 550.2'),\n",
              " Text(0.11436289959477713, 0.5681818181818182, 'squared_error = 0.0\\nsamples = 1\\nvalue = 527.7'),\n",
              " Text(0.11796488068437641, 0.5681818181818182, 'squared_error = 0.0\\nsamples = 1\\nvalue = 572.7'),\n",
              " Text(0.12516884286357496, 0.6136363636363636, 'x[9] <= 109.9\\nsquared_error = 1348.797\\nsamples = 6\\nvalue = 623.8'),\n",
              " Text(0.12156686177397569, 0.5681818181818182, 'x[15] <= 122.85\\nsquared_error = 157.503\\nsamples = 2\\nvalue = 585.75'),\n",
              " Text(0.11976587122917605, 0.5227272727272727, 'squared_error = 0.0\\nsamples = 1\\nvalue = 573.2'),\n",
              " Text(0.12336785231877533, 0.5227272727272727, 'squared_error = 0.0\\nsamples = 1\\nvalue = 598.3'),\n",
              " Text(0.12877082395317424, 0.5681818181818182, 'x[14] <= 365.8\\nsquared_error = 858.592\\nsamples = 4\\nvalue = 642.825'),\n",
              " Text(0.12696983340837462, 0.5227272727272727, 'squared_error = 0.0\\nsamples = 1\\nvalue = 597.0'),\n",
              " Text(0.1305718144979739, 0.5227272727272727, 'x[1] <= 0.9\\nsquared_error = 211.487\\nsamples = 3\\nvalue = 658.1'),\n",
              " Text(0.12877082395317424, 0.4772727272727273, 'squared_error = 0.0\\nsamples = 1\\nvalue = 676.7'),\n",
              " Text(0.13237280504277352, 0.4772727272727273, 'x[15] <= 152.55\\nsquared_error = 57.76\\nsamples = 2\\nvalue = 648.8'),\n",
              " Text(0.1305718144979739, 0.4318181818181818, 'squared_error = 0.0\\nsamples = 1\\nvalue = 656.4'),\n",
              " Text(0.13417379558757317, 0.4318181818181818, 'squared_error = 0.0\\nsamples = 1\\nvalue = 641.2'),\n",
              " Text(0.1494822152183701, 0.6590909090909091, 'x[1] <= 0.35\\nsquared_error = 3127.664\\nsamples = 15\\nvalue = 704.06'),\n",
              " Text(0.14768122467357048, 0.6136363636363636, 'squared_error = 0.0\\nsamples = 1\\nvalue = 567.3'),\n",
              " Text(0.15128320576316975, 0.6136363636363636, 'x[0] <= 0.4\\nsquared_error = 1919.693\\nsamples = 14\\nvalue = 713.829'),\n",
              " Text(0.1494822152183701, 0.5681818181818182, 'squared_error = 0.0\\nsamples = 1\\nvalue = 791.9'),\n",
              " Text(0.15308419630796938, 0.5681818181818182, 'x[12] <= 3.9\\nsquared_error = 1562.439\\nsamples = 13\\nvalue = 707.823'),\n",
              " Text(0.144979738856371, 0.5227272727272727, 'x[1] <= 0.95\\nsquared_error = 1424.099\\nsamples = 7\\nvalue = 685.371'),\n",
              " Text(0.1395767672219721, 0.4772727272727273, 'x[14] <= 571.75\\nsquared_error = 174.632\\nsamples = 4\\nvalue = 711.425'),\n",
              " Text(0.13777577667717245, 0.4318181818181818, 'squared_error = 0.0\\nsamples = 1\\nvalue = 730.6'),\n",
              " Text(0.14137775776677172, 0.4318181818181818, 'x[9] <= 28.85\\nsquared_error = 69.429\\nsamples = 3\\nvalue = 705.033'),\n",
              " Text(0.1395767672219721, 0.38636363636363635, 'squared_error = 0.0\\nsamples = 1\\nvalue = 716.6'),\n",
              " Text(0.14317874831157137, 0.38636363636363635, 'x[8] <= 100.5\\nsquared_error = 3.802\\nsamples = 2\\nvalue = 699.25'),\n",
              " Text(0.14137775776677172, 0.3409090909090909, 'squared_error = 0.0\\nsamples = 1\\nvalue = 697.3'),\n",
              " Text(0.144979738856371, 0.3409090909090909, 'squared_error = 0.0\\nsamples = 1\\nvalue = 701.2'),\n",
              " Text(0.15038271049076993, 0.4772727272727273, 'x[7] <= 127.85\\nsquared_error = 978.269\\nsamples = 3\\nvalue = 650.633'),\n",
              " Text(0.14858171994597028, 0.4318181818181818, 'x[4] <= 46.1\\nsquared_error = 52.562\\nsamples = 2\\nvalue = 672.35'),\n",
              " Text(0.14678072940117065, 0.38636363636363635, 'squared_error = 0.0\\nsamples = 1\\nvalue = 665.1'),\n",
              " Text(0.15038271049076993, 0.38636363636363635, 'squared_error = 0.0\\nsamples = 1\\nvalue = 679.6'),\n",
              " Text(0.15218370103556955, 0.4318181818181818, 'squared_error = 0.0\\nsamples = 1\\nvalue = 607.2'),\n",
              " Text(0.16118865375956776, 0.5227272727272727, 'x[12] <= 5.85\\nsquared_error = 449.641\\nsamples = 6\\nvalue = 734.017'),\n",
              " Text(0.15938766321476813, 0.4772727272727273, 'x[7] <= 158.05\\nsquared_error = 47.43\\nsamples = 5\\nvalue = 724.96'),\n",
              " Text(0.15578568212516886, 0.4318181818181818, 'x[4] <= 32.35\\nsquared_error = 0.123\\nsamples = 2\\nvalue = 716.55'),\n",
              " Text(0.1539846915803692, 0.38636363636363635, 'squared_error = 0.0\\nsamples = 1\\nvalue = 716.2'),\n",
              " Text(0.15758667266996848, 0.38636363636363635, 'squared_error = 0.0\\nsamples = 1\\nvalue = 716.9'),\n",
              " Text(0.1629896443043674, 0.4318181818181818, 'x[5] <= 135.7\\nsquared_error = 0.382\\nsamples = 3\\nvalue = 730.567'),\n",
              " Text(0.16118865375956776, 0.38636363636363635, 'x[15] <= 90.3\\nsquared_error = 0.01\\nsamples = 2\\nvalue = 731.0'),\n",
              " Text(0.15938766321476813, 0.3409090909090909, 'squared_error = 0.0\\nsamples = 1\\nvalue = 730.9'),\n",
              " Text(0.1629896443043674, 0.3409090909090909, 'squared_error = 0.0\\nsamples = 1\\nvalue = 731.1'),\n",
              " Text(0.16479063484916703, 0.38636363636363635, 'squared_error = 0.0\\nsamples = 1\\nvalue = 729.7'),\n",
              " Text(0.1629896443043674, 0.4772727272727273, 'squared_error = -0.0\\nsamples = 1\\nvalue = 779.3'),\n",
              " Text(0.17334533993696533, 0.7045454545454546, 'x[14] <= 432.9\\nsquared_error = 6795.129\\nsamples = 12\\nvalue = 794.567'),\n",
              " Text(0.16208914903196758, 0.6590909090909091, 'x[15] <= 214.2\\nsquared_error = 1234.178\\nsamples = 5\\nvalue = 719.88'),\n",
              " Text(0.1584871679423683, 0.6136363636363636, 'x[5] <= 55.1\\nsquared_error = 320.41\\nsamples = 2\\nvalue = 680.6'),\n",
              " Text(0.15668617739756865, 0.5681818181818182, 'squared_error = 0.0\\nsamples = 1\\nvalue = 662.7'),\n",
              " Text(0.16028815848716793, 0.5681818181818182, 'squared_error = 0.0\\nsamples = 1\\nvalue = 698.5'),\n",
              " Text(0.16569113012156686, 0.6136363636363636, 'x[6] <= 82.8\\nsquared_error = 129.002\\nsamples = 3\\nvalue = 746.067'),\n",
              " Text(0.16389013957676724, 0.5681818181818182, 'squared_error = 0.0\\nsamples = 1\\nvalue = 731.1'),\n",
              " Text(0.1674921206663665, 0.5681818181818182, 'x[10] <= 50.85\\nsquared_error = 25.503\\nsamples = 2\\nvalue = 753.55'),\n",
              " Text(0.16569113012156686, 0.5227272727272727, 'squared_error = 0.0\\nsamples = 1\\nvalue = 758.6'),\n",
              " Text(0.16929311121116614, 0.5227272727272727, 'squared_error = 0.0\\nsamples = 1\\nvalue = 748.5'),\n",
              " Text(0.18460153084196307, 0.6590909090909091, 'x[15] <= 193.6\\nsquared_error = 3936.913\\nsamples = 7\\nvalue = 847.914'),\n",
              " Text(0.17829806393516434, 0.6136363636363636, 'x[15] <= 137.5\\nsquared_error = 936.863\\nsamples = 4\\nvalue = 803.65'),\n",
              " Text(0.17469608284556506, 0.5681818181818182, 'x[6] <= 173.35\\nsquared_error = 112.36\\nsamples = 2\\nvalue = 831.2'),\n",
              " Text(0.1728950923007654, 0.5227272727272727, 'squared_error = 0.0\\nsamples = 1\\nvalue = 820.6'),\n",
              " Text(0.1764970733903647, 0.5227272727272727, 'squared_error = -0.0\\nsamples = 1\\nvalue = 841.8'),\n",
              " Text(0.18190004502476362, 0.5681818181818182, 'x[3] <= 30.85\\nsquared_error = 243.36\\nsamples = 2\\nvalue = 776.1'),\n",
              " Text(0.180099054479964, 0.5227272727272727, 'squared_error = 0.0\\nsamples = 1\\nvalue = 760.5'),\n",
              " Text(0.18370103556956327, 0.5227272727272727, 'squared_error = 0.0\\nsamples = 1\\nvalue = 791.7'),\n",
              " Text(0.19090499774876182, 0.6136363636363636, 'x[2] <= 10.45\\nsquared_error = 1841.296\\nsamples = 3\\nvalue = 906.933'),\n",
              " Text(0.18910400720396217, 0.5681818181818182, 'x[2] <= 9.2\\nsquared_error = 46.922\\nsamples = 2\\nvalue = 876.85'),\n",
              " Text(0.18730301665916255, 0.5227272727272727, 'squared_error = 0.0\\nsamples = 1\\nvalue = 870.0'),\n",
              " Text(0.19090499774876182, 0.5227272727272727, 'squared_error = -0.0\\nsamples = 1\\nvalue = 883.7'),\n",
              " Text(0.19270598829356145, 0.5681818181818182, 'squared_error = 0.0\\nsamples = 1\\nvalue = 967.1'),\n",
              " Text(0.20936515083295812, 0.75, 'x[14] <= 857.15\\nsquared_error = 3023.32\\nsamples = 10\\nvalue = 901.24'),\n",
              " Text(0.20441242683475913, 0.7045454545454546, 'x[3] <= 0.95\\nsquared_error = 1255.094\\nsamples = 8\\nvalue = 879.675'),\n",
              " Text(0.19990995047276003, 0.6590909090909091, 'x[1] <= 0.45\\nsquared_error = 889.396\\nsamples = 3\\nvalue = 842.067'),\n",
              " Text(0.19810895992796038, 0.6136363636363636, 'x[14] <= 766.25\\nsquared_error = 77.44\\nsamples = 2\\nvalue = 821.6'),\n",
              " Text(0.19630796938316075, 0.5681818181818182, 'squared_error = 0.0\\nsamples = 1\\nvalue = 812.8'),\n",
              " Text(0.19990995047276003, 0.5681818181818182, 'squared_error = 0.0\\nsamples = 1\\nvalue = 830.4'),\n",
              " Text(0.20171094101755965, 0.6136363636363636, 'squared_error = 0.0\\nsamples = 1\\nvalue = 883.0'),\n",
              " Text(0.2089149031967582, 0.6590909090909091, 'x[3] <= 2.7\\nsquared_error = 116.702\\nsamples = 5\\nvalue = 902.24'),\n",
              " Text(0.20531292210715893, 0.6136363636363636, 'x[13] <= 8.95\\nsquared_error = 42.136\\nsamples = 3\\nvalue = 894.467'),\n",
              " Text(0.2035119315623593, 0.5681818181818182, 'squared_error = 0.0\\nsamples = 1\\nvalue = 903.6'),\n",
              " Text(0.20711391265195858, 0.5681818181818182, 'x[11] <= 6.65\\nsquared_error = 0.64\\nsamples = 2\\nvalue = 889.9'),\n",
              " Text(0.20531292210715893, 0.5227272727272727, 'squared_error = 0.0\\nsamples = 1\\nvalue = 890.7'),\n",
              " Text(0.2089149031967582, 0.5227272727272727, 'squared_error = -0.0\\nsamples = 1\\nvalue = 889.1'),\n",
              " Text(0.2125168842863575, 0.6136363636363636, 'x[10] <= 23.15\\nsquared_error = 1.96\\nsamples = 2\\nvalue = 913.9'),\n",
              " Text(0.21071589374155786, 0.5681818181818182, 'squared_error = 0.0\\nsamples = 1\\nvalue = 915.3'),\n",
              " Text(0.21431787483115713, 0.5681818181818182, 'squared_error = -0.0\\nsamples = 1\\nvalue = 912.5'),\n",
              " Text(0.21431787483115713, 0.7045454545454546, 'x[14] <= 886.55\\nsquared_error = 795.24\\nsamples = 2\\nvalue = 987.5'),\n",
              " Text(0.2125168842863575, 0.6590909090909091, 'squared_error = 0.0\\nsamples = 1\\nvalue = 1015.7'),\n",
              " Text(0.2161188653759568, 0.6590909090909091, 'squared_error = 0.0\\nsamples = 1\\nvalue = 959.3'),\n",
              " Text(0.46204245342751016, 0.7954545454545454, 'x[4] <= 84.0\\nsquared_error = 29765.409\\nsamples = 172\\nvalue = 977.115'),\n",
              " Text(0.40179764886312475, 0.75, 'x[14] <= 856.75\\nsquared_error = 21972.609\\nsamples = 151\\nvalue = 946.936'),\n",
              " Text(0.3388271752588924, 0.7045454545454546, 'x[9] <= 192.2\\nsquared_error = 20848.831\\nsamples = 106\\nvalue = 897.315'),\n",
              " Text(0.27693395429986495, 0.6590909090909091, 'x[5] <= 37.65\\nsquared_error = 10562.27\\nsamples = 94\\nvalue = 862.229'),\n",
              " Text(0.22422332282755517, 0.6136363636363636, 'x[11] <= 48.05\\nsquared_error = 7365.297\\nsamples = 12\\nvalue = 703.442'),\n",
              " Text(0.2179198559207564, 0.5681818181818182, 'x[9] <= 31.55\\nsquared_error = 1685.124\\nsamples = 8\\nvalue = 658.325'),\n",
              " Text(0.2161188653759568, 0.5227272727272727, 'squared_error = 0.0\\nsamples = 1\\nvalue = 568.0'),\n",
              " Text(0.21972084646555606, 0.5227272727272727, 'x[1] <= 8.1\\nsquared_error = 593.839\\nsamples = 7\\nvalue = 671.229'),\n",
              " Text(0.2179198559207564, 0.4772727272727273, 'squared_error = 0.0\\nsamples = 1\\nvalue = 618.2'),\n",
              " Text(0.2215218370103557, 0.4772727272727273, 'x[4] <= 79.5\\nsquared_error = 146.029\\nsamples = 6\\nvalue = 680.067'),\n",
              " Text(0.2179198559207564, 0.4318181818181818, 'x[15] <= 66.6\\nsquared_error = 3.122\\nsamples = 4\\nvalue = 672.05'),\n",
              " Text(0.2161188653759568, 0.38636363636363635, 'squared_error = 0.0\\nsamples = 1\\nvalue = 669.3'),\n",
              " Text(0.21972084646555606, 0.38636363636363635, 'x[0] <= 56.65\\nsquared_error = 0.802\\nsamples = 3\\nvalue = 672.967'),\n",
              " Text(0.2179198559207564, 0.3409090909090909, 'squared_error = 0.0\\nsamples = 1\\nvalue = 671.7'),\n",
              " Text(0.2215218370103557, 0.3409090909090909, 'squared_error = -0.0\\nsamples = 2\\nvalue = 673.6'),\n",
              " Text(0.22512381809995496, 0.4318181818181818, 'x[0] <= 7.35\\nsquared_error = 46.24\\nsamples = 2\\nvalue = 696.1'),\n",
              " Text(0.22332282755515534, 0.38636363636363635, 'squared_error = 0.0\\nsamples = 1\\nvalue = 702.9'),\n",
              " Text(0.22692480864475462, 0.38636363636363635, 'squared_error = 0.0\\nsamples = 1\\nvalue = 689.3'),\n",
              " Text(0.2305267897343539, 0.5681818181818182, 'x[5] <= 14.6\\nsquared_error = 6512.562\\nsamples = 4\\nvalue = 793.675'),\n",
              " Text(0.22872579918955427, 0.5227272727272727, 'squared_error = 0.0\\nsamples = 1\\nvalue = 656.3'),\n",
              " Text(0.23232778027915355, 0.5227272727272727, 'x[7] <= 81.6\\nsquared_error = 295.909\\nsamples = 3\\nvalue = 839.467'),\n",
              " Text(0.2305267897343539, 0.4772727272727273, 'x[2] <= 71.35\\nsquared_error = 66.422\\nsamples = 2\\nvalue = 828.25'),\n",
              " Text(0.22872579918955427, 0.4318181818181818, 'squared_error = 0.0\\nsamples = 1\\nvalue = 820.1'),\n",
              " Text(0.23232778027915355, 0.4318181818181818, 'squared_error = 0.0\\nsamples = 1\\nvalue = 836.4'),\n",
              " Text(0.23412877082395317, 0.4772727272727273, 'squared_error = 0.0\\nsamples = 1\\nvalue = 861.9'),\n",
              " Text(0.3296445857721747, 0.6136363636363636, 'x[14] <= 794.4\\nsquared_error = 6800.4\\nsamples = 82\\nvalue = 885.466'),\n",
              " Text(0.29098660513282304, 0.5681818181818182, 'x[15] <= 51.55\\nsquared_error = 6422.042\\nsamples = 58\\nvalue = 858.853'),\n",
              " Text(0.25641602881584874, 0.5227272727272727, 'x[14] <= 736.85\\nsquared_error = 2640.303\\nsamples = 20\\nvalue = 788.95'),\n",
              " Text(0.2435839711841513, 0.4772727272727273, 'x[14] <= 655.5\\nsquared_error = 720.297\\nsamples = 12\\nvalue = 752.425'),\n",
              " Text(0.23592976136875282, 0.4318181818181818, 'x[8] <= 123.6\\nsquared_error = 399.545\\nsamples = 6\\nvalue = 730.617'),\n",
              " Text(0.23142728500675372, 0.38636363636363635, 'x[11] <= 5.05\\nsquared_error = 23.262\\nsamples = 4\\nvalue = 717.25'),\n",
              " Text(0.22782530391715444, 0.3409090909090909, 'x[2] <= 10.15\\nsquared_error = 3.24\\nsamples = 2\\nvalue = 712.6'),\n",
              " Text(0.2260243133723548, 0.29545454545454547, 'squared_error = 0.0\\nsamples = 1\\nvalue = 714.4'),\n",
              " Text(0.22962629446195407, 0.29545454545454547, 'squared_error = 0.0\\nsamples = 1\\nvalue = 710.8'),\n",
              " Text(0.235029266096353, 0.3409090909090909, 'x[2] <= 21.2\\nsquared_error = 0.04\\nsamples = 2\\nvalue = 721.9'),\n",
              " Text(0.23322827555155334, 0.29545454545454547, 'squared_error = 0.0\\nsamples = 1\\nvalue = 722.1'),\n",
              " Text(0.23683025664115265, 0.29545454545454547, 'squared_error = -0.0\\nsamples = 1\\nvalue = 721.7'),\n",
              " Text(0.24043223773075192, 0.38636363636363635, 'x[14] <= 648.5\\nsquared_error = 80.103\\nsamples = 2\\nvalue = 757.35'),\n",
              " Text(0.23863124718595227, 0.3409090909090909, 'squared_error = 0.0\\nsamples = 1\\nvalue = 766.3'),\n",
              " Text(0.24223322827555155, 0.3409090909090909, 'squared_error = 0.0\\nsamples = 1\\nvalue = 748.4'),\n",
              " Text(0.25123818099954975, 0.4318181818181818, 'x[14] <= 707.3\\nsquared_error = 89.842\\nsamples = 6\\nvalue = 774.233'),\n",
              " Text(0.2494371904547501, 0.38636363636363635, 'x[3] <= 3.85\\nsquared_error = 32.904\\nsamples = 5\\nvalue = 770.7'),\n",
              " Text(0.24583520936515083, 0.3409090909090909, 'x[9] <= 37.5\\nsquared_error = 1.102\\nsamples = 2\\nvalue = 764.45'),\n",
              " Text(0.2440342188203512, 0.29545454545454547, 'squared_error = 0.0\\nsamples = 1\\nvalue = 765.5'),\n",
              " Text(0.24763619990995048, 0.29545454545454547, 'squared_error = -0.0\\nsamples = 1\\nvalue = 763.4'),\n",
              " Text(0.2530391715443494, 0.3409090909090909, 'x[11] <= 7.05\\nsquared_error = 10.702\\nsamples = 3\\nvalue = 774.867'),\n",
              " Text(0.25123818099954975, 0.29545454545454547, 'x[7] <= 271.4\\nsquared_error = 3.24\\nsamples = 2\\nvalue = 772.8'),\n",
              " Text(0.2494371904547501, 0.25, 'squared_error = 0.0\\nsamples = 1\\nvalue = 771.0'),\n",
              " Text(0.2530391715443494, 0.25, 'squared_error = 0.0\\nsamples = 1\\nvalue = 774.6'),\n",
              " Text(0.25484016208914906, 0.29545454545454547, 'squared_error = 0.0\\nsamples = 1\\nvalue = 779.0'),\n",
              " Text(0.2530391715443494, 0.38636363636363635, 'squared_error = -0.0\\nsamples = 1\\nvalue = 791.9'),\n",
              " Text(0.26924808644754616, 0.4772727272727273, 'x[10] <= 10.15\\nsquared_error = 517.527\\nsamples = 8\\nvalue = 843.738'),\n",
              " Text(0.26564610535794686, 0.4318181818181818, 'x[8] <= 174.05\\nsquared_error = 62.234\\nsamples = 5\\nvalue = 860.26'),\n",
              " Text(0.2638451148131472, 0.38636363636363635, 'x[9] <= 28.5\\nsquared_error = 15.312\\nsamples = 4\\nvalue = 856.725'),\n",
              " Text(0.26024313372354796, 0.3409090909090909, 'x[15] <= 37.25\\nsquared_error = 0.04\\nsamples = 2\\nvalue = 852.9'),\n",
              " Text(0.2584421431787483, 0.29545454545454547, 'squared_error = 0.0\\nsamples = 1\\nvalue = 853.1'),\n",
              " Text(0.2620441242683476, 0.29545454545454547, 'squared_error = -0.0\\nsamples = 1\\nvalue = 852.7'),\n",
              " Text(0.2674470959027465, 0.3409090909090909, 'x[5] <= 71.55\\nsquared_error = 1.323\\nsamples = 2\\nvalue = 860.55'),\n",
              " Text(0.26564610535794686, 0.29545454545454547, 'squared_error = 0.0\\nsamples = 1\\nvalue = 859.4'),\n",
              " Text(0.26924808644754616, 0.29545454545454547, 'squared_error = 0.0\\nsamples = 1\\nvalue = 861.7'),\n",
              " Text(0.2674470959027465, 0.38636363636363635, 'squared_error = -0.0\\nsamples = 1\\nvalue = 874.4'),\n",
              " Text(0.2728500675371454, 0.4318181818181818, 'x[7] <= 248.05\\nsquared_error = 63.047\\nsamples = 3\\nvalue = 816.2'),\n",
              " Text(0.2710490769923458, 0.38636363636363635, 'squared_error = 0.0\\nsamples = 1\\nvalue = 826.9'),\n",
              " Text(0.27465105808194507, 0.38636363636363635, 'x[8] <= 131.7\\nsquared_error = 8.703\\nsamples = 2\\nvalue = 810.85'),\n",
              " Text(0.2728500675371454, 0.3409090909090909, 'squared_error = 0.0\\nsamples = 1\\nvalue = 807.9'),\n",
              " Text(0.2764520486267447, 0.3409090909090909, 'squared_error = 0.0\\nsamples = 1\\nvalue = 813.8'),\n",
              " Text(0.3255571814497974, 0.5227272727272727, 'x[13] <= 180.65\\nsquared_error = 4486.995\\nsamples = 38\\nvalue = 895.645'),\n",
              " Text(0.31725574065736156, 0.4772727272727273, 'x[15] <= 483.15\\nsquared_error = 3029.021\\nsamples = 36\\nvalue = 886.25'),\n",
              " Text(0.3060558307068888, 0.4318181818181818, 'x[4] <= 13.55\\nsquared_error = 2216.779\\nsamples = 34\\nvalue = 878.832'),\n",
              " Text(0.28905898244034217, 0.38636363636363635, 'x[14] <= 735.7\\nsquared_error = 886.224\\nsamples = 14\\nvalue = 850.386'),\n",
              " Text(0.28005402971634397, 0.3409090909090909, 'x[6] <= 223.35\\nsquared_error = 59.894\\nsamples = 5\\nvalue = 816.34'),\n",
              " Text(0.27825303917154437, 0.29545454545454547, 'squared_error = 0.0\\nsamples = 1\\nvalue = 829.6'),\n",
              " Text(0.2818550202611436, 0.29545454545454547, 'x[1] <= 10.7\\nsquared_error = 19.922\\nsamples = 4\\nvalue = 813.025'),\n",
              " Text(0.27825303917154437, 0.25, 'x[10] <= 9.8\\nsquared_error = 2.25\\nsamples = 2\\nvalue = 816.9'),\n",
              " Text(0.2764520486267447, 0.20454545454545456, 'squared_error = 0.0\\nsamples = 1\\nvalue = 818.4'),\n",
              " Text(0.28005402971634397, 0.20454545454545456, 'squared_error = -0.0\\nsamples = 1\\nvalue = 815.4'),\n",
              " Text(0.2854570013507429, 0.25, 'x[13] <= 19.0\\nsquared_error = 7.563\\nsamples = 2\\nvalue = 809.15'),\n",
              " Text(0.28365601080594327, 0.20454545454545456, 'squared_error = 0.0\\nsamples = 1\\nvalue = 806.4'),\n",
              " Text(0.2872579918955426, 0.20454545454545456, 'squared_error = -0.0\\nsamples = 1\\nvalue = 811.9'),\n",
              " Text(0.2980639351643404, 0.3409090909090909, 'x[14] <= 785.15\\nsquared_error = 343.596\\nsamples = 9\\nvalue = 869.3'),\n",
              " Text(0.29446195407474113, 0.29545454545454547, 'x[12] <= 28.3\\nsquared_error = 136.581\\nsamples = 7\\nvalue = 861.514'),\n",
              " Text(0.2926609635299415, 0.25, 'x[7] <= 301.9\\nsquared_error = 49.336\\nsamples = 6\\nvalue = 857.55'),\n",
              " Text(0.2908599729851418, 0.20454545454545456, 'x[7] <= 285.95\\nsquared_error = 12.498\\nsamples = 5\\nvalue = 854.76'),\n",
              " Text(0.2872579918955426, 0.1590909090909091, 'x[12] <= 15.0\\nsquared_error = 2.082\\nsamples = 3\\nvalue = 852.133'),\n",
              " Text(0.2854570013507429, 0.11363636363636363, 'squared_error = 0.0\\nsamples = 1\\nvalue = 850.1'),\n",
              " Text(0.28905898244034217, 0.11363636363636363, 'x[4] <= 10.2\\nsquared_error = 0.022\\nsamples = 2\\nvalue = 853.15'),\n",
              " Text(0.2872579918955426, 0.06818181818181818, 'squared_error = 0.0\\nsamples = 1\\nvalue = 853.0'),\n",
              " Text(0.2908599729851418, 0.06818181818181818, 'squared_error = 0.0\\nsamples = 1\\nvalue = 853.3'),\n",
              " Text(0.29446195407474113, 0.1590909090909091, 'x[15] <= 52.3\\nsquared_error = 2.25\\nsamples = 2\\nvalue = 858.7'),\n",
              " Text(0.2926609635299415, 0.11363636363636363, 'squared_error = 0.0\\nsamples = 1\\nvalue = 860.2'),\n",
              " Text(0.2962629446195407, 0.11363636363636363, 'squared_error = 0.0\\nsamples = 1\\nvalue = 857.2'),\n",
              " Text(0.29446195407474113, 0.20454545454545456, 'squared_error = -0.0\\nsamples = 1\\nvalue = 871.5'),\n",
              " Text(0.2962629446195407, 0.25, 'squared_error = -0.0\\nsamples = 1\\nvalue = 885.3'),\n",
              " Text(0.3016659162539397, 0.29545454545454547, 'x[1] <= 11.85\\nsquared_error = 113.423\\nsamples = 2\\nvalue = 896.55'),\n",
              " Text(0.29986492570914003, 0.25, 'squared_error = 0.0\\nsamples = 1\\nvalue = 885.9'),\n",
              " Text(0.30346690679873933, 0.25, 'squared_error = 0.0\\nsamples = 1\\nvalue = 907.2'),\n",
              " Text(0.32305267897343537, 0.38636363636363635, 'x[6] <= 203.0\\nsquared_error = 2185.206\\nsamples = 20\\nvalue = 898.745'),\n",
              " Text(0.3124718595227375, 0.3409090909090909, 'x[3] <= 21.1\\nsquared_error = 1318.252\\nsamples = 8\\nvalue = 864.8'),\n",
              " Text(0.30886987843313823, 0.29545454545454547, 'x[0] <= 6.9\\nsquared_error = 351.262\\nsamples = 3\\nvalue = 830.567'),\n",
              " Text(0.3070688878883386, 0.25, 'x[13] <= 65.65\\nsquared_error = 70.56\\nsamples = 2\\nvalue = 842.9'),\n",
              " Text(0.30526789734353893, 0.20454545454545456, 'squared_error = 0.0\\nsamples = 1\\nvalue = 834.5'),\n",
              " Text(0.30886987843313823, 0.20454545454545456, 'squared_error = 0.0\\nsamples = 1\\nvalue = 851.3'),\n",
              " Text(0.3106708689779379, 0.25, 'squared_error = -0.0\\nsamples = 1\\nvalue = 805.9'),\n",
              " Text(0.3160738406123368, 0.29545454545454547, 'x[9] <= 187.6\\nsquared_error = 773.402\\nsamples = 5\\nvalue = 885.34'),\n",
              " Text(0.31427285006753714, 0.25, 'x[15] <= 444.95\\nsquared_error = 323.775\\nsamples = 4\\nvalue = 874.0'),\n",
              " Text(0.3124718595227375, 0.20454545454545456, 'x[9] <= 172.55\\nsquared_error = 60.496\\nsamples = 3\\nvalue = 883.633'),\n",
              " Text(0.3106708689779379, 0.1590909090909091, 'x[8] <= 144.1\\nsquared_error = 2.723\\nsamples = 2\\nvalue = 889.05'),\n",
              " Text(0.30886987843313823, 0.11363636363636363, 'squared_error = 0.0\\nsamples = 1\\nvalue = 887.4'),\n",
              " Text(0.3124718595227375, 0.11363636363636363, 'squared_error = 0.0\\nsamples = 1\\nvalue = 890.7'),\n",
              " Text(0.31427285006753714, 0.1590909090909091, 'squared_error = -0.0\\nsamples = 1\\nvalue = 872.8'),\n",
              " Text(0.3160738406123368, 0.20454545454545456, 'squared_error = -0.0\\nsamples = 1\\nvalue = 845.1'),\n",
              " Text(0.31787483115713644, 0.25, 'squared_error = 0.0\\nsamples = 1\\nvalue = 930.7'),\n",
              " Text(0.33363349842413326, 0.3409090909090909, 'x[9] <= 125.4\\nsquared_error = 1482.884\\nsamples = 12\\nvalue = 921.375'),\n",
              " Text(0.33183250787933366, 0.29545454545454547, 'x[3] <= 13.75\\nsquared_error = 509.151\\nsamples = 11\\nvalue = 911.764'),\n",
              " Text(0.32417829806393517, 0.25, 'x[8] <= 144.5\\nsquared_error = 277.857\\nsamples = 8\\nvalue = 902.1'),\n",
              " Text(0.3196758217019361, 0.20454545454545456, 'x[9] <= 46.65\\nsquared_error = 61.622\\nsamples = 2\\nvalue = 876.95'),\n",
              " Text(0.31787483115713644, 0.1590909090909091, 'squared_error = 0.0\\nsamples = 1\\nvalue = 869.1'),\n",
              " Text(0.3214768122467357, 0.1590909090909091, 'squared_error = -0.0\\nsamples = 1\\nvalue = 884.8'),\n",
              " Text(0.32868077442593424, 0.20454545454545456, 'x[13] <= 31.0\\nsquared_error = 68.815\\nsamples = 6\\nvalue = 910.483'),\n",
              " Text(0.325078793336335, 0.1590909090909091, 'x[7] <= 265.65\\nsquared_error = 7.023\\nsamples = 2\\nvalue = 899.65'),\n",
              " Text(0.32327780279153534, 0.11363636363636363, 'squared_error = 0.0\\nsamples = 1\\nvalue = 897.0'),\n",
              " Text(0.32687978388113464, 0.11363636363636363, 'squared_error = 0.0\\nsamples = 1\\nvalue = 902.3'),\n",
              " Text(0.33228275551553355, 0.1590909090909091, 'x[13] <= 40.1\\nsquared_error = 11.69\\nsamples = 4\\nvalue = 915.9'),\n",
              " Text(0.3304817649707339, 0.11363636363636363, 'x[6] <= 273.15\\nsquared_error = 0.116\\nsamples = 3\\nvalue = 917.867'),\n",
              " Text(0.32868077442593424, 0.06818181818181818, 'x[5] <= 74.65\\nsquared_error = 0.01\\nsamples = 2\\nvalue = 918.1'),\n",
              " Text(0.32687978388113464, 0.022727272727272728, 'squared_error = 0.0\\nsamples = 1\\nvalue = 918.0'),\n",
              " Text(0.3304817649707339, 0.022727272727272728, 'squared_error = 0.0\\nsamples = 1\\nvalue = 918.2'),\n",
              " Text(0.33228275551553355, 0.06818181818181818, 'squared_error = -0.0\\nsamples = 1\\nvalue = 917.4'),\n",
              " Text(0.3340837460603332, 0.11363636363636363, 'squared_error = 0.0\\nsamples = 1\\nvalue = 910.0'),\n",
              " Text(0.3394867176947321, 0.25, 'x[7] <= 247.65\\nsquared_error = 212.829\\nsamples = 3\\nvalue = 937.533'),\n",
              " Text(0.33768572714993245, 0.20454545454545456, 'x[1] <= 22.35\\nsquared_error = 29.16\\nsamples = 2\\nvalue = 927.7'),\n",
              " Text(0.33588473660513285, 0.1590909090909091, 'squared_error = 0.0\\nsamples = 1\\nvalue = 922.3'),\n",
              " Text(0.3394867176947321, 0.1590909090909091, 'squared_error = -0.0\\nsamples = 1\\nvalue = 933.1'),\n",
              " Text(0.34128770823953175, 0.20454545454545456, 'squared_error = 0.0\\nsamples = 1\\nvalue = 957.2'),\n",
              " Text(0.3354344889689329, 0.29545454545454547, 'squared_error = -0.0\\nsamples = 1\\nvalue = 1027.1'),\n",
              " Text(0.3284556506078343, 0.4318181818181818, 'x[7] <= 116.0\\nsquared_error = 0.563\\nsamples = 2\\nvalue = 1012.35'),\n",
              " Text(0.3266546600630347, 0.38636363636363635, 'squared_error = 0.0\\nsamples = 1\\nvalue = 1013.1'),\n",
              " Text(0.3302566411526339, 0.38636363636363635, 'squared_error = 0.0\\nsamples = 1\\nvalue = 1011.6'),\n",
              " Text(0.3338586222422332, 0.4772727272727273, 'x[12] <= 161.65\\nsquared_error = 545.223\\nsamples = 2\\nvalue = 1064.75'),\n",
              " Text(0.3320576316974336, 0.4318181818181818, 'squared_error = 0.0\\nsamples = 1\\nvalue = 1041.4'),\n",
              " Text(0.3356596127870329, 0.4318181818181818, 'squared_error = 0.0\\nsamples = 1\\nvalue = 1088.1'),\n",
              " Text(0.36830256641152637, 0.5681818181818182, 'x[5] <= 66.7\\nsquared_error = 1867.03\\nsamples = 24\\nvalue = 949.779'),\n",
              " Text(0.3665015758667267, 0.5227272727272727, 'squared_error = 0.0\\nsamples = 1\\nvalue = 1112.5'),\n",
              " Text(0.37010355695632596, 0.5227272727272727, 'x[15] <= 63.5\\nsquared_error = 746.932\\nsamples = 23\\nvalue = 942.704'),\n",
              " Text(0.3574966231427285, 0.4772727272727273, 'x[4] <= 8.65\\nsquared_error = 317.026\\nsamples = 17\\nvalue = 930.341'),\n",
              " Text(0.3484916704187303, 0.4318181818181818, 'x[6] <= 254.05\\nsquared_error = 258.296\\nsamples = 7\\nvalue = 914.271'),\n",
              " Text(0.34669067987393065, 0.38636363636363635, 'squared_error = 0.0\\nsamples = 1\\nvalue = 881.8'),\n",
              " Text(0.35029266096352996, 0.38636363636363635, 'x[0] <= 19.2\\nsquared_error = 96.325\\nsamples = 6\\nvalue = 919.683'),\n",
              " Text(0.3484916704187303, 0.3409090909090909, 'x[1] <= 2.2\\nsquared_error = 30.614\\nsamples = 5\\nvalue = 915.92'),\n",
              " Text(0.34669067987393065, 0.29545454545454547, 'squared_error = 0.0\\nsamples = 1\\nvalue = 905.7'),\n",
              " Text(0.35029266096352996, 0.29545454545454547, 'x[15] <= 51.05\\nsquared_error = 5.627\\nsamples = 4\\nvalue = 918.475'),\n",
              " Text(0.34669067987393065, 0.25, 'x[7] <= 304.3\\nsquared_error = 0.25\\nsamples = 2\\nvalue = 920.7'),\n",
              " Text(0.344889689329131, 0.20454545454545456, 'squared_error = 0.0\\nsamples = 1\\nvalue = 921.2'),\n",
              " Text(0.3484916704187303, 0.20454545454545456, 'squared_error = -0.0\\nsamples = 1\\nvalue = 920.2'),\n",
              " Text(0.3538946420531292, 0.25, 'x[14] <= 826.1\\nsquared_error = 1.103\\nsamples = 2\\nvalue = 916.25'),\n",
              " Text(0.3520936515083296, 0.20454545454545456, 'squared_error = 0.0\\nsamples = 1\\nvalue = 915.2'),\n",
              " Text(0.35569563259792886, 0.20454545454545456, 'squared_error = 0.0\\nsamples = 1\\nvalue = 917.3'),\n",
              " Text(0.3520936515083296, 0.3409090909090909, 'squared_error = 0.0\\nsamples = 1\\nvalue = 938.5'),\n",
              " Text(0.3665015758667267, 0.4318181818181818, 'x[12] <= 24.85\\nsquared_error = 50.835\\nsamples = 10\\nvalue = 941.59'),\n",
              " Text(0.35929761368752816, 0.38636363636363635, 'x[15] <= 51.45\\nsquared_error = 33.914\\nsamples = 5\\nvalue = 936.16'),\n",
              " Text(0.35569563259792886, 0.3409090909090909, 'x[11] <= 4.55\\nsquared_error = 2.723\\nsamples = 2\\nvalue = 929.85'),\n",
              " Text(0.3538946420531292, 0.29545454545454547, 'squared_error = 0.0\\nsamples = 1\\nvalue = 928.2'),\n",
              " Text(0.3574966231427285, 0.29545454545454547, 'squared_error = 0.0\\nsamples = 1\\nvalue = 931.5'),\n",
              " Text(0.3628995947771274, 0.3409090909090909, 'x[9] <= 42.25\\nsquared_error = 10.469\\nsamples = 3\\nvalue = 940.367'),\n",
              " Text(0.36109860423232776, 0.29545454545454547, 'x[0] <= 10.05\\nsquared_error = 2.89\\nsamples = 2\\nvalue = 938.3'),\n",
              " Text(0.35929761368752816, 0.25, 'squared_error = 0.0\\nsamples = 1\\nvalue = 940.0'),\n",
              " Text(0.3628995947771274, 0.25, 'squared_error = 0.0\\nsamples = 1\\nvalue = 936.6'),\n",
              " Text(0.36470058532192706, 0.29545454545454547, 'squared_error = 0.0\\nsamples = 1\\nvalue = 944.5'),\n",
              " Text(0.37370553804592527, 0.38636363636363635, 'x[2] <= 8.6\\nsquared_error = 8.786\\nsamples = 5\\nvalue = 947.02'),\n",
              " Text(0.37010355695632596, 0.3409090909090909, 'x[9] <= 35.35\\nsquared_error = 0.04\\nsamples = 2\\nvalue = 943.4'),\n",
              " Text(0.36830256641152637, 0.29545454545454547, 'squared_error = 0.0\\nsamples = 1\\nvalue = 943.6'),\n",
              " Text(0.3719045475011256, 0.29545454545454547, 'squared_error = -0.0\\nsamples = 1\\nvalue = 943.2'),\n",
              " Text(0.3773075191355245, 0.3409090909090909, 'x[14] <= 840.3\\nsquared_error = 0.056\\nsamples = 3\\nvalue = 949.433'),\n",
              " Text(0.3755065285907249, 0.29545454545454547, 'squared_error = 0.0\\nsamples = 1\\nvalue = 949.1'),\n",
              " Text(0.37910850968032417, 0.29545454545454547, 'squared_error = -0.0\\nsamples = 2\\nvalue = 949.6'),\n",
              " Text(0.3827104907699235, 0.4772727272727273, 'x[4] <= 10.1\\nsquared_error = 304.899\\nsamples = 6\\nvalue = 977.733'),\n",
              " Text(0.3809095002251238, 0.4318181818181818, 'squared_error = 0.0\\nsamples = 1\\nvalue = 940.9'),\n",
              " Text(0.3845114813147231, 0.4318181818181818, 'x[10] <= 7.8\\nsquared_error = 40.272\\nsamples = 5\\nvalue = 985.1'),\n",
              " Text(0.3827104907699235, 0.38636363636363635, 'squared_error = 0.0\\nsamples = 1\\nvalue = 996.6'),\n",
              " Text(0.3863124718595227, 0.38636363636363635, 'x[6] <= 269.15\\nsquared_error = 9.012\\nsamples = 4\\nvalue = 982.225'),\n",
              " Text(0.3845114813147231, 0.3409090909090909, 'x[2] <= 10.9\\nsquared_error = 2.302\\nsamples = 3\\nvalue = 980.667'),\n",
              " Text(0.3827104907699235, 0.29545454545454547, 'x[8] <= 164.0\\nsquared_error = 0.04\\nsamples = 2\\nvalue = 979.6'),\n",
              " Text(0.3809095002251238, 0.25, 'squared_error = 0.0\\nsamples = 1\\nvalue = 979.8'),\n",
              " Text(0.3845114813147231, 0.25, 'squared_error = 0.0\\nsamples = 1\\nvalue = 979.4'),\n",
              " Text(0.3863124718595227, 0.29545454545454547, 'squared_error = -0.0\\nsamples = 1\\nvalue = 982.8'),\n",
              " Text(0.3881134624043224, 0.3409090909090909, 'squared_error = -0.0\\nsamples = 1\\nvalue = 986.9'),\n",
              " Text(0.4007203962179199, 0.6590909090909091, 'x[9] <= 218.6\\nsquared_error = 16244.839\\nsamples = 12\\nvalue = 1172.158'),\n",
              " Text(0.3953174245835209, 0.6136363636363636, 'x[13] <= 127.1\\nsquared_error = 6107.337\\nsamples = 8\\nvalue = 1098.025'),\n",
              " Text(0.3935164340387213, 0.5681818181818182, 'x[4] <= 65.35\\nsquared_error = 2254.505\\nsamples = 7\\nvalue = 1122.329'),\n",
              " Text(0.3881134624043224, 0.5227272727272727, 'x[2] <= 6.9\\nsquared_error = 154.922\\nsamples = 4\\nvalue = 1159.625'),\n",
              " Text(0.3863124718595227, 0.4772727272727273, 'squared_error = 0.0\\nsamples = 1\\nvalue = 1139.6'),\n",
              " Text(0.389914452949122, 0.4772727272727273, 'x[6] <= 127.1\\nsquared_error = 28.34\\nsamples = 3\\nvalue = 1166.3'),\n",
              " Text(0.3881134624043224, 0.4318181818181818, 'squared_error = 0.0\\nsamples = 1\\nvalue = 1173.3'),\n",
              " Text(0.3917154434939217, 0.4318181818181818, 'x[2] <= 12.95\\nsquared_error = 5.76\\nsamples = 2\\nvalue = 1162.8'),\n",
              " Text(0.389914452949122, 0.38636363636363635, 'squared_error = 0.0\\nsamples = 1\\nvalue = 1160.4'),\n",
              " Text(0.3935164340387213, 0.38636363636363635, 'squared_error = -0.0\\nsamples = 1\\nvalue = 1165.2'),\n",
              " Text(0.39891940567312023, 0.5227272727272727, 'x[13] <= 105.6\\nsquared_error = 726.32\\nsamples = 3\\nvalue = 1072.6'),\n",
              " Text(0.3971184151283206, 0.4772727272727273, 'x[10] <= 187.7\\nsquared_error = 252.81\\nsamples = 2\\nvalue = 1055.9'),\n",
              " Text(0.3953174245835209, 0.4318181818181818, 'squared_error = 0.0\\nsamples = 1\\nvalue = 1040.0'),\n",
              " Text(0.39891940567312023, 0.4318181818181818, 'squared_error = -0.0\\nsamples = 1\\nvalue = 1071.8'),\n",
              " Text(0.4007203962179199, 0.4772727272727273, 'squared_error = 0.0\\nsamples = 1\\nvalue = 1106.0'),\n",
              " Text(0.3971184151283206, 0.5681818181818182, 'squared_error = 0.0\\nsamples = 1\\nvalue = 927.9'),\n",
              " Text(0.4061233678523188, 0.6136363636363636, 'x[9] <= 233.5\\nsquared_error = 3545.337\\nsamples = 4\\nvalue = 1320.425'),\n",
              " Text(0.40432237730751913, 0.5681818181818182, 'squared_error = 0.0\\nsamples = 1\\nvalue = 1227.7'),\n",
              " Text(0.40792435839711844, 0.5681818181818182, 'x[3] <= 18.0\\nsquared_error = 905.816\\nsamples = 3\\nvalue = 1351.333'),\n",
              " Text(0.4061233678523188, 0.5227272727272727, 'x[15] <= 816.5\\nsquared_error = 37.823\\nsamples = 2\\nvalue = 1330.35'),\n",
              " Text(0.40432237730751913, 0.4772727272727273, 'squared_error = 0.0\\nsamples = 1\\nvalue = 1324.2'),\n",
              " Text(0.40792435839711844, 0.4772727272727273, 'squared_error = 0.0\\nsamples = 1\\nvalue = 1336.5'),\n",
              " Text(0.40972534894191803, 0.5227272727272727, 'squared_error = -0.0\\nsamples = 1\\nvalue = 1393.3'),\n",
              " Text(0.46476812246735705, 0.7045454545454546, 'x[13] <= 51.45\\nsquared_error = 5157.412\\nsamples = 45\\nvalue = 1063.822'),\n",
              " Text(0.4320126069338136, 0.6590909090909091, 'x[14] <= 875.45\\nsquared_error = 1729.717\\nsamples = 31\\nvalue = 1027.255'),\n",
              " Text(0.41873030166591624, 0.6136363636363636, 'x[4] <= 9.35\\nsquared_error = 292.062\\nsamples = 5\\nvalue = 953.48'),\n",
              " Text(0.415128320576317, 0.5681818181818182, 'x[9] <= 27.15\\nsquared_error = 107.007\\nsamples = 3\\nvalue = 941.3'),\n",
              " Text(0.41332733003151734, 0.5227272727272727, 'squared_error = 0.0\\nsamples = 1\\nvalue = 926.7'),\n",
              " Text(0.41692931112111664, 0.5227272727272727, 'x[0] <= 7.45\\nsquared_error = 0.64\\nsamples = 2\\nvalue = 948.6'),\n",
              " Text(0.415128320576317, 0.4772727272727273, 'squared_error = 0.0\\nsamples = 1\\nvalue = 947.8'),\n",
              " Text(0.41873030166591624, 0.4772727272727273, 'squared_error = 0.0\\nsamples = 1\\nvalue = 949.4'),\n",
              " Text(0.42233228275551554, 0.5681818181818182, 'x[3] <= 4.15\\nsquared_error = 13.323\\nsamples = 2\\nvalue = 971.75'),\n",
              " Text(0.4205312922107159, 0.5227272727272727, 'squared_error = 0.0\\nsamples = 1\\nvalue = 975.4'),\n",
              " Text(0.4241332733003152, 0.5227272727272727, 'squared_error = 0.0\\nsamples = 1\\nvalue = 968.1'),\n",
              " Text(0.44529491220171097, 0.6136363636363636, 'x[14] <= 909.5\\nsquared_error = 758.227\\nsamples = 26\\nvalue = 1041.442'),\n",
              " Text(0.43133723547951375, 0.5681818181818182, 'x[15] <= 69.7\\nsquared_error = 211.894\\nsamples = 9\\nvalue = 1015.344'),\n",
              " Text(0.42773525438991444, 0.5227272727272727, 'x[11] <= 6.0\\nsquared_error = 31.422\\nsamples = 5\\nvalue = 1003.68'),\n",
              " Text(0.4259342638451148, 0.4772727272727273, 'x[6] <= 275.15\\nsquared_error = 10.357\\nsamples = 4\\nvalue = 1001.275'),\n",
              " Text(0.4241332733003152, 0.4318181818181818, 'squared_error = 0.0\\nsamples = 1\\nvalue = 995.8'),\n",
              " Text(0.42773525438991444, 0.4318181818181818, 'x[0] <= 13.2\\nsquared_error = 0.487\\nsamples = 3\\nvalue = 1003.1'),\n",
              " Text(0.4259342638451148, 0.38636363636363635, 'squared_error = 0.0\\nsamples = 1\\nvalue = 1002.2'),\n",
              " Text(0.4295362449347141, 0.38636363636363635, 'x[7] <= 281.15\\nsquared_error = 0.122\\nsamples = 2\\nvalue = 1003.55'),\n",
              " Text(0.42773525438991444, 0.3409090909090909, 'squared_error = 0.0\\nsamples = 1\\nvalue = 1003.9'),\n",
              " Text(0.43133723547951375, 0.3409090909090909, 'squared_error = 0.0\\nsamples = 1\\nvalue = 1003.2'),\n",
              " Text(0.4295362449347141, 0.4772727272727273, 'squared_error = -0.0\\nsamples = 1\\nvalue = 1013.3'),\n",
              " Text(0.434939216569113, 0.5227272727272727, 'x[5] <= 138.55\\nsquared_error = 54.817\\nsamples = 4\\nvalue = 1029.925'),\n",
              " Text(0.4331382260243134, 0.4772727272727273, 'squared_error = 0.0\\nsamples = 1\\nvalue = 1041.8'),\n",
              " Text(0.43674020711391265, 0.4772727272727273, 'x[1] <= 14.3\\nsquared_error = 10.416\\nsamples = 3\\nvalue = 1025.967'),\n",
              " Text(0.434939216569113, 0.4318181818181818, 'x[9] <= 58.4\\nsquared_error = 1.323\\nsamples = 2\\nvalue = 1028.15'),\n",
              " Text(0.4331382260243134, 0.38636363636363635, 'squared_error = 0.0\\nsamples = 1\\nvalue = 1027.0'),\n",
              " Text(0.43674020711391265, 0.38636363636363635, 'squared_error = -0.0\\nsamples = 1\\nvalue = 1029.3'),\n",
              " Text(0.4385411976587123, 0.4318181818181818, 'squared_error = -0.0\\nsamples = 1\\nvalue = 1021.6'),\n",
              " Text(0.45925258892390813, 0.5681818181818182, 'x[13] <= 29.45\\nsquared_error = 495.985\\nsamples = 17\\nvalue = 1055.259'),\n",
              " Text(0.44844664565511033, 0.5227272727272727, 'x[1] <= 15.1\\nsquared_error = 86.37\\nsamples = 8\\nvalue = 1035.462'),\n",
              " Text(0.4466456551103107, 0.4772727272727273, 'x[11] <= 6.25\\nsquared_error = 29.173\\nsamples = 7\\nvalue = 1032.514'),\n",
              " Text(0.44214317874831155, 0.4318181818181818, 'x[4] <= 11.15\\nsquared_error = 4.41\\nsamples = 2\\nvalue = 1039.7'),\n",
              " Text(0.44034218820351195, 0.38636363636363635, 'squared_error = 0.0\\nsamples = 1\\nvalue = 1041.8'),\n",
              " Text(0.4439441692931112, 0.38636363636363635, 'squared_error = 0.0\\nsamples = 1\\nvalue = 1037.6'),\n",
              " Text(0.45114813147230975, 0.4318181818181818, 'x[13] <= 17.15\\nsquared_error = 10.162\\nsamples = 5\\nvalue = 1029.64'),\n",
              " Text(0.4475461503827105, 0.38636363636363635, 'x[10] <= 10.1\\nsquared_error = 2.56\\nsamples = 2\\nvalue = 1033.0'),\n",
              " Text(0.44574515983791085, 0.3409090909090909, 'squared_error = 0.0\\nsamples = 1\\nvalue = 1034.6'),\n",
              " Text(0.44934714092751016, 0.3409090909090909, 'squared_error = 0.0\\nsamples = 1\\nvalue = 1031.4'),\n",
              " Text(0.45475011256190906, 0.38636363636363635, 'x[15] <= 48.1\\nsquared_error = 2.687\\nsamples = 3\\nvalue = 1027.4'),\n",
              " Text(0.4529491220171094, 0.3409090909090909, 'squared_error = 0.0\\nsamples = 1\\nvalue = 1025.1'),\n",
              " Text(0.4565511031067087, 0.3409090909090909, 'x[1] <= 7.8\\nsquared_error = 0.063\\nsamples = 2\\nvalue = 1028.55'),\n",
              " Text(0.45475011256190906, 0.29545454545454547, 'squared_error = 0.0\\nsamples = 1\\nvalue = 1028.3'),\n",
              " Text(0.4583520936515083, 0.29545454545454547, 'squared_error = 0.0\\nsamples = 1\\nvalue = 1028.8'),\n",
              " Text(0.45024763619990993, 0.4772727272727273, 'squared_error = 0.0\\nsamples = 1\\nvalue = 1056.1'),\n",
              " Text(0.470058532192706, 0.5227272727272727, 'x[7] <= 293.95\\nsquared_error = 202.091\\nsamples = 9\\nvalue = 1072.856'),\n",
              " Text(0.46375506528590726, 0.4772727272727273, 'x[15] <= 64.45\\nsquared_error = 74.358\\nsamples = 5\\nvalue = 1061.68'),\n",
              " Text(0.46015308419630796, 0.4318181818181818, 'x[8] <= 213.9\\nsquared_error = 7.762\\nsamples = 3\\nvalue = 1055.067'),\n",
              " Text(0.4583520936515083, 0.38636363636363635, 'squared_error = 0.0\\nsamples = 1\\nvalue = 1051.5'),\n",
              " Text(0.4619540747411076, 0.38636363636363635, 'x[14] <= 941.6\\nsquared_error = 2.103\\nsamples = 2\\nvalue = 1056.85'),\n",
              " Text(0.46015308419630796, 0.3409090909090909, 'squared_error = 0.0\\nsamples = 1\\nvalue = 1055.4'),\n",
              " Text(0.46375506528590726, 0.3409090909090909, 'squared_error = 0.0\\nsamples = 1\\nvalue = 1058.3'),\n",
              " Text(0.4673570463755065, 0.4318181818181818, 'x[2] <= 12.75\\nsquared_error = 10.24\\nsamples = 2\\nvalue = 1071.6'),\n",
              " Text(0.4655560558307069, 0.38636363636363635, 'squared_error = 0.0\\nsamples = 1\\nvalue = 1074.8'),\n",
              " Text(0.46915803692030617, 0.38636363636363635, 'squared_error = 0.0\\nsamples = 1\\nvalue = 1068.4'),\n",
              " Text(0.4763619990995047, 0.4772727272727273, 'x[9] <= 77.55\\nsquared_error = 10.497\\nsamples = 4\\nvalue = 1086.825'),\n",
              " Text(0.47456100855470507, 0.4318181818181818, 'x[8] <= 176.5\\nsquared_error = 2.549\\nsamples = 3\\nvalue = 1085.133'),\n",
              " Text(0.47276001800990547, 0.38636363636363635, 'squared_error = 0.0\\nsamples = 1\\nvalue = 1083.1'),\n",
              " Text(0.4763619990995047, 0.38636363636363635, 'x[15] <= 68.45\\nsquared_error = 0.723\\nsamples = 2\\nvalue = 1086.15'),\n",
              " Text(0.47456100855470507, 0.3409090909090909, 'squared_error = 0.0\\nsamples = 1\\nvalue = 1087.0'),\n",
              " Text(0.47816298964430437, 0.3409090909090909, 'squared_error = -0.0\\nsamples = 1\\nvalue = 1085.3'),\n",
              " Text(0.47816298964430437, 0.4318181818181818, 'squared_error = -0.0\\nsamples = 1\\nvalue = 1091.9'),\n",
              " Text(0.4975236380009005, 0.6590909090909091, 'x[12] <= 107.95\\nsquared_error = 3230.181\\nsamples = 14\\nvalue = 1144.793'),\n",
              " Text(0.49167041873030165, 0.6136363636363636, 'x[1] <= 9.6\\nsquared_error = 923.15\\nsamples = 10\\nvalue = 1114.03'),\n",
              " Text(0.4871679423683026, 0.5681818181818182, 'x[12] <= 18.85\\nsquared_error = 386.087\\nsamples = 4\\nvalue = 1086.85'),\n",
              " Text(0.4853669518235029, 0.5227272727272727, 'x[12] <= 17.4\\nsquared_error = 49.662\\nsamples = 3\\nvalue = 1097.633'),\n",
              " Text(0.48356596127870327, 0.4772727272727273, 'x[12] <= 14.05\\nsquared_error = 4.41\\nsamples = 2\\nvalue = 1092.8'),\n",
              " Text(0.4817649707339037, 0.4318181818181818, 'squared_error = 0.0\\nsamples = 1\\nvalue = 1094.9'),\n",
              " Text(0.4853669518235029, 0.4318181818181818, 'squared_error = -0.0\\nsamples = 1\\nvalue = 1090.7'),\n",
              " Text(0.4871679423683026, 0.4772727272727273, 'squared_error = -0.0\\nsamples = 1\\nvalue = 1107.3'),\n",
              " Text(0.4889689329131022, 0.5227272727272727, 'squared_error = 0.0\\nsamples = 1\\nvalue = 1054.5'),\n",
              " Text(0.4961728950923008, 0.5681818181818182, 'x[4] <= 37.6\\nsquared_error = 460.356\\nsamples = 6\\nvalue = 1132.15'),\n",
              " Text(0.4925709140027015, 0.5227272727272727, 'x[14] <= 910.85\\nsquared_error = 14.287\\nsamples = 3\\nvalue = 1111.3'),\n",
              " Text(0.4907699234579018, 0.4772727272727273, 'x[10] <= 11.15\\nsquared_error = 3.423\\nsamples = 2\\nvalue = 1108.85'),\n",
              " Text(0.4889689329131022, 0.4318181818181818, 'squared_error = 0.0\\nsamples = 1\\nvalue = 1107.0'),\n",
              " Text(0.4925709140027015, 0.4318181818181818, 'squared_error = 0.0\\nsamples = 1\\nvalue = 1110.7'),\n",
              " Text(0.49437190454750113, 0.4772727272727273, 'squared_error = -0.0\\nsamples = 1\\nvalue = 1116.2'),\n",
              " Text(0.49977487618190003, 0.5227272727272727, 'x[0] <= 28.85\\nsquared_error = 36.98\\nsamples = 3\\nvalue = 1153.0'),\n",
              " Text(0.49797388563710043, 0.4772727272727273, 'squared_error = 0.0\\nsamples = 1\\nvalue = 1144.4'),\n",
              " Text(0.5015758667266997, 0.4772727272727273, 'squared_error = -0.0\\nsamples = 2\\nvalue = 1157.3'),\n",
              " Text(0.5033768572714993, 0.6136363636363636, 'x[11] <= 26.65\\nsquared_error = 717.165\\nsamples = 4\\nvalue = 1221.7'),\n",
              " Text(0.5015758667266997, 0.5681818181818182, 'squared_error = 0.0\\nsamples = 1\\nvalue = 1267.0'),\n",
              " Text(0.5051778478162989, 0.5681818181818182, 'x[14] <= 868.75\\nsquared_error = 44.18\\nsamples = 3\\nvalue = 1206.6'),\n",
              " Text(0.5033768572714993, 0.5227272727272727, 'squared_error = -0.0\\nsamples = 2\\nvalue = 1211.3'),\n",
              " Text(0.5069788383610986, 0.5227272727272727, 'squared_error = 0.0\\nsamples = 1\\nvalue = 1197.2'),\n",
              " Text(0.5222872579918956, 0.75, 'x[6] <= 104.45\\nsquared_error = 32161.957\\nsamples = 21\\nvalue = 1194.114'),\n",
              " Text(0.5132823052678973, 0.7045454545454546, 'x[8] <= 48.2\\nsquared_error = 11407.971\\nsamples = 7\\nvalue = 980.557'),\n",
              " Text(0.5087798289058982, 0.6590909090909091, 'x[3] <= 150.35\\nsquared_error = 0.123\\nsamples = 2\\nvalue = 1132.35'),\n",
              " Text(0.5069788383610986, 0.6136363636363636, 'squared_error = 0.0\\nsamples = 1\\nvalue = 1132.0'),\n",
              " Text(0.5105808194506979, 0.6136363636363636, 'squared_error = 0.0\\nsamples = 1\\nvalue = 1132.7'),\n",
              " Text(0.5177847816298965, 0.6590909090909091, 'x[5] <= 60.5\\nsquared_error = 3068.11\\nsamples = 5\\nvalue = 919.84'),\n",
              " Text(0.5141828005402972, 0.6136363636363636, 'x[8] <= 166.95\\nsquared_error = 441.716\\nsamples = 3\\nvalue = 877.233'),\n",
              " Text(0.5123818099954975, 0.5681818181818182, 'x[7] <= 89.05\\nsquared_error = 134.56\\nsamples = 2\\nvalue = 890.5'),\n",
              " Text(0.5105808194506979, 0.5227272727272727, 'squared_error = 0.0\\nsamples = 1\\nvalue = 878.9'),\n",
              " Text(0.5141828005402972, 0.5227272727272727, 'squared_error = 0.0\\nsamples = 1\\nvalue = 902.1'),\n",
              " Text(0.5159837910850968, 0.5681818181818182, 'squared_error = 0.0\\nsamples = 1\\nvalue = 850.7'),\n",
              " Text(0.5213867627194957, 0.6136363636363636, 'x[15] <= 251.95\\nsquared_error = 200.222\\nsamples = 2\\nvalue = 983.75'),\n",
              " Text(0.519585772174696, 0.5681818181818182, 'squared_error = 0.0\\nsamples = 1\\nvalue = 969.6'),\n",
              " Text(0.5231877532642953, 0.5681818181818182, 'squared_error = -0.0\\nsamples = 1\\nvalue = 997.9'),\n",
              " Text(0.5312922107158937, 0.7045454545454546, 'x[11] <= 6.8\\nsquared_error = 8333.961\\nsamples = 14\\nvalue = 1300.893'),\n",
              " Text(0.5267897343538946, 0.6590909090909091, 'x[4] <= 93.65\\nsquared_error = 97.022\\nsamples = 2\\nvalue = 1130.55'),\n",
              " Text(0.524988743809095, 0.6136363636363636, 'squared_error = 0.0\\nsamples = 1\\nvalue = 1140.4'),\n",
              " Text(0.5285907248986943, 0.6136363636363636, 'squared_error = -0.0\\nsamples = 1\\nvalue = 1120.7'),\n",
              " Text(0.5357946870778928, 0.6590909090909091, 'x[6] <= 249.75\\nsquared_error = 4064.65\\nsamples = 12\\nvalue = 1329.283'),\n",
              " Text(0.5321927059882936, 0.6136363636363636, 'x[5] <= 56.9\\nsquared_error = 709.012\\nsamples = 10\\nvalue = 1308.88'),\n",
              " Text(0.530391715443494, 0.5681818181818182, 'squared_error = 0.0\\nsamples = 1\\nvalue = 1248.8'),\n",
              " Text(0.5339936965330933, 0.5681818181818182, 'x[3] <= 105.3\\nsquared_error = 342.16\\nsamples = 9\\nvalue = 1315.556'),\n",
              " Text(0.530391715443494, 0.5227272727272727, 'x[14] <= 833.5\\nsquared_error = 49.826\\nsamples = 5\\nvalue = 1299.92'),\n",
              " Text(0.5285907248986943, 0.4772727272727273, 'x[7] <= 213.9\\nsquared_error = 4.312\\nsamples = 4\\nvalue = 1303.325'),\n",
              " Text(0.524988743809095, 0.4318181818181818, 'x[8] <= 130.95\\nsquared_error = 1.103\\nsamples = 2\\nvalue = 1301.45'),\n",
              " Text(0.5231877532642953, 0.38636363636363635, 'squared_error = 0.0\\nsamples = 1\\nvalue = 1302.5'),\n",
              " Text(0.5267897343538946, 0.38636363636363635, 'squared_error = 0.0\\nsamples = 1\\nvalue = 1300.4'),\n",
              " Text(0.5321927059882936, 0.4318181818181818, 'x[11] <= 12.55\\nsquared_error = 0.49\\nsamples = 2\\nvalue = 1305.2'),\n",
              " Text(0.530391715443494, 0.38636363636363635, 'squared_error = 0.0\\nsamples = 1\\nvalue = 1304.5'),\n",
              " Text(0.5339936965330933, 0.38636363636363635, 'squared_error = 0.0\\nsamples = 1\\nvalue = 1305.9'),\n",
              " Text(0.5321927059882936, 0.4772727272727273, 'squared_error = -0.0\\nsamples = 1\\nvalue = 1286.3'),\n",
              " Text(0.5375956776226924, 0.5227272727272727, 'x[7] <= 123.0\\nsquared_error = 20.005\\nsamples = 4\\nvalue = 1335.1'),\n",
              " Text(0.5357946870778928, 0.4772727272727273, 'squared_error = 0.0\\nsamples = 1\\nvalue = 1328.4'),\n",
              " Text(0.5393966681674921, 0.4772727272727273, 'x[12] <= 159.05\\nsquared_error = 6.722\\nsamples = 3\\nvalue = 1337.333'),\n",
              " Text(0.5375956776226924, 0.4318181818181818, 'squared_error = 0.0\\nsamples = 1\\nvalue = 1341.0'),\n",
              " Text(0.5411976587122918, 0.4318181818181818, 'squared_error = 0.0\\nsamples = 2\\nvalue = 1335.5'),\n",
              " Text(0.5393966681674921, 0.6136363636363636, 'x[7] <= 179.15\\nsquared_error = 8353.96\\nsamples = 2\\nvalue = 1431.3'),\n",
              " Text(0.5375956776226924, 0.5681818181818182, 'squared_error = 0.0\\nsamples = 1\\nvalue = 1339.9'),\n",
              " Text(0.5411976587122918, 0.5681818181818182, 'squared_error = -0.0\\nsamples = 1\\nvalue = 1522.7'),\n",
              " Text(0.7830932012606934, 0.8863636363636364, 'x[5] <= 247.3\\nsquared_error = 85456.568\\nsamples = 158\\nvalue = 1470.556'),\n",
              " Text(0.7163439891940567, 0.8409090909090909, 'x[14] <= 1258.2\\nsquared_error = 36518.269\\nsamples = 119\\nvalue = 1344.237'),\n",
              " Text(0.640252138676272, 0.7954545454545454, 'x[2] <= 12.8\\nsquared_error = 17092.357\\nsamples = 102\\nvalue = 1292.76'),\n",
              " Text(0.5906123367852318, 0.75, 'x[6] <= 358.8\\nsquared_error = 4374.938\\nsamples = 42\\nvalue = 1178.274'),\n",
              " Text(0.5756416028815848, 0.7045454545454546, 'x[13] <= 61.6\\nsquared_error = 840.349\\nsamples = 30\\nvalue = 1146.307'),\n",
              " Text(0.5641602881584872, 0.6590909090909091, 'x[14] <= 1021.8\\nsquared_error = 622.536\\nsamples = 24\\nvalue = 1138.662'),\n",
              " Text(0.5538045925258892, 0.6136363636363636, 'x[4] <= 21.3\\nsquared_error = 303.126\\nsamples = 13\\nvalue = 1122.223'),\n",
              " Text(0.5493021161638901, 0.5681818181818182, 'x[11] <= 9.8\\nsquared_error = 197.886\\nsamples = 8\\nvalue = 1112.488'),\n",
              " Text(0.5475011256190905, 0.5227272727272727, 'x[6] <= 309.2\\nsquared_error = 100.997\\nsamples = 7\\nvalue = 1116.443'),\n",
              " Text(0.5457001350742908, 0.4772727272727273, 'squared_error = 0.0\\nsamples = 1\\nvalue = 1095.9'),\n",
              " Text(0.5493021161638901, 0.4772727272727273, 'x[10] <= 4.2\\nsquared_error = 35.772\\nsamples = 6\\nvalue = 1119.867'),\n",
              " Text(0.5447996398018911, 0.4318181818181818, 'x[13] <= 33.45\\nsquared_error = 2.89\\nsamples = 2\\nvalue = 1112.3'),\n",
              " Text(0.5429986492570914, 0.38636363636363635, 'squared_error = 0.0\\nsamples = 1\\nvalue = 1114.0'),\n",
              " Text(0.5466006303466907, 0.38636363636363635, 'squared_error = 0.0\\nsamples = 1\\nvalue = 1110.6'),\n",
              " Text(0.5538045925258892, 0.4318181818181818, 'x[0] <= 18.25\\nsquared_error = 9.272\\nsamples = 4\\nvalue = 1123.65'),\n",
              " Text(0.55020261143629, 0.38636363636363635, 'x[11] <= 5.75\\nsquared_error = 0.422\\nsamples = 2\\nvalue = 1120.65'),\n",
              " Text(0.5484016208914904, 0.3409090909090909, 'squared_error = 0.0\\nsamples = 1\\nvalue = 1121.3'),\n",
              " Text(0.5520036019810896, 0.3409090909090909, 'squared_error = -0.0\\nsamples = 1\\nvalue = 1120.0'),\n",
              " Text(0.5574065736154885, 0.38636363636363635, 'x[12] <= 39.1\\nsquared_error = 0.122\\nsamples = 2\\nvalue = 1126.65'),\n",
              " Text(0.5556055830706889, 0.3409090909090909, 'squared_error = 0.0\\nsamples = 1\\nvalue = 1127.0'),\n",
              " Text(0.5592075641602882, 0.3409090909090909, 'squared_error = -0.0\\nsamples = 1\\nvalue = 1126.3'),\n",
              " Text(0.5511031067086898, 0.5227272727272727, 'squared_error = 0.0\\nsamples = 1\\nvalue = 1084.8'),\n",
              " Text(0.5583070688878884, 0.5681818181818182, 'x[8] <= 209.9\\nsquared_error = 77.22\\nsamples = 5\\nvalue = 1137.8'),\n",
              " Text(0.5547050877982891, 0.5227272727272727, 'x[12] <= 31.35\\nsquared_error = 2.102\\nsamples = 2\\nvalue = 1147.15'),\n",
              " Text(0.5529040972534894, 0.4772727272727273, 'squared_error = 0.0\\nsamples = 1\\nvalue = 1145.7'),\n",
              " Text(0.5565060783430887, 0.4772727272727273, 'squared_error = -0.0\\nsamples = 1\\nvalue = 1148.6'),\n",
              " Text(0.5619090499774876, 0.5227272727272727, 'x[0] <= 15.7\\nsquared_error = 30.162\\nsamples = 3\\nvalue = 1131.567'),\n",
              " Text(0.5601080594326879, 0.4772727272727273, 'x[7] <= 296.0\\nsquared_error = 0.003\\nsamples = 2\\nvalue = 1135.45'),\n",
              " Text(0.5583070688878884, 0.4318181818181818, 'squared_error = 0.0\\nsamples = 1\\nvalue = 1135.4'),\n",
              " Text(0.5619090499774876, 0.4318181818181818, 'squared_error = 0.0\\nsamples = 1\\nvalue = 1135.5'),\n",
              " Text(0.5637100405222872, 0.4772727272727273, 'squared_error = -0.0\\nsamples = 1\\nvalue = 1123.8'),\n",
              " Text(0.5745159837910851, 0.6136363636363636, 'x[3] <= 2.35\\nsquared_error = 303.164\\nsamples = 11\\nvalue = 1158.091'),\n",
              " Text(0.5709140027014858, 0.5681818181818182, 'x[9] <= 35.25\\nsquared_error = 80.045\\nsamples = 4\\nvalue = 1142.1'),\n",
              " Text(0.5691130121566862, 0.5227272727272727, 'x[11] <= 7.7\\nsquared_error = 22.087\\nsamples = 3\\nvalue = 1146.7'),\n",
              " Text(0.5673120216118865, 0.4772727272727273, 'x[3] <= 2.1\\nsquared_error = 7.022\\nsamples = 2\\nvalue = 1143.75'),\n",
              " Text(0.5655110310670869, 0.4318181818181818, 'squared_error = 0.0\\nsamples = 1\\nvalue = 1146.4'),\n",
              " Text(0.5691130121566862, 0.4318181818181818, 'squared_error = 0.0\\nsamples = 1\\nvalue = 1141.1'),\n",
              " Text(0.5709140027014858, 0.4772727272727273, 'squared_error = 0.0\\nsamples = 1\\nvalue = 1152.6'),\n",
              " Text(0.5727149932462855, 0.5227272727272727, 'squared_error = -0.0\\nsamples = 1\\nvalue = 1128.3'),\n",
              " Text(0.5781179648806843, 0.5681818181818182, 'x[11] <= 2.85\\nsquared_error = 201.045\\nsamples = 7\\nvalue = 1167.229'),\n",
              " Text(0.5763169743358847, 0.5227272727272727, 'squared_error = 0.0\\nsamples = 1\\nvalue = 1141.3'),\n",
              " Text(0.579918955425484, 0.5227272727272727, 'x[14] <= 1081.2\\nsquared_error = 103.829\\nsamples = 6\\nvalue = 1171.55'),\n",
              " Text(0.5781179648806843, 0.4772727272727273, 'x[11] <= 8.4\\nsquared_error = 20.262\\nsamples = 5\\nvalue = 1167.38'),\n",
              " Text(0.5763169743358847, 0.4318181818181818, 'x[5] <= 164.1\\nsquared_error = 8.765\\nsamples = 4\\nvalue = 1169.2'),\n",
              " Text(0.5745159837910851, 0.38636363636363635, 'x[8] <= 209.25\\nsquared_error = 2.282\\nsamples = 3\\nvalue = 1170.733'),\n",
              " Text(0.5727149932462855, 0.3409090909090909, 'squared_error = 0.0\\nsamples = 1\\nvalue = 1168.6'),\n",
              " Text(0.5763169743358847, 0.3409090909090909, 'x[0] <= 20.95\\nsquared_error = 0.01\\nsamples = 2\\nvalue = 1171.8'),\n",
              " Text(0.5745159837910851, 0.29545454545454547, 'squared_error = 0.0\\nsamples = 1\\nvalue = 1171.9'),\n",
              " Text(0.5781179648806843, 0.29545454545454547, 'squared_error = -0.0\\nsamples = 1\\nvalue = 1171.7'),\n",
              " Text(0.5781179648806843, 0.38636363636363635, 'squared_error = -0.0\\nsamples = 1\\nvalue = 1164.6'),\n",
              " Text(0.579918955425484, 0.4318181818181818, 'squared_error = -0.0\\nsamples = 1\\nvalue = 1160.1'),\n",
              " Text(0.5817199459702836, 0.4772727272727273, 'squared_error = 0.0\\nsamples = 1\\nvalue = 1192.4'),\n",
              " Text(0.5871229176046826, 0.6590909090909091, 'x[12] <= 22.35\\nsquared_error = 542.935\\nsamples = 6\\nvalue = 1176.883'),\n",
              " Text(0.5835209365150833, 0.6136363636363636, 'x[6] <= 315.9\\nsquared_error = 14.823\\nsamples = 2\\nvalue = 1150.65'),\n",
              " Text(0.5817199459702836, 0.5681818181818182, 'squared_error = 0.0\\nsamples = 1\\nvalue = 1146.8'),\n",
              " Text(0.585321927059883, 0.5681818181818182, 'squared_error = -0.0\\nsamples = 1\\nvalue = 1154.5'),\n",
              " Text(0.5907248986942819, 0.6136363636363636, 'x[10] <= 9.05\\nsquared_error = 290.85\\nsamples = 4\\nvalue = 1190.0'),\n",
              " Text(0.5889239081494823, 0.5681818181818182, 'x[13] <= 84.5\\nsquared_error = 41.84\\nsamples = 3\\nvalue = 1199.3'),\n",
              " Text(0.5871229176046826, 0.5227272727272727, 'x[9] <= 68.8\\nsquared_error = 7.29\\nsamples = 2\\nvalue = 1195.0'),\n",
              " Text(0.585321927059883, 0.4772727272727273, 'squared_error = 0.0\\nsamples = 1\\nvalue = 1192.3'),\n",
              " Text(0.5889239081494823, 0.4772727272727273, 'squared_error = 0.0\\nsamples = 1\\nvalue = 1197.7'),\n",
              " Text(0.5907248986942819, 0.5227272727272727, 'squared_error = 0.0\\nsamples = 1\\nvalue = 1207.9'),\n",
              " Text(0.5925258892390814, 0.5681818181818182, 'squared_error = -0.0\\nsamples = 1\\nvalue = 1162.1'),\n",
              " Text(0.6055830706888788, 0.7045454545454546, 'x[5] <= 165.65\\nsquared_error = 4269.801\\nsamples = 12\\nvalue = 1258.192'),\n",
              " Text(0.5997298514182801, 0.6590909090909091, 'x[11] <= 9.95\\nsquared_error = 1175.366\\nsamples = 5\\nvalue = 1189.84'),\n",
              " Text(0.5979288608734804, 0.6136363636363636, 'x[9] <= 29.5\\nsquared_error = 415.782\\nsamples = 4\\nvalue = 1175.325'),\n",
              " Text(0.5961278703286808, 0.5681818181818182, 'squared_error = 0.0\\nsamples = 1\\nvalue = 1143.7'),\n",
              " Text(0.5997298514182801, 0.5681818181818182, 'x[0] <= 12.75\\nsquared_error = 109.869\\nsamples = 3\\nvalue = 1185.867'),\n",
              " Text(0.5979288608734804, 0.5227272727272727, 'squared_error = 0.0\\nsamples = 1\\nvalue = 1200.5'),\n",
              " Text(0.6015308419630797, 0.5227272727272727, 'x[5] <= 129.6\\nsquared_error = 4.202\\nsamples = 2\\nvalue = 1178.55'),\n",
              " Text(0.5997298514182801, 0.4772727272727273, 'squared_error = 0.0\\nsamples = 1\\nvalue = 1180.6'),\n",
              " Text(0.6033318325078794, 0.4772727272727273, 'squared_error = 0.0\\nsamples = 1\\nvalue = 1176.5'),\n",
              " Text(0.6015308419630797, 0.6136363636363636, 'squared_error = -0.0\\nsamples = 1\\nvalue = 1247.9'),\n",
              " Text(0.6114362899594777, 0.6590909090909091, 'x[6] <= 372.8\\nsquared_error = 759.356\\nsamples = 7\\nvalue = 1307.014'),\n",
              " Text(0.605132823052679, 0.6136363636363636, 'x[10] <= 4.6\\nsquared_error = 46.162\\nsamples = 3\\nvalue = 1335.867'),\n",
              " Text(0.6033318325078794, 0.5681818181818182, 'squared_error = 0.0\\nsamples = 1\\nvalue = 1326.6'),\n",
              " Text(0.6069338135974787, 0.5681818181818182, 'x[8] <= 260.5\\nsquared_error = 4.84\\nsamples = 2\\nvalue = 1340.5'),\n",
              " Text(0.605132823052679, 0.5227272727272727, 'squared_error = 0.0\\nsamples = 1\\nvalue = 1338.3'),\n",
              " Text(0.6087348041422782, 0.5227272727272727, 'squared_error = -0.0\\nsamples = 1\\nvalue = 1342.7'),\n",
              " Text(0.6177397568662765, 0.6136363636363636, 'x[8] <= 208.95\\nsquared_error = 201.647\\nsamples = 4\\nvalue = 1285.375'),\n",
              " Text(0.6141377757766772, 0.5681818181818182, 'x[10] <= 7.7\\nsquared_error = 33.64\\nsamples = 2\\nvalue = 1298.9'),\n",
              " Text(0.6123367852318775, 0.5227272727272727, 'squared_error = 0.0\\nsamples = 1\\nvalue = 1293.1'),\n",
              " Text(0.6159387663214768, 0.5227272727272727, 'squared_error = -0.0\\nsamples = 1\\nvalue = 1304.7'),\n",
              " Text(0.6213417379558758, 0.5681818181818182, 'x[4] <= 50.8\\nsquared_error = 3.803\\nsamples = 2\\nvalue = 1271.85'),\n",
              " Text(0.6195407474110761, 0.5227272727272727, 'squared_error = 0.0\\nsamples = 1\\nvalue = 1269.9'),\n",
              " Text(0.6231427285006754, 0.5227272727272727, 'squared_error = 0.0\\nsamples = 1\\nvalue = 1273.8'),\n",
              " Text(0.6898919405673121, 0.75, 'x[14] <= 1066.45\\nsquared_error = 10397.169\\nsamples = 60\\nvalue = 1372.9'),\n",
              " Text(0.6479063484916704, 0.7045454545454546, 'x[3] <= 27.85\\nsquared_error = 5618.571\\nsamples = 16\\nvalue = 1268.244'),\n",
              " Text(0.6339486717694732, 0.6590909090909091, 'x[13] <= 68.35\\nsquared_error = 1443.817\\nsamples = 9\\nvalue = 1215.878'),\n",
              " Text(0.6267447095902746, 0.6136363636363636, 'x[9] <= 37.05\\nsquared_error = 558.496\\nsamples = 3\\nvalue = 1177.233'),\n",
              " Text(0.624943719045475, 0.5681818181818182, 'squared_error = 0.0\\nsamples = 1\\nvalue = 1143.9'),\n",
              " Text(0.6285457001350743, 0.5681818181818182, 'x[2] <= 18.75\\nsquared_error = 4.41\\nsamples = 2\\nvalue = 1193.9'),\n",
              " Text(0.6267447095902746, 0.5227272727272727, 'squared_error = 0.0\\nsamples = 1\\nvalue = 1196.0'),\n",
              " Text(0.6303466906798739, 0.5227272727272727, 'squared_error = -0.0\\nsamples = 1\\nvalue = 1191.8'),\n",
              " Text(0.6411526339486717, 0.6136363636363636, 'x[10] <= 11.15\\nsquared_error = 766.433\\nsamples = 6\\nvalue = 1235.2'),\n",
              " Text(0.6357496623142729, 0.5681818181818182, 'x[15] <= 74.65\\nsquared_error = 72.847\\nsamples = 3\\nvalue = 1256.4'),\n",
              " Text(0.6339486717694732, 0.5227272727272727, 'squared_error = 0.0\\nsamples = 1\\nvalue = 1268.2'),\n",
              " Text(0.6375506528590725, 0.5227272727272727, 'x[1] <= 12.45\\nsquared_error = 4.84\\nsamples = 2\\nvalue = 1250.5'),\n",
              " Text(0.6357496623142729, 0.4772727272727273, 'squared_error = 0.0\\nsamples = 1\\nvalue = 1252.7'),\n",
              " Text(0.6393516434038722, 0.4772727272727273, 'squared_error = -0.0\\nsamples = 1\\nvalue = 1248.3'),\n",
              " Text(0.6465556055830707, 0.5681818181818182, 'x[14] <= 1032.7\\nsquared_error = 561.14\\nsamples = 3\\nvalue = 1214.0'),\n",
              " Text(0.644754615038271, 0.5227272727272727, 'x[0] <= 13.3\\nsquared_error = 0.022\\nsamples = 2\\nvalue = 1197.25'),\n",
              " Text(0.6429536244934714, 0.4772727272727273, 'squared_error = 0.0\\nsamples = 1\\nvalue = 1197.4'),\n",
              " Text(0.6465556055830707, 0.4772727272727273, 'squared_error = 0.0\\nsamples = 1\\nvalue = 1197.1'),\n",
              " Text(0.6483565961278703, 0.5227272727272727, 'squared_error = 0.0\\nsamples = 1\\nvalue = 1247.5'),\n",
              " Text(0.6618640252138677, 0.6590909090909091, 'x[1] <= 27.45\\nsquared_error = 2927.416\\nsamples = 7\\nvalue = 1335.571'),\n",
              " Text(0.6573615488518685, 0.6136363636363636, 'x[6] <= 293.9\\nsquared_error = 657.65\\nsamples = 5\\nvalue = 1305.46'),\n",
              " Text(0.6537595677622693, 0.5681818181818182, 'x[10] <= 11.45\\nsquared_error = 241.802\\nsamples = 2\\nvalue = 1277.15'),\n",
              " Text(0.6519585772174696, 0.5227272727272727, 'squared_error = 0.0\\nsamples = 1\\nvalue = 1261.6'),\n",
              " Text(0.6555605583070689, 0.5227272727272727, 'squared_error = -0.0\\nsamples = 1\\nvalue = 1292.7'),\n",
              " Text(0.6609635299414678, 0.5681818181818182, 'x[6] <= 298.65\\nsquared_error = 44.376\\nsamples = 3\\nvalue = 1324.333'),\n",
              " Text(0.6591625393966681, 0.5227272727272727, 'squared_error = 0.0\\nsamples = 1\\nvalue = 1315.2'),\n",
              " Text(0.6627645204862674, 0.5227272727272727, 'x[0] <= 12.2\\nsquared_error = 4.0\\nsamples = 2\\nvalue = 1328.9'),\n",
              " Text(0.6609635299414678, 0.4772727272727273, 'squared_error = 0.0\\nsamples = 1\\nvalue = 1330.9'),\n",
              " Text(0.6645655110310671, 0.4772727272727273, 'squared_error = 0.0\\nsamples = 1\\nvalue = 1326.9'),\n",
              " Text(0.6663665015758667, 0.6136363636363636, 'x[8] <= 199.2\\nsquared_error = 668.223\\nsamples = 2\\nvalue = 1410.85'),\n",
              " Text(0.6645655110310671, 0.5681818181818182, 'squared_error = 0.0\\nsamples = 1\\nvalue = 1385.0'),\n",
              " Text(0.6681674921206664, 0.5681818181818182, 'squared_error = 0.0\\nsamples = 1\\nvalue = 1436.7'),\n",
              " Text(0.7318775326429536, 0.7045454545454546, 'x[2] <= 25.65\\nsquared_error = 6703.636\\nsamples = 44\\nvalue = 1410.957'),\n",
              " Text(0.7040747411076091, 0.6590909090909091, 'x[8] <= 228.55\\nsquared_error = 2548.362\\nsamples = 30\\nvalue = 1368.967'),\n",
              " Text(0.6841512832057631, 0.6136363636363636, 'x[14] <= 1145.7\\nsquared_error = 1594.407\\nsamples = 16\\nvalue = 1337.712'),\n",
              " Text(0.6735704637550652, 0.5681818181818182, 'x[2] <= 24.1\\nsquared_error = 1019.556\\nsamples = 6\\nvalue = 1301.85'),\n",
              " Text(0.6717694732102657, 0.5227272727272727, 'x[12] <= 26.35\\nsquared_error = 355.142\\nsamples = 5\\nvalue = 1289.82'),\n",
              " Text(0.6681674921206664, 0.4772727272727273, 'x[4] <= 15.55\\nsquared_error = 12.603\\nsamples = 2\\nvalue = 1268.45'),\n",
              " Text(0.6663665015758667, 0.4318181818181818, 'squared_error = 0.0\\nsamples = 1\\nvalue = 1272.0'),\n",
              " Text(0.669968482665466, 0.4318181818181818, 'squared_error = 0.0\\nsamples = 1\\nvalue = 1264.9'),\n",
              " Text(0.6753714542998649, 0.4772727272727273, 'x[11] <= 10.65\\nsquared_error = 76.082\\nsamples = 3\\nvalue = 1304.067'),\n",
              " Text(0.6735704637550652, 0.4318181818181818, 'x[1] <= 20.4\\nsquared_error = 17.223\\nsamples = 2\\nvalue = 1309.75'),\n",
              " Text(0.6717694732102657, 0.38636363636363635, 'squared_error = 0.0\\nsamples = 1\\nvalue = 1313.9'),\n",
              " Text(0.6753714542998649, 0.38636363636363635, 'squared_error = 0.0\\nsamples = 1\\nvalue = 1305.6'),\n",
              " Text(0.6771724448446645, 0.4318181818181818, 'squared_error = -0.0\\nsamples = 1\\nvalue = 1292.7'),\n",
              " Text(0.6753714542998649, 0.5227272727272727, 'squared_error = 0.0\\nsamples = 1\\nvalue = 1362.0'),\n",
              " Text(0.694732102656461, 0.5681818181818182, 'x[7] <= 425.0\\nsquared_error = 704.644\\nsamples = 10\\nvalue = 1359.23'),\n",
              " Text(0.6888788833858622, 0.5227272727272727, 'x[3] <= 8.8\\nsquared_error = 338.567\\nsamples = 8\\nvalue = 1348.85'),\n",
              " Text(0.6825754164790635, 0.4772727272727273, 'x[5] <= 182.25\\nsquared_error = 79.896\\nsamples = 3\\nvalue = 1328.133'),\n",
              " Text(0.6807744259342638, 0.4318181818181818, 'squared_error = 0.0\\nsamples = 1\\nvalue = 1315.8'),\n",
              " Text(0.6843764070238632, 0.4318181818181818, 'x[9] <= 43.95\\nsquared_error = 5.76\\nsamples = 2\\nvalue = 1334.3'),\n",
              " Text(0.6825754164790635, 0.38636363636363635, 'squared_error = 0.0\\nsamples = 1\\nvalue = 1336.7'),\n",
              " Text(0.6861773975686628, 0.38636363636363635, 'squared_error = -0.0\\nsamples = 1\\nvalue = 1331.9'),\n",
              " Text(0.695182350292661, 0.4772727272727273, 'x[12] <= 31.3\\nsquared_error = 81.758\\nsamples = 5\\nvalue = 1361.28'),\n",
              " Text(0.6915803692030617, 0.4318181818181818, 'x[3] <= 29.7\\nsquared_error = 14.762\\nsamples = 3\\nvalue = 1368.033'),\n",
              " Text(0.689779378658262, 0.38636363636363635, 'x[12] <= 26.7\\nsquared_error = 0.003\\nsamples = 2\\nvalue = 1370.75'),\n",
              " Text(0.6879783881134625, 0.3409090909090909, 'squared_error = 0.0\\nsamples = 1\\nvalue = 1370.7'),\n",
              " Text(0.6915803692030617, 0.3409090909090909, 'squared_error = -0.0\\nsamples = 1\\nvalue = 1370.8'),\n",
              " Text(0.6933813597478613, 0.38636363636363635, 'squared_error = 0.0\\nsamples = 1\\nvalue = 1362.6'),\n",
              " Text(0.6987843313822603, 0.4318181818181818, 'x[13] <= 63.55\\nsquared_error = 11.223\\nsamples = 2\\nvalue = 1351.15'),\n",
              " Text(0.6969833408374606, 0.38636363636363635, 'squared_error = 0.0\\nsamples = 1\\nvalue = 1354.5'),\n",
              " Text(0.7005853219270599, 0.38636363636363635, 'squared_error = -0.0\\nsamples = 1\\nvalue = 1347.8'),\n",
              " Text(0.7005853219270599, 0.5227272727272727, 'x[3] <= 16.15\\nsquared_error = 14.063\\nsamples = 2\\nvalue = 1400.75'),\n",
              " Text(0.6987843313822603, 0.4772727272727273, 'squared_error = 0.0\\nsamples = 1\\nvalue = 1397.0'),\n",
              " Text(0.7023863124718596, 0.4772727272727273, 'squared_error = 0.0\\nsamples = 1\\nvalue = 1404.5'),\n",
              " Text(0.7239981990094552, 0.6136363636363636, 'x[10] <= 12.55\\nsquared_error = 1246.376\\nsamples = 14\\nvalue = 1404.686'),\n",
              " Text(0.7140927510130571, 0.5681818181818182, 'x[4] <= 48.95\\nsquared_error = 266.394\\nsamples = 8\\nvalue = 1383.788'),\n",
              " Text(0.7077892841062584, 0.5227272727272727, 'x[14] <= 1187.15\\nsquared_error = 25.037\\nsamples = 4\\nvalue = 1395.725'),\n",
              " Text(0.7059882935614588, 0.4772727272727273, 'squared_error = 0.0\\nsamples = 1\\nvalue = 1403.2'),\n",
              " Text(0.7095902746510581, 0.4772727272727273, 'x[7] <= 397.65\\nsquared_error = 8.549\\nsamples = 3\\nvalue = 1393.233'),\n",
              " Text(0.7077892841062584, 0.4318181818181818, 'squared_error = 0.0\\nsamples = 1\\nvalue = 1389.1'),\n",
              " Text(0.7113912651958577, 0.4318181818181818, 'x[6] <= 386.45\\nsquared_error = 0.01\\nsamples = 2\\nvalue = 1395.3'),\n",
              " Text(0.7095902746510581, 0.38636363636363635, 'squared_error = 0.0\\nsamples = 1\\nvalue = 1395.4'),\n",
              " Text(0.7131922557406574, 0.38636363636363635, 'squared_error = -0.0\\nsamples = 1\\nvalue = 1395.2'),\n",
              " Text(0.720396217919856, 0.5227272727272727, 'x[3] <= 25.2\\nsquared_error = 222.742\\nsamples = 4\\nvalue = 1371.85'),\n",
              " Text(0.7167942368302567, 0.4772727272727273, 'x[15] <= 101.85\\nsquared_error = 4.84\\nsamples = 2\\nvalue = 1357.4'),\n",
              " Text(0.714993246285457, 0.4318181818181818, 'squared_error = 0.0\\nsamples = 1\\nvalue = 1359.6'),\n",
              " Text(0.7185952273750563, 0.4318181818181818, 'squared_error = -0.0\\nsamples = 1\\nvalue = 1355.2'),\n",
              " Text(0.7239981990094552, 0.4772727272727273, 'x[13] <= 126.15\\nsquared_error = 23.04\\nsamples = 2\\nvalue = 1386.3'),\n",
              " Text(0.7221972084646555, 0.4318181818181818, 'squared_error = 0.0\\nsamples = 1\\nvalue = 1381.5'),\n",
              " Text(0.7257991895542548, 0.4318181818181818, 'squared_error = 0.0\\nsamples = 1\\nvalue = 1391.1'),\n",
              " Text(0.7339036470058532, 0.5681818181818182, 'x[3] <= 21.45\\nsquared_error = 1194.286\\nsamples = 6\\nvalue = 1432.55'),\n",
              " Text(0.7294011706438541, 0.5227272727272727, 'x[1] <= 22.55\\nsquared_error = 11.56\\nsamples = 2\\nvalue = 1479.4'),\n",
              " Text(0.7276001800990545, 0.4772727272727273, 'squared_error = 0.0\\nsamples = 1\\nvalue = 1476.0'),\n",
              " Text(0.7312021611886538, 0.4772727272727273, 'squared_error = -0.0\\nsamples = 1\\nvalue = 1482.8'),\n",
              " Text(0.7384061233678523, 0.5227272727272727, 'x[0] <= 13.5\\nsquared_error = 139.457\\nsamples = 4\\nvalue = 1409.125'),\n",
              " Text(0.7348041422782531, 0.4772727272727273, 'x[3] <= 28.25\\nsquared_error = 26.01\\nsamples = 2\\nvalue = 1397.9'),\n",
              " Text(0.7330031517334534, 0.4318181818181818, 'squared_error = 0.0\\nsamples = 1\\nvalue = 1403.0'),\n",
              " Text(0.7366051328230527, 0.4318181818181818, 'squared_error = -0.0\\nsamples = 1\\nvalue = 1392.8'),\n",
              " Text(0.7420081044574516, 0.4772727272727273, 'x[13] <= 123.6\\nsquared_error = 0.903\\nsamples = 2\\nvalue = 1420.35'),\n",
              " Text(0.7402071139126519, 0.4318181818181818, 'squared_error = 0.0\\nsamples = 1\\nvalue = 1421.3'),\n",
              " Text(0.7438090950022512, 0.4318181818181818, 'squared_error = 0.0\\nsamples = 1\\nvalue = 1419.4'),\n",
              " Text(0.7596803241782981, 0.6590909090909091, 'x[13] <= 202.8\\nsquared_error = 3733.367\\nsamples = 14\\nvalue = 1500.936'),\n",
              " Text(0.7543899144529491, 0.6136363636363636, 'x[6] <= 299.05\\nsquared_error = 1892.695\\nsamples = 12\\nvalue = 1482.283'),\n",
              " Text(0.7492120666366502, 0.5681818181818182, 'x[12] <= 42.5\\nsquared_error = 557.262\\nsamples = 3\\nvalue = 1537.667'),\n",
              " Text(0.7474110760918505, 0.5227272727272727, 'x[7] <= 361.6\\nsquared_error = 148.84\\nsamples = 2\\nvalue = 1552.8'),\n",
              " Text(0.7456100855470509, 0.4772727272727273, 'squared_error = 0.0\\nsamples = 1\\nvalue = 1565.0'),\n",
              " Text(0.7492120666366502, 0.4772727272727273, 'squared_error = -0.0\\nsamples = 1\\nvalue = 1540.6'),\n",
              " Text(0.7510130571814498, 0.5227272727272727, 'squared_error = -0.0\\nsamples = 1\\nvalue = 1507.4'),\n",
              " Text(0.759567762269248, 0.5681818181818182, 'x[14] <= 1083.45\\nsquared_error = 974.588\\nsamples = 9\\nvalue = 1463.822'),\n",
              " Text(0.754615038271049, 0.5227272727272727, 'x[2] <= 43.65\\nsquared_error = 22.563\\nsamples = 2\\nvalue = 1423.45'),\n",
              " Text(0.7528140477262495, 0.4772727272727273, 'squared_error = 0.0\\nsamples = 1\\nvalue = 1418.7'),\n",
              " Text(0.7564160288158487, 0.4772727272727273, 'squared_error = 0.0\\nsamples = 1\\nvalue = 1428.2'),\n",
              " Text(0.7645204862674471, 0.5227272727272727, 'x[3] <= 42.6\\nsquared_error = 647.851\\nsamples = 7\\nvalue = 1475.357'),\n",
              " Text(0.760018009905448, 0.4772727272727273, 'x[11] <= 4.35\\nsquared_error = 84.398\\nsamples = 5\\nvalue = 1460.18'),\n",
              " Text(0.7564160288158487, 0.4318181818181818, 'x[10] <= 41.05\\nsquared_error = 0.81\\nsamples = 2\\nvalue = 1449.2'),\n",
              " Text(0.754615038271049, 0.38636363636363635, 'squared_error = 0.0\\nsamples = 1\\nvalue = 1448.3'),\n",
              " Text(0.7582170193606483, 0.38636363636363635, 'squared_error = 0.0\\nsamples = 1\\nvalue = 1450.1'),\n",
              " Text(0.7636199909950473, 0.4318181818181818, 'x[5] <= 154.95\\nsquared_error = 6.167\\nsamples = 3\\nvalue = 1467.5'),\n",
              " Text(0.7618190004502476, 0.38636363636363635, 'squared_error = 0.0\\nsamples = 1\\nvalue = 1464.0'),\n",
              " Text(0.765420981539847, 0.38636363636363635, 'x[12] <= 32.05\\nsquared_error = 0.062\\nsamples = 2\\nvalue = 1469.25'),\n",
              " Text(0.7636199909950473, 0.3409090909090909, 'squared_error = 0.0\\nsamples = 1\\nvalue = 1469.0'),\n",
              " Text(0.7672219720846466, 0.3409090909090909, 'squared_error = 0.0\\nsamples = 1\\nvalue = 1469.5'),\n",
              " Text(0.7690229626294462, 0.4772727272727273, 'x[14] <= 1127.95\\nsquared_error = 40.96\\nsamples = 2\\nvalue = 1513.3'),\n",
              " Text(0.7672219720846466, 0.4318181818181818, 'squared_error = 0.0\\nsamples = 1\\nvalue = 1506.9'),\n",
              " Text(0.7708239531742458, 0.4318181818181818, 'squared_error = 0.0\\nsamples = 1\\nvalue = 1519.7'),\n",
              " Text(0.764970733903647, 0.6136363636363636, 'x[6] <= 361.9\\nsquared_error = 165.122\\nsamples = 2\\nvalue = 1612.85'),\n",
              " Text(0.7631697433588474, 0.5681818181818182, 'squared_error = 0.0\\nsamples = 1\\nvalue = 1600.0'),\n",
              " Text(0.7667717244484467, 0.5681818181818182, 'squared_error = 0.0\\nsamples = 1\\nvalue = 1625.7'),\n",
              " Text(0.7924358397118415, 0.7954545454545454, 'x[2] <= 61.3\\nsquared_error = 41777.981\\nsamples = 17\\nvalue = 1653.1'),\n",
              " Text(0.7838811346240432, 0.75, 'x[3] <= 19.6\\nsquared_error = 7521.179\\nsamples = 14\\nvalue = 1566.779'),\n",
              " Text(0.7757766771724448, 0.7045454545454546, 'x[14] <= 1325.8\\nsquared_error = 3074.681\\nsamples = 6\\nvalue = 1487.983'),\n",
              " Text(0.770373705538046, 0.6590909090909091, 'x[3] <= 7.7\\nsquared_error = 1130.96\\nsamples = 3\\nvalue = 1438.0'),\n",
              " Text(0.7685727149932463, 0.6136363636363636, 'squared_error = 0.0\\nsamples = 1\\nvalue = 1392.2'),\n",
              " Text(0.7721746960828456, 0.6136363636363636, 'x[13] <= 65.3\\nsquared_error = 123.21\\nsamples = 2\\nvalue = 1460.9'),\n",
              " Text(0.770373705538046, 0.5681818181818182, 'squared_error = 0.0\\nsamples = 1\\nvalue = 1449.8'),\n",
              " Text(0.7739756866276452, 0.5681818181818182, 'squared_error = -0.0\\nsamples = 1\\nvalue = 1472.0'),\n",
              " Text(0.7811796488068438, 0.6590909090909091, 'x[0] <= 15.85\\nsquared_error = 21.736\\nsamples = 3\\nvalue = 1537.967'),\n",
              " Text(0.7793786582620441, 0.6136363636363636, 'x[10] <= 10.0\\nsquared_error = 1.563\\nsamples = 2\\nvalue = 1534.75'),\n",
              " Text(0.7775776677172445, 0.5681818181818182, 'squared_error = 0.0\\nsamples = 1\\nvalue = 1533.5'),\n",
              " Text(0.7811796488068438, 0.5681818181818182, 'squared_error = 0.0\\nsamples = 1\\nvalue = 1536.0'),\n",
              " Text(0.7829806393516434, 0.6136363636363636, 'squared_error = 0.0\\nsamples = 1\\nvalue = 1544.4'),\n",
              " Text(0.7919855920756416, 0.7045454545454546, 'x[14] <= 1411.1\\nsquared_error = 2707.147\\nsamples = 8\\nvalue = 1625.875'),\n",
              " Text(0.7901846015308419, 0.6590909090909091, 'x[13] <= 110.2\\nsquared_error = 827.314\\nsamples = 7\\nvalue = 1609.043'),\n",
              " Text(0.7865826204412427, 0.6136363636363636, 'x[5] <= 222.35\\nsquared_error = 0.04\\nsamples = 2\\nvalue = 1572.9'),\n",
              " Text(0.7847816298964431, 0.5681818181818182, 'squared_error = 0.0\\nsamples = 1\\nvalue = 1572.7'),\n",
              " Text(0.7883836109860424, 0.5681818181818182, 'squared_error = 0.0\\nsamples = 1\\nvalue = 1573.1'),\n",
              " Text(0.7937865826204412, 0.6136363636363636, 'x[13] <= 170.3\\nsquared_error = 426.692\\nsamples = 5\\nvalue = 1623.5'),\n",
              " Text(0.7919855920756416, 0.5681818181818182, 'x[15] <= 103.45\\nsquared_error = 105.553\\nsamples = 4\\nvalue = 1614.25'),\n",
              " Text(0.7901846015308419, 0.5227272727272727, 'squared_error = 0.0\\nsamples = 1\\nvalue = 1598.2'),\n",
              " Text(0.7937865826204412, 0.5227272727272727, 'x[7] <= 372.75\\nsquared_error = 26.247\\nsamples = 3\\nvalue = 1619.6'),\n",
              " Text(0.7919855920756416, 0.4772727272727273, 'squared_error = 0.0\\nsamples = 1\\nvalue = 1612.4'),\n",
              " Text(0.7955875731652409, 0.4772727272727273, 'x[9] <= 112.5\\nsquared_error = 0.49\\nsamples = 2\\nvalue = 1623.2'),\n",
              " Text(0.7937865826204412, 0.4318181818181818, 'squared_error = 0.0\\nsamples = 1\\nvalue = 1623.9'),\n",
              " Text(0.7973885637100405, 0.4318181818181818, 'squared_error = 0.0\\nsamples = 1\\nvalue = 1622.5'),\n",
              " Text(0.7955875731652409, 0.5681818181818182, 'squared_error = 0.0\\nsamples = 1\\nvalue = 1660.5'),\n",
              " Text(0.7937865826204412, 0.6590909090909091, 'squared_error = -0.0\\nsamples = 1\\nvalue = 1743.7'),\n",
              " Text(0.8009905447996398, 0.75, 'x[13] <= 229.55\\nsquared_error = 4595.216\\nsamples = 3\\nvalue = 2055.933'),\n",
              " Text(0.7991895542548402, 0.7045454545454546, 'x[14] <= 1494.25\\nsquared_error = 128.823\\nsamples = 2\\nvalue = 2008.45'),\n",
              " Text(0.7973885637100405, 0.6590909090909091, 'squared_error = 0.0\\nsamples = 1\\nvalue = 1997.1'),\n",
              " Text(0.8009905447996398, 0.6590909090909091, 'squared_error = 0.0\\nsamples = 1\\nvalue = 2019.8'),\n",
              " Text(0.8027915353444395, 0.7045454545454546, 'squared_error = 0.0\\nsamples = 1\\nvalue = 2150.9'),\n",
              " Text(0.84984241332733, 0.8409090909090909, 'x[2] <= 62.15\\nsquared_error = 37534.178\\nsamples = 39\\nvalue = 1855.99'),\n",
              " Text(0.8361098604232328, 0.7954545454545454, 'x[7] <= 410.0\\nsquared_error = 28019.178\\nsamples = 28\\nvalue = 1783.261'),\n",
              " Text(0.8244034218820351, 0.75, 'x[3] <= 83.2\\nsquared_error = 14511.518\\nsamples = 22\\nvalue = 1718.582'),\n",
              " Text(0.814497973885637, 0.7045454545454546, 'x[14] <= 1370.75\\nsquared_error = 6648.268\\nsamples = 13\\nvalue = 1646.377'),\n",
              " Text(0.8081945069788383, 0.6590909090909091, 'x[14] <= 1174.95\\nsquared_error = 3515.053\\nsamples = 10\\nvalue = 1615.45'),\n",
              " Text(0.8045925258892391, 0.6136363636363636, 'x[9] <= 145.85\\nsquared_error = 511.307\\nsamples = 4\\nvalue = 1562.525'),\n",
              " Text(0.8027915353444395, 0.5681818181818182, 'x[8] <= 268.75\\nsquared_error = 57.576\\nsamples = 3\\nvalue = 1550.033'),\n",
              " Text(0.8009905447996398, 0.5227272727272727, 'x[0] <= 12.55\\nsquared_error = 14.822\\nsamples = 2\\nvalue = 1545.15'),\n",
              " Text(0.7991895542548402, 0.4772727272727273, 'squared_error = 0.0\\nsamples = 1\\nvalue = 1541.3'),\n",
              " Text(0.8027915353444395, 0.4772727272727273, 'squared_error = -0.0\\nsamples = 1\\nvalue = 1549.0'),\n",
              " Text(0.8045925258892391, 0.5227272727272727, 'squared_error = -0.0\\nsamples = 1\\nvalue = 1559.8'),\n",
              " Text(0.8063935164340387, 0.5681818181818182, 'squared_error = 0.0\\nsamples = 1\\nvalue = 1600.0'),\n",
              " Text(0.8117964880684376, 0.6136363636363636, 'x[4] <= 96.65\\nsquared_error = 2405.266\\nsamples = 6\\nvalue = 1650.733'),\n",
              " Text(0.809995497523638, 0.5681818181818182, 'squared_error = 0.0\\nsamples = 1\\nvalue = 1553.7'),\n",
              " Text(0.8135974786132373, 0.5681818181818182, 'x[12] <= 37.85\\nsquared_error = 626.606\\nsamples = 5\\nvalue = 1670.14'),\n",
              " Text(0.809995497523638, 0.5227272727272727, 'x[10] <= 15.5\\nsquared_error = 254.469\\nsamples = 3\\nvalue = 1654.167'),\n",
              " Text(0.8081945069788383, 0.4772727272727273, 'squared_error = 0.0\\nsamples = 1\\nvalue = 1632.2'),\n",
              " Text(0.8117964880684376, 0.4772727272727273, 'x[13] <= 197.05\\nsquared_error = 19.802\\nsamples = 2\\nvalue = 1665.15'),\n",
              " Text(0.809995497523638, 0.4318181818181818, 'squared_error = 0.0\\nsamples = 1\\nvalue = 1669.6'),\n",
              " Text(0.8135974786132373, 0.4318181818181818, 'squared_error = 0.0\\nsamples = 1\\nvalue = 1660.7'),\n",
              " Text(0.8171994597028366, 0.5227272727272727, 'x[3] <= 56.15\\nsquared_error = 228.01\\nsamples = 2\\nvalue = 1694.1'),\n",
              " Text(0.8153984691580369, 0.4772727272727273, 'squared_error = 0.0\\nsamples = 1\\nvalue = 1709.2'),\n",
              " Text(0.8190004502476362, 0.4772727272727273, 'squared_error = 0.0\\nsamples = 1\\nvalue = 1679.0'),\n",
              " Text(0.8208014407924359, 0.6590909090909091, 'x[10] <= 26.85\\nsquared_error = 3276.576\\nsamples = 3\\nvalue = 1749.467'),\n",
              " Text(0.8190004502476362, 0.6136363636363636, 'x[2] <= 10.4\\nsquared_error = 301.023\\nsamples = 2\\nvalue = 1710.25'),\n",
              " Text(0.8171994597028366, 0.5681818181818182, 'squared_error = 0.0\\nsamples = 1\\nvalue = 1727.6'),\n",
              " Text(0.8208014407924359, 0.5681818181818182, 'squared_error = 0.0\\nsamples = 1\\nvalue = 1692.9'),\n",
              " Text(0.8226024313372354, 0.6136363636363636, 'squared_error = 0.0\\nsamples = 1\\nvalue = 1827.9'),\n",
              " Text(0.8343088698784331, 0.7045454545454546, 'x[11] <= 11.7\\nsquared_error = 7461.22\\nsamples = 9\\nvalue = 1822.878'),\n",
              " Text(0.829806393516434, 0.6590909090909091, 'x[11] <= 7.85\\nsquared_error = 3381.969\\nsamples = 7\\nvalue = 1786.4'),\n",
              " Text(0.8262044124268347, 0.6136363636363636, 'x[10] <= 23.45\\nsquared_error = 31.19\\nsamples = 5\\nvalue = 1820.24'),\n",
              " Text(0.8244034218820351, 0.5681818181818182, 'squared_error = 0.0\\nsamples = 2\\nvalue = 1813.4'),\n",
              " Text(0.8280054029716344, 0.5681818181818182, 'squared_error = -0.0\\nsamples = 3\\nvalue = 1824.8'),\n",
              " Text(0.8334083746060333, 0.6136363636363636, 'x[2] <= 49.85\\nsquared_error = 1738.89\\nsamples = 2\\nvalue = 1701.8'),\n",
              " Text(0.8316073840612337, 0.5681818181818182, 'squared_error = 0.0\\nsamples = 1\\nvalue = 1660.1'),\n",
              " Text(0.835209365150833, 0.5681818181818182, 'squared_error = 0.0\\nsamples = 1\\nvalue = 1743.5'),\n",
              " Text(0.8388113462404322, 0.6590909090909091, 'x[11] <= 13.7\\nsquared_error = 781.202\\nsamples = 2\\nvalue = 1950.55'),\n",
              " Text(0.8370103556956326, 0.6136363636363636, 'squared_error = 0.0\\nsamples = 1\\nvalue = 1978.5'),\n",
              " Text(0.8406123367852318, 0.6136363636363636, 'squared_error = 0.0\\nsamples = 1\\nvalue = 1922.6'),\n",
              " Text(0.8478162989644304, 0.75, 'x[12] <= 0.75\\nsquared_error = 5965.335\\nsamples = 6\\nvalue = 2020.417'),\n",
              " Text(0.8460153084196308, 0.7045454545454546, 'squared_error = 0.0\\nsamples = 1\\nvalue = 1866.4'),\n",
              " Text(0.8496172895092301, 0.7045454545454546, 'x[8] <= 325.85\\nsquared_error = 1465.33\\nsamples = 5\\nvalue = 2051.22'),\n",
              " Text(0.8460153084196308, 0.6590909090909091, 'x[12] <= 1.3\\nsquared_error = 208.803\\nsamples = 2\\nvalue = 2007.25'),\n",
              " Text(0.8442143178748311, 0.6136363636363636, 'squared_error = 0.0\\nsamples = 1\\nvalue = 2021.7'),\n",
              " Text(0.8478162989644304, 0.6136363636363636, 'squared_error = 0.0\\nsamples = 1\\nvalue = 1992.8'),\n",
              " Text(0.8532192705988294, 0.6590909090909091, 'x[6] <= 664.45\\nsquared_error = 154.836\\nsamples = 3\\nvalue = 2080.533'),\n",
              " Text(0.8514182800540298, 0.6136363636363636, 'x[6] <= 521.35\\nsquared_error = 1.69\\nsamples = 2\\nvalue = 2089.3'),\n",
              " Text(0.8496172895092301, 0.5681818181818182, 'squared_error = 0.0\\nsamples = 1\\nvalue = 2088.0'),\n",
              " Text(0.8532192705988294, 0.5681818181818182, 'squared_error = -0.0\\nsamples = 1\\nvalue = 2090.6'),\n",
              " Text(0.855020261143629, 0.6136363636363636, 'squared_error = 0.0\\nsamples = 1\\nvalue = 2063.0'),\n",
              " Text(0.8635749662314273, 0.7954545454545454, 'x[11] <= 10.5\\nsquared_error = 14017.429\\nsamples = 11\\nvalue = 2041.118'),\n",
              " Text(0.8586222422332283, 0.75, 'x[3] <= 136.0\\nsquared_error = 190.44\\nsamples = 2\\nvalue = 1825.4'),\n",
              " Text(0.8568212516884286, 0.7045454545454546, 'squared_error = 0.0\\nsamples = 1\\nvalue = 1811.6'),\n",
              " Text(0.8604232327780279, 0.7045454545454546, 'squared_error = -0.0\\nsamples = 1\\nvalue = 1839.2'),\n",
              " Text(0.8685276902296263, 0.75, 'x[8] <= 279.7\\nsquared_error = 4451.138\\nsamples = 9\\nvalue = 2089.056'),\n",
              " Text(0.8640252138676272, 0.7045454545454546, 'x[6] <= 379.6\\nsquared_error = 1395.928\\nsamples = 7\\nvalue = 2058.771'),\n",
              " Text(0.8604232327780279, 0.6590909090909091, 'x[13] <= 568.1\\nsquared_error = 712.89\\nsamples = 2\\nvalue = 2004.2'),\n",
              " Text(0.8586222422332283, 0.6136363636363636, 'squared_error = 0.0\\nsamples = 1\\nvalue = 2030.9'),\n",
              " Text(0.8622242233228276, 0.6136363636363636, 'squared_error = 0.0\\nsamples = 1\\nvalue = 1977.5'),\n",
              " Text(0.8676271949572265, 0.6590909090909091, 'x[15] <= 168.85\\nsquared_error = 1.44\\nsamples = 5\\nvalue = 2080.6'),\n",
              " Text(0.8658262044124269, 0.6136363636363636, 'squared_error = 0.0\\nsamples = 1\\nvalue = 2083.0'),\n",
              " Text(0.8694281855020262, 0.6136363636363636, 'squared_error = 0.0\\nsamples = 4\\nvalue = 2080.0'),\n",
              " Text(0.8730301665916254, 0.7045454545454546, 'x[14] <= 1304.5\\nsquared_error = 699.603\\nsamples = 2\\nvalue = 2195.05'),\n",
              " Text(0.8712291760468257, 0.6590909090909091, 'squared_error = 0.0\\nsamples = 1\\nvalue = 2221.5'),\n",
              " Text(0.874831157136425, 0.6590909090909091, 'squared_error = -0.0\\nsamples = 1\\nvalue = 2168.6'),\n",
              " Text(0.952301891040072, 0.9318181818181818, 'x[14] <= 4190.75\\nsquared_error = 676943.311\\nsamples = 71\\nvalue = 3034.03'),\n",
              " Text(0.9343201260693381, 0.8863636363636364, 'x[5] <= 612.3\\nsquared_error = 288039.147\\nsamples = 69\\nvalue = 2927.836'),\n",
              " Text(0.9037595677622693, 0.8409090909090909, 'x[0] <= 27.15\\nsquared_error = 102197.164\\nsamples = 42\\nvalue = 2598.174'),\n",
              " Text(0.8912651958577218, 0.7954545454545454, 'x[14] <= 1295.7\\nsquared_error = 55819.434\\nsamples = 30\\nvalue = 2473.983'),\n",
              " Text(0.8894642053129221, 0.75, 'squared_error = 0.0\\nsamples = 2\\nvalue = 1957.8'),\n",
              " Text(0.8930661864025213, 0.75, 'x[9] <= 178.75\\nsquared_error = 39415.32\\nsamples = 28\\nvalue = 2510.854'),\n",
              " Text(0.8833858622242233, 0.7045454545454546, 'x[4] <= 386.15\\nsquared_error = 21501.903\\nsamples = 19\\nvalue = 2434.784'),\n",
              " Text(0.8784331382260243, 0.6590909090909091, 'x[8] <= 197.7\\nsquared_error = 15541.495\\nsamples = 16\\nvalue = 2396.088'),\n",
              " Text(0.8766321476812247, 0.6136363636363636, 'squared_error = 0.0\\nsamples = 1\\nvalue = 2077.5'),\n",
              " Text(0.880234128770824, 0.6136363636363636, 'x[5] <= 535.05\\nsquared_error = 9359.959\\nsamples = 15\\nvalue = 2417.327'),\n",
              " Text(0.8757316524088249, 0.5681818181818182, 'x[6] <= 436.7\\nsquared_error = 6130.427\\nsamples = 12\\nvalue = 2449.025'),\n",
              " Text(0.8721296713192256, 0.5227272727272727, 'x[0] <= 11.3\\nsquared_error = 642.622\\nsamples = 2\\nvalue = 2312.05'),\n",
              " Text(0.8703286807744259, 0.4772727272727273, 'squared_error = 0.0\\nsamples = 1\\nvalue = 2286.7'),\n",
              " Text(0.8739306618640252, 0.4772727272727273, 'squared_error = -0.0\\nsamples = 1\\nvalue = 2337.4'),\n",
              " Text(0.8793336334984241, 0.5227272727272727, 'x[3] <= 0.35\\nsquared_error = 2725.072\\nsamples = 10\\nvalue = 2476.42'),\n",
              " Text(0.8775326429536245, 0.4772727272727273, 'squared_error = 0.0\\nsamples = 1\\nvalue = 2374.1'),\n",
              " Text(0.8811346240432237, 0.4772727272727273, 'x[0] <= 6.2\\nsquared_error = 1735.341\\nsamples = 9\\nvalue = 2487.789'),\n",
              " Text(0.8775326429536245, 0.4318181818181818, 'x[9] <= 119.3\\nsquared_error = 37.822\\nsamples = 2\\nvalue = 2548.25'),\n",
              " Text(0.8757316524088249, 0.38636363636363635, 'squared_error = 0.0\\nsamples = 1\\nvalue = 2542.1'),\n",
              " Text(0.8793336334984241, 0.38636363636363635, 'squared_error = 0.0\\nsamples = 1\\nvalue = 2554.4'),\n",
              " Text(0.884736605132823, 0.4318181818181818, 'x[6] <= 520.2\\nsquared_error = 877.493\\nsamples = 7\\nvalue = 2470.514'),\n",
              " Text(0.8829356145880234, 0.38636363636363635, 'x[5] <= 445.6\\nsquared_error = 306.976\\nsamples = 6\\nvalue = 2480.633'),\n",
              " Text(0.8793336334984241, 0.3409090909090909, 'x[5] <= 392.1\\nsquared_error = 71.069\\nsamples = 3\\nvalue = 2496.267'),\n",
              " Text(0.8775326429536245, 0.29545454545454547, 'squared_error = 0.0\\nsamples = 1\\nvalue = 2485.3'),\n",
              " Text(0.8811346240432237, 0.29545454545454547, 'x[6] <= 486.35\\nsquared_error = 16.402\\nsamples = 2\\nvalue = 2501.75'),\n",
              " Text(0.8793336334984241, 0.25, 'squared_error = 0.0\\nsamples = 1\\nvalue = 2505.8'),\n",
              " Text(0.8829356145880234, 0.25, 'squared_error = 0.0\\nsamples = 1\\nvalue = 2497.7'),\n",
              " Text(0.8865375956776227, 0.3409090909090909, 'x[9] <= 165.4\\nsquared_error = 54.08\\nsamples = 3\\nvalue = 2465.0'),\n",
              " Text(0.884736605132823, 0.29545454545454547, 'squared_error = 0.0\\nsamples = 2\\nvalue = 2459.8'),\n",
              " Text(0.8883385862224223, 0.29545454545454547, 'squared_error = -0.0\\nsamples = 1\\nvalue = 2475.4'),\n",
              " Text(0.8865375956776227, 0.38636363636363635, 'squared_error = 0.0\\nsamples = 1\\nvalue = 2409.8'),\n",
              " Text(0.884736605132823, 0.5681818181818182, 'x[10] <= 16.95\\nsquared_error = 2182.402\\nsamples = 3\\nvalue = 2290.533'),\n",
              " Text(0.8829356145880234, 0.5227272727272727, 'squared_error = 0.0\\nsamples = 2\\nvalue = 2257.5'),\n",
              " Text(0.8865375956776227, 0.5227272727272727, 'squared_error = -0.0\\nsamples = 1\\nvalue = 2356.6'),\n",
              " Text(0.8883385862224223, 0.6590909090909091, 'x[7] <= 370.75\\nsquared_error = 2710.709\\nsamples = 3\\nvalue = 2641.167'),\n",
              " Text(0.8865375956776227, 0.6136363636363636, 'squared_error = 0.0\\nsamples = 1\\nvalue = 2575.3'),\n",
              " Text(0.890139576767222, 0.6136363636363636, 'x[11] <= 6.6\\nsquared_error = 812.25\\nsamples = 2\\nvalue = 2674.1'),\n",
              " Text(0.8883385862224223, 0.5681818181818182, 'squared_error = 0.0\\nsamples = 1\\nvalue = 2702.6'),\n",
              " Text(0.8919405673120216, 0.5681818181818182, 'squared_error = 0.0\\nsamples = 1\\nvalue = 2645.6'),\n",
              " Text(0.9027465105808195, 0.7045454545454546, 'x[5] <= 466.0\\nsquared_error = 39227.058\\nsamples = 9\\nvalue = 2671.444'),\n",
              " Text(0.8991445294912201, 0.6590909090909091, 'x[6] <= 544.65\\nsquared_error = 18271.632\\nsamples = 4\\nvalue = 2499.825'),\n",
              " Text(0.8973435389464205, 0.6136363636363636, 'x[8] <= 367.8\\nsquared_error = 4794.829\\nsamples = 3\\nvalue = 2569.767'),\n",
              " Text(0.8955425484016208, 0.5681818181818182, 'x[0] <= 12.9\\nsquared_error = 1085.703\\nsamples = 2\\nvalue = 2524.65'),\n",
              " Text(0.8937415578568213, 0.5227272727272727, 'squared_error = 0.0\\nsamples = 1\\nvalue = 2557.6'),\n",
              " Text(0.8973435389464205, 0.5227272727272727, 'squared_error = 0.0\\nsamples = 1\\nvalue = 2491.7'),\n",
              " Text(0.8991445294912201, 0.5681818181818182, 'squared_error = 0.0\\nsamples = 1\\nvalue = 2660.0'),\n",
              " Text(0.9009455200360198, 0.6136363636363636, 'squared_error = 0.0\\nsamples = 1\\nvalue = 2290.0'),\n",
              " Text(0.9063484916704188, 0.6590909090909091, 'x[10] <= 41.55\\nsquared_error = 13578.742\\nsamples = 5\\nvalue = 2808.74'),\n",
              " Text(0.9045475011256191, 0.6136363636363636, 'squared_error = 0.0\\nsamples = 1\\nvalue = 2999.2'),\n",
              " Text(0.9081494822152184, 0.6136363636363636, 'x[6] <= 536.65\\nsquared_error = 5637.487\\nsamples = 4\\nvalue = 2761.125'),\n",
              " Text(0.9045475011256191, 0.5681818181818182, 'x[10] <= 126.45\\nsquared_error = 179.56\\nsamples = 2\\nvalue = 2827.8'),\n",
              " Text(0.9027465105808195, 0.5227272727272727, 'squared_error = 0.0\\nsamples = 1\\nvalue = 2814.4'),\n",
              " Text(0.9063484916704188, 0.5227272727272727, 'squared_error = -0.0\\nsamples = 1\\nvalue = 2841.2'),\n",
              " Text(0.9117514633048176, 0.5681818181818182, 'x[2] <= 27.4\\nsquared_error = 2204.303\\nsamples = 2\\nvalue = 2694.45'),\n",
              " Text(0.9099504727600181, 0.5227272727272727, 'squared_error = 0.0\\nsamples = 1\\nvalue = 2741.4'),\n",
              " Text(0.9135524538496173, 0.5227272727272727, 'squared_error = 0.0\\nsamples = 1\\nvalue = 2647.5'),\n",
              " Text(0.9162539396668168, 0.7954545454545454, 'x[4] <= 299.05\\nsquared_error = 83187.837\\nsamples = 12\\nvalue = 2908.65'),\n",
              " Text(0.9099504727600181, 0.75, 'x[12] <= 85.85\\nsquared_error = 48699.132\\nsamples = 5\\nvalue = 2677.9'),\n",
              " Text(0.9081494822152184, 0.7045454545454546, 'squared_error = 0.0\\nsamples = 1\\nvalue = 3118.5'),\n",
              " Text(0.9117514633048176, 0.7045454545454546, 'x[5] <= 419.4\\nsquared_error = 208.803\\nsamples = 4\\nvalue = 2567.75'),\n",
              " Text(0.9099504727600181, 0.6590909090909091, 'squared_error = 0.0\\nsamples = 2\\nvalue = 2553.3'),\n",
              " Text(0.9135524538496173, 0.6590909090909091, 'squared_error = 0.0\\nsamples = 2\\nvalue = 2582.2'),\n",
              " Text(0.9225574065736155, 0.75, 'x[1] <= 134.7\\nsquared_error = 42623.979\\nsamples = 7\\nvalue = 3073.471'),\n",
              " Text(0.9207564160288159, 0.7045454545454546, 'x[14] <= 1866.45\\nsquared_error = 6696.829\\nsamples = 6\\nvalue = 2995.067'),\n",
              " Text(0.9171544349392166, 0.6590909090909091, 'x[11] <= 26.1\\nsquared_error = 808.103\\nsamples = 4\\nvalue = 3049.45'),\n",
              " Text(0.9153534443944169, 0.6136363636363636, 'squared_error = 0.0\\nsamples = 1\\nvalue = 3094.5'),\n",
              " Text(0.9189554254840162, 0.6136363636363636, 'x[8] <= 384.6\\nsquared_error = 175.469\\nsamples = 3\\nvalue = 3034.433'),\n",
              " Text(0.9171544349392166, 0.5681818181818182, 'squared_error = 0.0\\nsamples = 2\\nvalue = 3043.8'),\n",
              " Text(0.9207564160288159, 0.5681818181818182, 'squared_error = 0.0\\nsamples = 1\\nvalue = 3015.7'),\n",
              " Text(0.9243583971184152, 0.6590909090909091, 'x[15] <= 379.2\\nsquared_error = 729.0\\nsamples = 2\\nvalue = 2886.3'),\n",
              " Text(0.9225574065736155, 0.6136363636363636, 'squared_error = 0.0\\nsamples = 1\\nvalue = 2859.3'),\n",
              " Text(0.9261593876632148, 0.6136363636363636, 'squared_error = 0.0\\nsamples = 1\\nvalue = 2913.3'),\n",
              " Text(0.9243583971184152, 0.7045454545454546, 'squared_error = -0.0\\nsamples = 1\\nvalue = 3543.9'),\n",
              " Text(0.9648806843764071, 0.8409090909090909, 'x[8] <= 309.5\\nsquared_error = 145100.817\\nsamples = 27\\nvalue = 3440.644'),\n",
              " Text(0.9473210265646106, 0.7954545454545454, 'x[5] <= 881.1\\nsquared_error = 49169.502\\nsamples = 12\\nvalue = 3194.433'),\n",
              " Text(0.939666816749212, 0.75, 'x[6] <= 1054.4\\nsquared_error = 21502.932\\nsamples = 8\\nvalue = 3073.362'),\n",
              " Text(0.935164340387213, 0.7045454545454546, 'x[7] <= 398.3\\nsquared_error = 8193.246\\nsamples = 6\\nvalue = 3002.45'),\n",
              " Text(0.9315623592976137, 0.6590909090909091, 'x[2] <= 27.5\\nsquared_error = 2275.29\\nsamples = 2\\nvalue = 2882.8'),\n",
              " Text(0.929761368752814, 0.6136363636363636, 'squared_error = 0.0\\nsamples = 1\\nvalue = 2835.1'),\n",
              " Text(0.9333633498424133, 0.6136363636363636, 'squared_error = -0.0\\nsamples = 1\\nvalue = 2930.5'),\n",
              " Text(0.9387663214768123, 0.6590909090909091, 'x[11] <= 39.7\\nsquared_error = 415.132\\nsamples = 4\\nvalue = 3062.275'),\n",
              " Text(0.9369653309320126, 0.6136363636363636, 'x[14] <= 2763.9\\nsquared_error = 87.669\\nsamples = 3\\nvalue = 3073.067'),\n",
              " Text(0.935164340387213, 0.5681818181818182, 'x[3] <= 50.65\\nsquared_error = 13.69\\nsamples = 2\\nvalue = 3066.8'),\n",
              " Text(0.9333633498424133, 0.5227272727272727, 'squared_error = 0.0\\nsamples = 1\\nvalue = 3070.5'),\n",
              " Text(0.9369653309320126, 0.5227272727272727, 'squared_error = -0.0\\nsamples = 1\\nvalue = 3063.1'),\n",
              " Text(0.9387663214768123, 0.5681818181818182, 'squared_error = -0.0\\nsamples = 1\\nvalue = 3085.6'),\n",
              " Text(0.9405673120216119, 0.6136363636363636, 'squared_error = 0.0\\nsamples = 1\\nvalue = 3029.9'),\n",
              " Text(0.9441692931112111, 0.7045454545454546, 'x[8] <= 225.7\\nsquared_error = 1089.0\\nsamples = 2\\nvalue = 3286.1'),\n",
              " Text(0.9423683025664116, 0.6590909090909091, 'squared_error = 0.0\\nsamples = 1\\nvalue = 3319.1'),\n",
              " Text(0.9459702836560108, 0.6590909090909091, 'squared_error = 0.0\\nsamples = 1\\nvalue = 3253.1'),\n",
              " Text(0.954975236380009, 0.75, 'x[6] <= 1104.25\\nsquared_error = 16553.762\\nsamples = 4\\nvalue = 3436.575'),\n",
              " Text(0.9513732552904097, 0.7045454545454546, 'x[12] <= 3.3\\nsquared_error = 3300.502\\nsamples = 2\\nvalue = 3326.65'),\n",
              " Text(0.9495722647456101, 0.6590909090909091, 'squared_error = 0.0\\nsamples = 1\\nvalue = 3269.2'),\n",
              " Text(0.9531742458352094, 0.6590909090909091, 'squared_error = 0.0\\nsamples = 1\\nvalue = 3384.1'),\n",
              " Text(0.9585772174696083, 0.7045454545454546, 'x[4] <= 155.95\\nsquared_error = 5640.01\\nsamples = 2\\nvalue = 3546.5'),\n",
              " Text(0.9567762269248087, 0.6590909090909091, 'squared_error = 0.0\\nsamples = 1\\nvalue = 3471.4'),\n",
              " Text(0.9603782080144079, 0.6590909090909091, 'squared_error = 0.0\\nsamples = 1\\nvalue = 3621.6'),\n",
              " Text(0.9824403421882035, 0.7954545454545454, 'x[5] <= 716.3\\nsquared_error = 134553.196\\nsamples = 15\\nvalue = 3637.613'),\n",
              " Text(0.9738856371004052, 0.75, 'x[10] <= 26.25\\nsquared_error = 23095.284\\nsamples = 10\\nvalue = 3413.34'),\n",
              " Text(0.9675821701936065, 0.7045454545454546, 'x[8] <= 466.5\\nsquared_error = 5720.589\\nsamples = 6\\nvalue = 3311.45'),\n",
              " Text(0.9639801891040072, 0.6590909090909091, 'x[4] <= 416.75\\nsquared_error = 619.415\\nsamples = 4\\nvalue = 3261.7'),\n",
              " Text(0.9621791985592075, 0.6136363636363636, 'x[3] <= 88.75\\nsquared_error = 4.109\\nsamples = 3\\nvalue = 3276.033'),\n",
              " Text(0.9603782080144079, 0.5681818181818182, 'squared_error = 0.0\\nsamples = 1\\nvalue = 3278.9'),\n",
              " Text(0.9639801891040072, 0.5681818181818182, 'squared_error = -0.0\\nsamples = 2\\nvalue = 3274.6'),\n",
              " Text(0.9657811796488068, 0.6136363636363636, 'squared_error = -0.0\\nsamples = 1\\nvalue = 3218.7'),\n",
              " Text(0.9711841512832058, 0.6590909090909091, 'x[12] <= 63.1\\nsquared_error = 1072.562\\nsamples = 2\\nvalue = 3410.95'),\n",
              " Text(0.9693831607384061, 0.6136363636363636, 'squared_error = 0.0\\nsamples = 1\\nvalue = 3443.7'),\n",
              " Text(0.9729851418280054, 0.6136363636363636, 'squared_error = 0.0\\nsamples = 1\\nvalue = 3378.2'),\n",
              " Text(0.9801891040072039, 0.7045454545454546, 'x[5] <= 658.4\\nsquared_error = 10226.432\\nsamples = 4\\nvalue = 3566.175'),\n",
              " Text(0.9783881134624043, 0.6590909090909091, 'x[5] <= 629.95\\nsquared_error = 1273.509\\nsamples = 3\\nvalue = 3621.767'),\n",
              " Text(0.9765871229176046, 0.6136363636363636, 'squared_error = 0.0\\nsamples = 1\\nvalue = 3571.5'),\n",
              " Text(0.9801891040072039, 0.6136363636363636, 'x[13] <= 844.1\\nsquared_error = 15.21\\nsamples = 2\\nvalue = 3646.9'),\n",
              " Text(0.9783881134624043, 0.5681818181818182, 'squared_error = 0.0\\nsamples = 1\\nvalue = 3643.0'),\n",
              " Text(0.9819900945520036, 0.5681818181818182, 'squared_error = 0.0\\nsamples = 1\\nvalue = 3650.8'),\n",
              " Text(0.9819900945520036, 0.6590909090909091, 'squared_error = 0.0\\nsamples = 1\\nvalue = 3399.4'),\n",
              " Text(0.9909950472760019, 0.75, 'x[11] <= 17.2\\nsquared_error = 55677.85\\nsamples = 5\\nvalue = 4086.16'),\n",
              " Text(0.9873930661864025, 0.7045454545454546, 'x[7] <= 755.35\\nsquared_error = 5155.24\\nsamples = 2\\nvalue = 3844.0'),\n",
              " Text(0.9855920756416029, 0.6590909090909091, 'squared_error = 0.0\\nsamples = 1\\nvalue = 3772.2'),\n",
              " Text(0.9891940567312022, 0.6590909090909091, 'squared_error = -0.0\\nsamples = 1\\nvalue = 3915.8'),\n",
              " Text(0.994597028365601, 0.7045454545454546, 'x[5] <= 770.1\\nsquared_error = 24202.407\\nsamples = 3\\nvalue = 4247.6'),\n",
              " Text(0.9927960378208014, 0.6590909090909091, 'squared_error = 0.0\\nsamples = 1\\nvalue = 4034.7'),\n",
              " Text(0.9963980189104007, 0.6590909090909091, 'x[0] <= 37.85\\nsquared_error = 2308.803\\nsamples = 2\\nvalue = 4354.05'),\n",
              " Text(0.994597028365601, 0.6136363636363636, 'squared_error = 0.0\\nsamples = 1\\nvalue = 4306.0'),\n",
              " Text(0.9981990094552003, 0.6136363636363636, 'squared_error = 0.0\\nsamples = 1\\nvalue = 4402.1'),\n",
              " Text(0.9702836560108059, 0.8863636363636364, 'x[3] <= 372.0\\nsquared_error = 282598.56\\nsamples = 2\\nvalue = 6697.7'),\n",
              " Text(0.9684826654660063, 0.8409090909090909, 'squared_error = 0.0\\nsamples = 1\\nvalue = 6166.1'),\n",
              " Text(0.9720846465556056, 0.8409090909090909, 'squared_error = -0.0\\nsamples = 1\\nvalue = 7229.3')]"
            ]
          },
          "metadata": {},
          "execution_count": 25
        },
        {
          "output_type": "display_data",
          "data": {
            "text/plain": [
              "<Figure size 640x480 with 1 Axes>"
            ],
            "image/png": "[encoded data removed]"
          },
          "metadata": {}
        }
      ]
    },
    {
      "cell_type": "code",
      "source": [
        "print(yp)"
      ],
      "metadata": {
        "colab": {
          "base_uri": "https://localhost:8080/"
        },
        "id": "sw4pWQJ-pbEL",
        "outputId": "e9611467-f694-4af6-ec88-4b790c35fe3c"
      },
      "execution_count": 26,
      "outputs": [
        {
          "output_type": "stream",
          "name": "stdout",
          "text": [
            "[1146.8 1143.7 1304.7 1083.1 2575.3  716.2  979.4  986.9  554.5 1121.3\n",
            "  959.3 3915.8 1160.1  274.  2647.5  394.1 2814.4 1997.1 1095.9  624.1\n",
            " 2409.8 2150.9 1120.  2859.3 1293.1 3443.7  887.4  949.6 1292.7 1600.\n",
            " 3094.5 1013.3  902.1  419.8  747.1  557.4 1341.   820.1  554.5 3218.7\n",
            "  829.6 2660.   760.5 1336.5  489.  1533.5 6166.1  968.1  870.  1120.\n",
            " 2582.2  641.2 1054.5  721.7 1385.  2030.9 1544.4  731.1  791.9 2814.4\n",
            "  959.3  747.1 1336.5  394.1  890.7 2221.5 1197.1  716.2 1293.1  921.2\n",
            "  968.1  747.1 1472.   644.2  419.8  673.6 2660.  2030.9  820.1 1743.7\n",
            " 1533.5  820.1 1324.2 1572.7 3029.9  554.5 1146.8 1397.  1148.6 1143.9\n",
            " 2374.1  883.  1743.5 1132.   885.9 2168.6  957.2  401.4  722.1 1421.3\n",
            " 1448.3  890.7 1196.  1051.5  851.3  820.1  968.1  415.6 1152.6 1191.8\n",
            " 2814.4 1013.3  949.1  274.   816.3 1292.7 1116.2  274.  1088.1 3399.4\n",
            "  968.1 1336.5 2030.9 1273.8 1632.2 1120.7  752.7 3118.5 1227.7]\n"
          ]
        }
      ]
    },
    {
      "cell_type": "code",
      "source": [
        "print(mean_squared_error(y_test,yp))"
      ],
      "metadata": {
        "colab": {
          "base_uri": "https://localhost:8080/"
        },
        "id": "QAN5xCazpdb8",
        "outputId": "e8d9eb5e-17c2-4830-8c79-c43cf4bc13c6"
      },
      "execution_count": 27,
      "outputs": [
        {
          "output_type": "stream",
          "name": "stdout",
          "text": [
            "23785.42620155039\n"
          ]
        }
      ]
    },
    {
      "cell_type": "code",
      "source": [
        "import pandas as pd\n",
        "from sklearn.svm import SVR\n",
        "from sklearn.model_selection import train_test_split\n",
        "from sklearn.metrics import accuracy_score"
      ],
      "metadata": {
        "id": "uw5nNVeOphdU"
      },
      "execution_count": 28,
      "outputs": []
    },
    {
      "cell_type": "code",
      "source": [
        "model = SVR(kernel='linear')"
      ],
      "metadata": {
        "id": "P3JSILXypkum"
      },
      "execution_count": 29,
      "outputs": []
    },
    {
      "cell_type": "code",
      "source": [
        "model.fit(x_train,y_train)"
      ],
      "metadata": {
        "colab": {
          "base_uri": "https://localhost:8080/",
          "height": 74
        },
        "id": "pyPAuBxopnOn",
        "outputId": "23662618-0110-4f38-8516-328e688b8c32"
      },
      "execution_count": 30,
      "outputs": [
        {
          "output_type": "execute_result",
          "data": {
            "text/plain": [
              "SVR(kernel='linear')"
            ],
            "text/html": [
              "<style>#sk-container-id-2 {color: black;background-color: white;}#sk-container-id-2 pre{padding: 0;}#sk-container-id-2 div.sk-toggleable {background-color: white;}#sk-container-id-2 label.sk-toggleable__label {cursor: pointer;display: block;width: 100%;margin-bottom: 0;padding: 0.3em;box-sizing: border-box;text-align: center;}#sk-container-id-2 label.sk-toggleable__label-arrow:before {content: \"▸\";float: left;margin-right: 0.25em;color: #696969;}#sk-container-id-2 label.sk-toggleable__label-arrow:hover:before {color: black;}#sk-container-id-2 div.sk-estimator:hover label.sk-toggleable__label-arrow:before {color: black;}#sk-container-id-2 div.sk-toggleable__content {max-height: 0;max-width: 0;overflow: hidden;text-align: left;background-color: #f0f8ff;}#sk-container-id-2 div.sk-toggleable__content pre {margin: 0.2em;color: black;border-radius: 0.25em;background-color: #f0f8ff;}#sk-container-id-2 input.sk-toggleable__control:checked~div.sk-toggleable__content {max-height: 200px;max-width: 100%;overflow: auto;}#sk-container-id-2 input.sk-toggleable__control:checked~label.sk-toggleable__label-arrow:before {content: \"▾\";}#sk-container-id-2 div.sk-estimator input.sk-toggleable__control:checked~label.sk-toggleable__label {background-color: #d4ebff;}#sk-container-id-2 div.sk-label input.sk-toggleable__control:checked~label.sk-toggleable__label {background-color: #d4ebff;}#sk-container-id-2 input.sk-hidden--visually {border: 0;clip: rect(1px 1px 1px 1px);clip: rect(1px, 1px, 1px, 1px);height: 1px;margin: -1px;overflow: hidden;padding: 0;position: absolute;width: 1px;}#sk-container-id-2 div.sk-estimator {font-family: monospace;background-color: #f0f8ff;border: 1px dotted black;border-radius: 0.25em;box-sizing: border-box;margin-bottom: 0.5em;}#sk-container-id-2 div.sk-estimator:hover {background-color: #d4ebff;}#sk-container-id-2 div.sk-parallel-item::after {content: \"\";width: 100%;border-bottom: 1px solid gray;flex-grow: 1;}#sk-container-id-2 div.sk-label:hover label.sk-toggleable__label {background-color: #d4ebff;}#sk-container-id-2 div.sk-serial::before {content: \"\";position: absolute;border-left: 1px solid gray;box-sizing: border-box;top: 0;bottom: 0;left: 50%;z-index: 0;}#sk-container-id-2 div.sk-serial {display: flex;flex-direction: column;align-items: center;background-color: white;padding-right: 0.2em;padding-left: 0.2em;position: relative;}#sk-container-id-2 div.sk-item {position: relative;z-index: 1;}#sk-container-id-2 div.sk-parallel {display: flex;align-items: stretch;justify-content: center;background-color: white;position: relative;}#sk-container-id-2 div.sk-item::before, #sk-container-id-2 div.sk-parallel-item::before {content: \"\";position: absolute;border-left: 1px solid gray;box-sizing: border-box;top: 0;bottom: 0;left: 50%;z-index: -1;}#sk-container-id-2 div.sk-parallel-item {display: flex;flex-direction: column;z-index: 1;position: relative;background-color: white;}#sk-container-id-2 div.sk-parallel-item:first-child::after {align-self: flex-end;width: 50%;}#sk-container-id-2 div.sk-parallel-item:last-child::after {align-self: flex-start;width: 50%;}#sk-container-id-2 div.sk-parallel-item:only-child::after {width: 0;}#sk-container-id-2 div.sk-dashed-wrapped {border: 1px dashed gray;margin: 0 0.4em 0.5em 0.4em;box-sizing: border-box;padding-bottom: 0.4em;background-color: white;}#sk-container-id-2 div.sk-label label {font-family: monospace;font-weight: bold;display: inline-block;line-height: 1.2em;}#sk-container-id-2 div.sk-label-container {text-align: center;}#sk-container-id-2 div.sk-container {/* jupyter's `normalize.less` sets `[hidden] { display: none; }` but bootstrap.min.css set `[hidden] { display: none !important; }` so we also need the `!important` here to be able to override the default hidden behavior on the sphinx rendered scikit-learn.org. See: https://github.com/scikit-learn/scikit-learn/issues/21755 */display: inline-block !important;position: relative;}#sk-container-id-2 div.sk-text-repr-fallback {display: none;}</style><div id=\"sk-container-id-2\" class=\"sk-top-container\"><div class=\"sk-text-repr-fallback\"><pre>SVR(kernel=&#x27;linear&#x27;)</pre><b>In a Jupyter environment, please rerun this cell to show the HTML representation or trust the notebook. <br />On GitHub, the HTML representation is unable to render, please try loading this page with nbviewer.org.</b></div><div class=\"sk-container\" hidden><div class=\"sk-item\"><div class=\"sk-estimator sk-toggleable\"><input class=\"sk-toggleable__control sk-hidden--visually\" id=\"sk-estimator-id-2\" type=\"checkbox\" checked><label for=\"sk-estimator-id-2\" class=\"sk-toggleable__label sk-toggleable__label-arrow\">SVR</label><div class=\"sk-toggleable__content\"><pre>SVR(kernel=&#x27;linear&#x27;)</pre></div></div></div></div></div>"
            ]
          },
          "metadata": {},
          "execution_count": 30
        }
      ]
    },
    {
      "cell_type": "code",
      "source": [
        "y_pred=model.predict(x_test)"
      ],
      "metadata": {
        "id": "KsRuJTmbpqDC"
      },
      "execution_count": 31,
      "outputs": []
    },
    {
      "cell_type": "code",
      "source": [
        "mae = mean_absolute_error(y_test, y_pred)\n",
        "print(\"Mean Absolute Error:\", mae)"
      ],
      "metadata": {
        "colab": {
          "base_uri": "https://localhost:8080/"
        },
        "id": "_G4Rh9m2psj8",
        "outputId": "1d1b5015-bfc0-44ef-f873-ed5720a6f6b0"
      },
      "execution_count": 32,
      "outputs": [
        {
          "output_type": "stream",
          "name": "stdout",
          "text": [
            "Mean Absolute Error: 0.04753588620007877\n"
          ]
        }
      ]
    },
    {
      "cell_type": "code",
      "source": [
        "mse = mean_squared_error(y_test, y_pred)\n",
        "print(\"Mean Squared Error:\", mse)"
      ],
      "metadata": {
        "colab": {
          "base_uri": "https://localhost:8080/"
        },
        "id": "f4xsKqo4pvoa",
        "outputId": "9ce17fb4-51b1-497f-aae3-62b5305d3aa7"
      },
      "execution_count": 33,
      "outputs": [
        {
          "output_type": "stream",
          "name": "stdout",
          "text": [
            "Mean Squared Error: 0.003450724484773055\n"
          ]
        }
      ]
    },
    {
      "cell_type": "code",
      "source": [
        "from sklearn.metrics import mean_squared_error\n",
        "print(mean_squared_error(yp,y_test))"
      ],
      "metadata": {
        "colab": {
          "base_uri": "https://localhost:8080/"
        },
        "id": "GbCFZxsWpyh1",
        "outputId": "890e32ca-94bc-424f-b2c2-dbb49e24298c"
      },
      "execution_count": 34,
      "outputs": [
        {
          "output_type": "stream",
          "name": "stdout",
          "text": [
            "23785.42620155039\n"
          ]
        }
      ]
    },
    {
      "cell_type": "code",
      "source": [
        "from sklearn.metrics import mean_absolute_error\n",
        "print(mean_absolute_error(yp,y_test))"
      ],
      "metadata": {
        "colab": {
          "base_uri": "https://localhost:8080/"
        },
        "id": "ZszDqE0Kp01W",
        "outputId": "aaa56fc3-dfcd-4004-b701-915a29971cf3"
      },
      "execution_count": 35,
      "outputs": [
        {
          "output_type": "stream",
          "name": "stdout",
          "text": [
            "85.6387596899225\n"
          ]
        }
      ]
    },
    {
      "cell_type": "code",
      "source": [
        "import pandas as pd\n",
        "from sklearn.neighbors import KNeighborsRegressor\n",
        "from sklearn.model_selection import train_test_split\n",
        "from sklearn.metrics import mean_absolute_error"
      ],
      "metadata": {
        "id": "z4oo1uNzp4AR"
      },
      "execution_count": 36,
      "outputs": []
    },
    {
      "cell_type": "code",
      "source": [
        "knn = KNeighborsRegressor(n_neighbors=3)"
      ],
      "metadata": {
        "id": "dTESy2abp7id"
      },
      "execution_count": 37,
      "outputs": []
    },
    {
      "cell_type": "code",
      "source": [
        "knn.fit(x_train, y_train)"
      ],
      "metadata": {
        "colab": {
          "base_uri": "https://localhost:8080/",
          "height": 74
        },
        "id": "lMxLgYw3p-Hl",
        "outputId": "63fb12ef-c985-4bcd-c41c-0e31213a2880"
      },
      "execution_count": 38,
      "outputs": [
        {
          "output_type": "execute_result",
          "data": {
            "text/plain": [
              "KNeighborsRegressor(n_neighbors=3)"
            ],
            "text/html": [
              "<style>#sk-container-id-3 {color: black;background-color: white;}#sk-container-id-3 pre{padding: 0;}#sk-container-id-3 div.sk-toggleable {background-color: white;}#sk-container-id-3 label.sk-toggleable__label {cursor: pointer;display: block;width: 100%;margin-bottom: 0;padding: 0.3em;box-sizing: border-box;text-align: center;}#sk-container-id-3 label.sk-toggleable__label-arrow:before {content: \"▸\";float: left;margin-right: 0.25em;color: #696969;}#sk-container-id-3 label.sk-toggleable__label-arrow:hover:before {color: black;}#sk-container-id-3 div.sk-estimator:hover label.sk-toggleable__label-arrow:before {color: black;}#sk-container-id-3 div.sk-toggleable__content {max-height: 0;max-width: 0;overflow: hidden;text-align: left;background-color: #f0f8ff;}#sk-container-id-3 div.sk-toggleable__content pre {margin: 0.2em;color: black;border-radius: 0.25em;background-color: #f0f8ff;}#sk-container-id-3 input.sk-toggleable__control:checked~div.sk-toggleable__content {max-height: 200px;max-width: 100%;overflow: auto;}#sk-container-id-3 input.sk-toggleable__control:checked~label.sk-toggleable__label-arrow:before {content: \"▾\";}#sk-container-id-3 div.sk-estimator input.sk-toggleable__control:checked~label.sk-toggleable__label {background-color: #d4ebff;}#sk-container-id-3 div.sk-label input.sk-toggleable__control:checked~label.sk-toggleable__label {background-color: #d4ebff;}#sk-container-id-3 input.sk-hidden--visually {border: 0;clip: rect(1px 1px 1px 1px);clip: rect(1px, 1px, 1px, 1px);height: 1px;margin: -1px;overflow: hidden;padding: 0;position: absolute;width: 1px;}#sk-container-id-3 div.sk-estimator {font-family: monospace;background-color: #f0f8ff;border: 1px dotted black;border-radius: 0.25em;box-sizing: border-box;margin-bottom: 0.5em;}#sk-container-id-3 div.sk-estimator:hover {background-color: #d4ebff;}#sk-container-id-3 div.sk-parallel-item::after {content: \"\";width: 100%;border-bottom: 1px solid gray;flex-grow: 1;}#sk-container-id-3 div.sk-label:hover label.sk-toggleable__label {background-color: #d4ebff;}#sk-container-id-3 div.sk-serial::before {content: \"\";position: absolute;border-left: 1px solid gray;box-sizing: border-box;top: 0;bottom: 0;left: 50%;z-index: 0;}#sk-container-id-3 div.sk-serial {display: flex;flex-direction: column;align-items: center;background-color: white;padding-right: 0.2em;padding-left: 0.2em;position: relative;}#sk-container-id-3 div.sk-item {position: relative;z-index: 1;}#sk-container-id-3 div.sk-parallel {display: flex;align-items: stretch;justify-content: center;background-color: white;position: relative;}#sk-container-id-3 div.sk-item::before, #sk-container-id-3 div.sk-parallel-item::before {content: \"\";position: absolute;border-left: 1px solid gray;box-sizing: border-box;top: 0;bottom: 0;left: 50%;z-index: -1;}#sk-container-id-3 div.sk-parallel-item {display: flex;flex-direction: column;z-index: 1;position: relative;background-color: white;}#sk-container-id-3 div.sk-parallel-item:first-child::after {align-self: flex-end;width: 50%;}#sk-container-id-3 div.sk-parallel-item:last-child::after {align-self: flex-start;width: 50%;}#sk-container-id-3 div.sk-parallel-item:only-child::after {width: 0;}#sk-container-id-3 div.sk-dashed-wrapped {border: 1px dashed gray;margin: 0 0.4em 0.5em 0.4em;box-sizing: border-box;padding-bottom: 0.4em;background-color: white;}#sk-container-id-3 div.sk-label label {font-family: monospace;font-weight: bold;display: inline-block;line-height: 1.2em;}#sk-container-id-3 div.sk-label-container {text-align: center;}#sk-container-id-3 div.sk-container {/* jupyter's `normalize.less` sets `[hidden] { display: none; }` but bootstrap.min.css set `[hidden] { display: none !important; }` so we also need the `!important` here to be able to override the default hidden behavior on the sphinx rendered scikit-learn.org. See: https://github.com/scikit-learn/scikit-learn/issues/21755 */display: inline-block !important;position: relative;}#sk-container-id-3 div.sk-text-repr-fallback {display: none;}</style><div id=\"sk-container-id-3\" class=\"sk-top-container\"><div class=\"sk-text-repr-fallback\"><pre>KNeighborsRegressor(n_neighbors=3)</pre><b>In a Jupyter environment, please rerun this cell to show the HTML representation or trust the notebook. <br />On GitHub, the HTML representation is unable to render, please try loading this page with nbviewer.org.</b></div><div class=\"sk-container\" hidden><div class=\"sk-item\"><div class=\"sk-estimator sk-toggleable\"><input class=\"sk-toggleable__control sk-hidden--visually\" id=\"sk-estimator-id-3\" type=\"checkbox\" checked><label for=\"sk-estimator-id-3\" class=\"sk-toggleable__label sk-toggleable__label-arrow\">KNeighborsRegressor</label><div class=\"sk-toggleable__content\"><pre>KNeighborsRegressor(n_neighbors=3)</pre></div></div></div></div></div>"
            ]
          },
          "metadata": {},
          "execution_count": 38
        }
      ]
    },
    {
      "cell_type": "code",
      "source": [
        "y_pred = knn.predict(x_test)"
      ],
      "metadata": {
        "id": "zpIWcV0UqArZ"
      },
      "execution_count": 39,
      "outputs": []
    },
    {
      "cell_type": "code",
      "source": [
        "mae = mean_absolute_error(y_test, y_pred)\n",
        "print(\"Mean Absolute Error:\", mae)"
      ],
      "metadata": {
        "colab": {
          "base_uri": "https://localhost:8080/"
        },
        "id": "074YDFGfqEOf",
        "outputId": "5b4705a4-4efd-4482-f89a-e15bf14964b2"
      },
      "execution_count": 40,
      "outputs": [
        {
          "output_type": "stream",
          "name": "stdout",
          "text": [
            "Mean Absolute Error: 50.94470284237724\n"
          ]
        }
      ]
    },
    {
      "cell_type": "code",
      "source": [
        "mse = mean_squared_error(y_test, y_pred)\n",
        "print(\"Mean Squared Error:\", mse)"
      ],
      "metadata": {
        "colab": {
          "base_uri": "https://localhost:8080/"
        },
        "id": "zCVLQYaNqHMu",
        "outputId": "0fe51e1c-c980-48ad-e79f-e7df1038e71a"
      },
      "execution_count": 41,
      "outputs": [
        {
          "output_type": "stream",
          "name": "stdout",
          "text": [
            "Mean Squared Error: 7804.861584840647\n"
          ]
        }
      ]
    },
    {
      "cell_type": "code",
      "source": [
        "from sklearn.metrics import mean_squared_error\n",
        "print(mean_squared_error(yp,y_test))"
      ],
      "metadata": {
        "colab": {
          "base_uri": "https://localhost:8080/"
        },
        "id": "6qdwpBB0qJnm",
        "outputId": "c29cedcf-ec42-4b26-c679-1f3a764b7680"
      },
      "execution_count": 42,
      "outputs": [
        {
          "output_type": "stream",
          "name": "stdout",
          "text": [
            "23785.42620155039\n"
          ]
        }
      ]
    },
    {
      "cell_type": "code",
      "source": [
        "from sklearn.metrics import mean_absolute_error\n",
        "print(mean_absolute_error(yp,y_test))"
      ],
      "metadata": {
        "colab": {
          "base_uri": "https://localhost:8080/"
        },
        "id": "7EB9Zo2vqMEW",
        "outputId": "91aca405-354d-4f22-e405-7a3753563bdb"
      },
      "execution_count": 43,
      "outputs": [
        {
          "output_type": "stream",
          "name": "stdout",
          "text": [
            "85.6387596899225\n"
          ]
        }
      ]
    },
    {
      "cell_type": "markdown",
      "source": [
        "## RANDOM FOREST"
      ],
      "metadata": {
        "id": "wCBh6EgHq3t7"
      }
    },
    {
      "cell_type": "code",
      "source": [
        "# Import necessary libraries\n",
        "import pandas as pd\n",
        "from sklearn.model_selection import train_test_split\n",
        "from sklearn.ensemble import RandomForestRegressor\n",
        "from sklearn.metrics import mean_squared_error, r2_score\n",
        "\n",
        "# Load your rainfall dataset (replace with your actual data)\n",
        "# For example, you can use the Austin, Texas weather dataset from Kaggle\n",
        "# Read the data into a Pandas DataFrame\n",
        "data = pd.read_csv('district.csv')\n",
        "\n",
        "print(f\"Random Forest Model Performance:\")\n",
        "print(f\"MSE: {mse:.2f}\")\n",
        "print(f\"MAE: {mae:.2f}\")"
      ],
      "metadata": {
        "colab": {
          "base_uri": "https://localhost:8080/"
        },
        "id": "1ESIjCVdqOoe",
        "outputId": "829b784b-a47e-499b-a9c2-e8236fe22be4"
      },
      "execution_count": 44,
      "outputs": [
        {
          "output_type": "stream",
          "name": "stdout",
          "text": [
            "Random Forest Model Performance:\n",
            "MSE: 7804.86\n",
            "MAE: 50.94\n"
          ]
        }
      ]
    }
  ]
}